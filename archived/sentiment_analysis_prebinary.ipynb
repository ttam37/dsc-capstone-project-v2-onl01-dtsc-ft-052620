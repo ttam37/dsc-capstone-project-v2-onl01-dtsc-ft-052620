{
 "cells": [
  {
   "cell_type": "code",
   "execution_count": 22,
   "metadata": {},
   "outputs": [],
   "source": [
    "import pandas as pd\n",
    "import numpy as np\n",
    "import matplotlib.pyplot as plt\n",
    "import seaborn as sns\n",
    "from collections import Counter\n",
    "import warnings\n",
    "warnings.filterwarnings('ignore')\n",
    "\n",
    "from sklearn.feature_extraction.text import TfidfVectorizer\n",
    "from sklearn.model_selection import train_test_split\n",
    "from sklearn.metrics import plot_confusion_matrix\n",
    "from sklearn.metrics import confusion_matrix\n",
    "from sklearn.metrics import classification_report\n",
    "from sklearn.ensemble import RandomForestClassifier\n",
    "from sklearn.neighbors import KNeighborsClassifier\n",
    "from sklearn.model_selection import GridSearchCV\n",
    "from sklearn.metrics import accuracy_score\n",
    "\n",
    "import string\n",
    "import re\n",
    "import nltk\n",
    "from nltk.corpus import stopwords\n",
    "from nltk import PorterStemmer\n",
    "from nltk import FreqDist\n",
    "from nltk.tokenize import word_tokenize"
   ]
  },
  {
   "cell_type": "markdown",
   "metadata": {},
   "source": [
    "# Import Data"
   ]
  },
  {
   "cell_type": "code",
   "execution_count": 13,
   "metadata": {},
   "outputs": [
    {
     "data": {
      "text/html": [
       "<div>\n",
       "<style scoped>\n",
       "    .dataframe tbody tr th:only-of-type {\n",
       "        vertical-align: middle;\n",
       "    }\n",
       "\n",
       "    .dataframe tbody tr th {\n",
       "        vertical-align: top;\n",
       "    }\n",
       "\n",
       "    .dataframe thead th {\n",
       "        text-align: right;\n",
       "    }\n",
       "</style>\n",
       "<table border=\"1\" class=\"dataframe\">\n",
       "  <thead>\n",
       "    <tr style=\"text-align: right;\">\n",
       "      <th></th>\n",
       "      <th>asin_id</th>\n",
       "      <th>name</th>\n",
       "      <th>price</th>\n",
       "      <th>avg_rating</th>\n",
       "      <th>no_of_ratings</th>\n",
       "      <th>review_id</th>\n",
       "      <th>review_title</th>\n",
       "      <th>review_description</th>\n",
       "      <th>user_rating</th>\n",
       "      <th>cleaned_title</th>\n",
       "      <th>cleaned_reviews</th>\n",
       "    </tr>\n",
       "  </thead>\n",
       "  <tbody>\n",
       "    <tr>\n",
       "      <th>0</th>\n",
       "      <td>B076HK9H7Z</td>\n",
       "      <td>Sorry! Game</td>\n",
       "      <td>0.0</td>\n",
       "      <td>4.7</td>\n",
       "      <td>7555</td>\n",
       "      <td>R1OSPWS88F2CUZ</td>\n",
       "      <td>DO NOT BUY!!!</td>\n",
       "      <td>I would give this zero stars if I could! If ...</td>\n",
       "      <td>1.0</td>\n",
       "      <td>buy</td>\n",
       "      <td>would give zero stars could youre original sor...</td>\n",
       "    </tr>\n",
       "    <tr>\n",
       "      <th>1</th>\n",
       "      <td>B076HK9H7Z</td>\n",
       "      <td>Sorry! Game</td>\n",
       "      <td>0.0</td>\n",
       "      <td>4.7</td>\n",
       "      <td>7555</td>\n",
       "      <td>R1DCFJ8VYSN17B</td>\n",
       "      <td>Is this the millennial version?</td>\n",
       "      <td>This is not the original sorry game. It only...</td>\n",
       "      <td>1.0</td>\n",
       "      <td>millennial version</td>\n",
       "      <td>original sorry game  pawns per team instead tr...</td>\n",
       "    </tr>\n",
       "    <tr>\n",
       "      <th>2</th>\n",
       "      <td>B076HK9H7Z</td>\n",
       "      <td>Sorry! Game</td>\n",
       "      <td>0.0</td>\n",
       "      <td>4.7</td>\n",
       "      <td>7555</td>\n",
       "      <td>R1V07N4GXA7RSL</td>\n",
       "      <td>Wimp and Crybaby Edition</td>\n",
       "      <td>We bought this to replace our old Sorry game...</td>\n",
       "      <td>1.0</td>\n",
       "      <td>wimp crybaby edition</td>\n",
       "      <td>bought replace old sorry game falling apart  w...</td>\n",
       "    </tr>\n",
       "    <tr>\n",
       "      <th>3</th>\n",
       "      <td>B076HK9H7Z</td>\n",
       "      <td>Sorry! Game</td>\n",
       "      <td>0.0</td>\n",
       "      <td>4.7</td>\n",
       "      <td>7555</td>\n",
       "      <td>R2Z262NZDEU2EY</td>\n",
       "      <td>NOT the original/regular Sorry!</td>\n",
       "      <td>Be warned that this is not the sorry you gre...</td>\n",
       "      <td>2.0</td>\n",
       "      <td>originalregular sorry</td>\n",
       "      <td>warned sorry grew three tokens per player rule...</td>\n",
       "    </tr>\n",
       "    <tr>\n",
       "      <th>4</th>\n",
       "      <td>B076HK9H7Z</td>\n",
       "      <td>Sorry! Game</td>\n",
       "      <td>0.0</td>\n",
       "      <td>4.7</td>\n",
       "      <td>7555</td>\n",
       "      <td>RG3XIFV1PUX9Y</td>\n",
       "      <td>Not the classic by a long shot, but okay.</td>\n",
       "      <td>Definitely not the classic game, with only 3...</td>\n",
       "      <td>4.0</td>\n",
       "      <td>classic long shot okay</td>\n",
       "      <td>definitely classic game  pawns cards instead d...</td>\n",
       "    </tr>\n",
       "  </tbody>\n",
       "</table>\n",
       "</div>"
      ],
      "text/plain": [
       "      asin_id         name  price  avg_rating  no_of_ratings       review_id  \\\n",
       "0  B076HK9H7Z  Sorry! Game    0.0         4.7           7555  R1OSPWS88F2CUZ   \n",
       "1  B076HK9H7Z  Sorry! Game    0.0         4.7           7555  R1DCFJ8VYSN17B   \n",
       "2  B076HK9H7Z  Sorry! Game    0.0         4.7           7555  R1V07N4GXA7RSL   \n",
       "3  B076HK9H7Z  Sorry! Game    0.0         4.7           7555  R2Z262NZDEU2EY   \n",
       "4  B076HK9H7Z  Sorry! Game    0.0         4.7           7555   RG3XIFV1PUX9Y   \n",
       "\n",
       "                                review_title  \\\n",
       "0                              DO NOT BUY!!!   \n",
       "1            Is this the millennial version?   \n",
       "2                   Wimp and Crybaby Edition   \n",
       "3            NOT the original/regular Sorry!   \n",
       "4  Not the classic by a long shot, but okay.   \n",
       "\n",
       "                                  review_description  user_rating  \\\n",
       "0    I would give this zero stars if I could! If ...          1.0   \n",
       "1    This is not the original sorry game. It only...          1.0   \n",
       "2    We bought this to replace our old Sorry game...          1.0   \n",
       "3    Be warned that this is not the sorry you gre...          2.0   \n",
       "4    Definitely not the classic game, with only 3...          4.0   \n",
       "\n",
       "            cleaned_title                                    cleaned_reviews  \n",
       "0                     buy  would give zero stars could youre original sor...  \n",
       "1      millennial version  original sorry game  pawns per team instead tr...  \n",
       "2    wimp crybaby edition  bought replace old sorry game falling apart  w...  \n",
       "3   originalregular sorry  warned sorry grew three tokens per player rule...  \n",
       "4  classic long shot okay  definitely classic game  pawns cards instead d...  "
      ]
     },
     "execution_count": 13,
     "metadata": {},
     "output_type": "execute_result"
    }
   ],
   "source": [
    "final_df = pd.read_csv('csv_files_test/cleaned_items_reviews_df.csv',index_col=0)\n",
    "final_df.head()"
   ]
  },
  {
   "cell_type": "code",
   "execution_count": 14,
   "metadata": {},
   "outputs": [],
   "source": [
    "# drop rows where cleaned_reviews are na\n",
    "final_df.isna()\n",
    "final_df = final_df.dropna(subset=['cleaned_reviews'])"
   ]
  },
  {
   "cell_type": "markdown",
   "metadata": {},
   "source": [
    "# Class Imbalance"
   ]
  },
  {
   "cell_type": "code",
   "execution_count": 74,
   "metadata": {},
   "outputs": [
    {
     "data": {
      "text/plain": [
       "5.0    3495\n",
       "4.0     704\n",
       "1.0     566\n",
       "3.0     444\n",
       "2.0     278\n",
       "Name: user_rating, dtype: int64"
      ]
     },
     "execution_count": 74,
     "metadata": {},
     "output_type": "execute_result"
    }
   ],
   "source": [
    "final_df['user_rating'].value_counts()"
   ]
  },
  {
   "cell_type": "code",
   "execution_count": 75,
   "metadata": {},
   "outputs": [
    {
     "data": {
      "image/png": "[encoded data removed]",
      "text/plain": [
       "<Figure size 432x288 with 1 Axes>"
      ]
     },
     "metadata": {
      "needs_background": "light"
     },
     "output_type": "display_data"
    }
   ],
   "source": [
    "# plt.figure(figsize=(20,10))\n",
    "final_df['user_rating'].value_counts().plot.bar(rot=0)\n",
    "\n",
    "plt.title('Count of User Rating',fontsize=20)\n",
    "plt.xlabel('Rating',fontsize=15)\n",
    "plt.xticks(fontsize=10)\n",
    "plt.ylabel('Count',fontsize=15)\n",
    "plt.yticks(fontsize=10);"
   ]
  },
  {
   "cell_type": "markdown",
   "metadata": {},
   "source": [
    "It appears we have a class imbalance problem where the number of 5.0 reviews are much greater than the other reviews. Oversampling the minority classes will lead to overfitting due to a creation of large number of synthetic rows. To address this, I will take a set number of random samples from each class."
   ]
  },
  {
   "cell_type": "markdown",
   "metadata": {},
   "source": [
    "## Undersampling"
   ]
  },
  {
   "cell_type": "code",
   "execution_count": 87,
   "metadata": {},
   "outputs": [],
   "source": [
    "def undersampling(dataframe, column, list_user_rating, samples):\n",
    "    df = pd.DataFrame()\n",
    "    for rating in list_user_rating:\n",
    "        sample = dataframe[dataframe[column] == rating].sample(samples)\n",
    "        df = df.append(sample)\n",
    "    return df"
   ]
  },
  {
   "cell_type": "code",
   "execution_count": 94,
   "metadata": {},
   "outputs": [
    {
     "data": {
      "text/plain": [
       "(1250, 11)"
      ]
     },
     "execution_count": 94,
     "metadata": {},
     "output_type": "execute_result"
    }
   ],
   "source": [
    "undersampled_df =undersampling(final_df, 'user_rating', final_df['user_rating'].unique(), 250)\n",
    "undersampled_df.shape"
   ]
  },
  {
   "cell_type": "markdown",
   "metadata": {},
   "source": [
    "# TF-IDF Vectorization\n",
    "\n",
    "Stands for Term Frequency, Inverse Document Frequency and weighs each word in a document by how unique it is. The idea behind TF-IDF is that the words that occur less in all the documents and more in individual documents are weighted more."
   ]
  },
  {
   "cell_type": "code",
   "execution_count": 15,
   "metadata": {},
   "outputs": [],
   "source": [
    "# declare variables for reviews and rating\n",
    "reviews = undersampled_df['cleaned_reviews'].values\n",
    "rating = undersampled_df['user_rating'].values"
   ]
  },
  {
   "cell_type": "code",
   "execution_count": 16,
   "metadata": {},
   "outputs": [],
   "source": [
    "# convert text into TF-IDF feature vectors\n",
    "\n",
    "vectorizer = TfidfVectorizer(max_features=2500, # num of most frequent occuring words to create bag of words vector\n",
    "                             min_df=7, # minimum words that occur in at least 7 documents\n",
    "                             max_df=0.8, # words that occur in a maximum of 80% of documents\n",
    "                             stop_words=stopwords.words('english'))\n",
    "\n",
    "processed_features = vectorizer.fit_transform(reviews).toarray()"
   ]
  },
  {
   "cell_type": "code",
   "execution_count": 17,
   "metadata": {},
   "outputs": [
    {
     "name": "stdout",
     "output_type": "stream",
     "text": [
      "TfidfVectorizer(max_df=0.8, max_features=2500, min_df=7,\n",
      "                stop_words=['i', 'me', 'my', 'myself', 'we', 'our', 'ours',\n",
      "                            'ourselves', 'you', \"you're\", \"you've\", \"you'll\",\n",
      "                            \"you'd\", 'your', 'yours', 'yourself', 'yourselves',\n",
      "                            'he', 'him', 'his', 'himself', 'she', \"she's\",\n",
      "                            'her', 'hers', 'herself', 'it', \"it's\", 'its',\n",
      "                            'itself', ...])\n",
      "[[0.         0.         0.10829667 ... 0.         0.17790893 0.        ]\n",
      " [0.         0.         0.         ... 0.         0.         0.        ]\n",
      " [0.         0.         0.         ... 0.         0.         0.        ]\n",
      " ...\n",
      " [0.         0.         0.         ... 0.         0.         0.        ]\n",
      " [0.         0.         0.         ... 0.         0.         0.        ]\n",
      " [0.         0.         0.         ... 0.         0.         0.        ]]\n"
     ]
    }
   ],
   "source": [
    "print(vectorizer)\n",
    "print(processed_features)"
   ]
  },
  {
   "cell_type": "markdown",
   "metadata": {},
   "source": [
    "# Train Test Split"
   ]
  },
  {
   "cell_type": "code",
   "execution_count": 18,
   "metadata": {},
   "outputs": [],
   "source": [
    "X_train, X_test, y_train, y_test = train_test_split(processed_features,\n",
    "                                                    rating, \n",
    "                                                    test_size=0.2, # 80% training/20% test\n",
    "                                                    random_state=0)"
   ]
  },
  {
   "cell_type": "markdown",
   "metadata": {},
   "source": [
    "# Random Forest"
   ]
  },
  {
   "cell_type": "markdown",
   "metadata": {},
   "source": [
    "## GridSearchCV"
   ]
  },
  {
   "cell_type": "code",
   "execution_count": 43,
   "metadata": {},
   "outputs": [],
   "source": [
    "# Perform a gridsearch with Random Forest\n",
    "# Obtain optimal values of model hyperparameters\n",
    "\n",
    "RF_classifier = RandomForestClassifier(random_state=0)\n",
    "\n",
    "params = {'criterion': ['gini','entropy'], # Measure the quality of a split\n",
    "             'max_depth': [10, 20, 30], # Maximum number of levels in tree\n",
    "             'max_features': ['auto', 'sqrt'], # Number of features to consider at every split\n",
    "             'min_samples_leaf': [1, 2, 4], # Minimum number of samples required at each leaf node\n",
    "             'min_samples_split': [2, 5, 10], # Minimum number of samples required to split a node\n",
    "             'n_estimators': [200, 500, 1000]} # The number of trees in the forest\n",
    "\n",
    "g_s_RF = GridSearchCV(RF_classifier,param_grid=params, n_jobs=-1) # create gridsearch with input params\n",
    "grid_result = g_s_RF.fit(X_train, y_train) # fit gridsearch with training data\n",
    "best_params = grid_result.best_params_ # output best params for given data\n",
    "best_params"
   ]
  },
  {
   "cell_type": "code",
   "execution_count": null,
   "metadata": {},
   "outputs": [],
   "source": [
    "RF_classifier = RandomForestClassifier(#insert best params here ,random_state=0)"
   ]
  },
  {
   "cell_type": "code",
   "execution_count": 10,
   "metadata": {},
   "outputs": [
    {
     "ename": "NameError",
     "evalue": "name 'RF_classifier' is not defined",
     "output_type": "error",
     "traceback": [
      "\u001b[0;31m---------------------------------------------------------------------------\u001b[0m",
      "\u001b[0;31mNameError\u001b[0m                                 Traceback (most recent call last)",
      "\u001b[0;32m<ipython-input-10-15d85767dcd9>\u001b[0m in \u001b[0;36m<module>\u001b[0;34m\u001b[0m\n\u001b[0;32m----> 1\u001b[0;31m \u001b[0mRF_predictions\u001b[0m \u001b[0;34m=\u001b[0m \u001b[0mRF_classifier\u001b[0m\u001b[0;34m.\u001b[0m\u001b[0mpredict\u001b[0m\u001b[0;34m(\u001b[0m\u001b[0mX_test\u001b[0m\u001b[0;34m)\u001b[0m\u001b[0;34m\u001b[0m\u001b[0;34m\u001b[0m\u001b[0m\n\u001b[0m\u001b[1;32m      2\u001b[0m \u001b[0mRF_predictions\u001b[0m\u001b[0;34m\u001b[0m\u001b[0;34m\u001b[0m\u001b[0m\n",
      "\u001b[0;31mNameError\u001b[0m: name 'RF_classifier' is not defined"
     ]
    }
   ],
   "source": [
    "RF_predictions = RF_classifier.predict(X_test)\n",
    "RF_predictions"
   ]
  },
  {
   "cell_type": "code",
   "execution_count": 11,
   "metadata": {
    "scrolled": true
   },
   "outputs": [
    {
     "ename": "NameError",
     "evalue": "name 'RF_predictions' is not defined",
     "output_type": "error",
     "traceback": [
      "\u001b[0;31m---------------------------------------------------------------------------\u001b[0m",
      "\u001b[0;31mNameError\u001b[0m                                 Traceback (most recent call last)",
      "\u001b[0;32m<ipython-input-11-8b645a6ab4e9>\u001b[0m in \u001b[0;36m<module>\u001b[0;34m\u001b[0m\n\u001b[0;32m----> 1\u001b[0;31m \u001b[0mRF_predictions\u001b[0m\u001b[0;34m\u001b[0m\u001b[0;34m\u001b[0m\u001b[0m\n\u001b[0m",
      "\u001b[0;31mNameError\u001b[0m: name 'RF_predictions' is not defined"
     ]
    }
   ],
   "source": [
    "RF_predictions"
   ]
  },
  {
   "cell_type": "markdown",
   "metadata": {},
   "source": [
    "## Results"
   ]
  },
  {
   "cell_type": "markdown",
   "metadata": {},
   "source": [
    "### Confusion Matrix"
   ]
  },
  {
   "cell_type": "code",
   "execution_count": 317,
   "metadata": {},
   "outputs": [
    {
     "name": "stdout",
     "output_type": "stream",
     "text": [
      "[[ 32   1   0   0  72]\n",
      " [ 10   0   0   0  46]\n",
      " [  5   0   0   2  84]\n",
      " [  2   0   0   1 115]\n",
      " [  4   0   0   2 722]]\n"
     ]
    }
   ],
   "source": [
    "print(confusion_matrix(y_test, RF_predictions))"
   ]
  },
  {
   "cell_type": "markdown",
   "metadata": {},
   "source": [
    "### Classification Report"
   ]
  },
  {
   "cell_type": "code",
   "execution_count": 318,
   "metadata": {},
   "outputs": [
    {
     "name": "stdout",
     "output_type": "stream",
     "text": [
      "              precision    recall  f1-score   support\n",
      "\n",
      "         1.0       0.60      0.30      0.41       105\n",
      "         2.0       0.00      0.00      0.00        56\n",
      "         3.0       0.00      0.00      0.00        91\n",
      "         4.0       0.20      0.01      0.02       118\n",
      "         5.0       0.69      0.99      0.82       728\n",
      "\n",
      "    accuracy                           0.69      1098\n",
      "   macro avg       0.30      0.26      0.25      1098\n",
      "weighted avg       0.54      0.69      0.58      1098\n",
      "\n"
     ]
    }
   ],
   "source": [
    "print(classification_report(y_test, RF_predictions))"
   ]
  },
  {
   "cell_type": "markdown",
   "metadata": {},
   "source": [
    "### Accuracy Score"
   ]
  },
  {
   "cell_type": "code",
   "execution_count": 319,
   "metadata": {},
   "outputs": [
    {
     "name": "stdout",
     "output_type": "stream",
     "text": [
      "0.6876138433515483\n"
     ]
    }
   ],
   "source": [
    "print(accuracy_score(y_test, RF_predictions))"
   ]
  },
  {
   "cell_type": "code",
   "execution_count": 345,
   "metadata": {},
   "outputs": [
    {
     "data": {
      "text/html": [
       "<div>\n",
       "<style scoped>\n",
       "    .dataframe tbody tr th:only-of-type {\n",
       "        vertical-align: middle;\n",
       "    }\n",
       "\n",
       "    .dataframe tbody tr th {\n",
       "        vertical-align: top;\n",
       "    }\n",
       "\n",
       "    .dataframe thead th {\n",
       "        text-align: right;\n",
       "    }\n",
       "</style>\n",
       "<table border=\"1\" class=\"dataframe\">\n",
       "  <thead>\n",
       "    <tr style=\"text-align: right;\">\n",
       "      <th></th>\n",
       "      <th>Model</th>\n",
       "      <th>Accuracy</th>\n",
       "    </tr>\n",
       "  </thead>\n",
       "  <tbody>\n",
       "    <tr>\n",
       "      <th>0</th>\n",
       "      <td>Random Forest</td>\n",
       "      <td>0.687614</td>\n",
       "    </tr>\n",
       "  </tbody>\n",
       "</table>\n",
       "</div>"
      ],
      "text/plain": [
       "           Model  Accuracy\n",
       "0  Random Forest  0.687614"
      ]
     },
     "execution_count": 345,
     "metadata": {},
     "output_type": "execute_result"
    }
   ],
   "source": [
    "accuracy_results = pd.DataFrame({'Model':['Random Forest'], 'Accuracy':[accuracy_score(y_test, predictions)]})\n",
    "accuracy_results"
   ]
  },
  {
   "cell_type": "markdown",
   "metadata": {},
   "source": [
    "### Plot Comparison between Actuals and Predicted"
   ]
  },
  {
   "cell_type": "code",
   "execution_count": 321,
   "metadata": {},
   "outputs": [],
   "source": [
    "predictions_count = dict(Counter(RF_predictions))\n",
    "predictions_count_df = pd.DataFrame.from_dict(predictions_count, orient ='index', columns =['Predictions'])\n",
    "\n",
    "y_test_count = dict(Counter(y_test))\n",
    "y_test_count_df = pd.DataFrame.from_dict(y_test_count, orient ='index', columns =['Actuals'])\n",
    "\n",
    "random_forest_df = pd.concat([predictions_count_df, y_test_count_df], axis=1).fillna(0)"
   ]
  },
  {
   "cell_type": "code",
   "execution_count": 322,
   "metadata": {},
   "outputs": [
    {
     "data": {
      "image/png": "[encoded data removed]",
      "text/plain": [
       "<Figure size 1440x720 with 1 Axes>"
      ]
     },
     "metadata": {
      "needs_background": "light"
     },
     "output_type": "display_data"
    }
   ],
   "source": [
    "random_forest_df.plot.bar(rot=0, figsize=(20,10))\n",
    "\n",
    "plt.title('Comparison between Actual Reviews and Predicted Reviews (Random Forest)',fontsize=30)\n",
    "\n",
    "plt.xlabel('Rating',fontsize=25)\n",
    "plt.xticks(fontsize=20)\n",
    "plt.ylabel('Count',fontsize=25)\n",
    "plt.yticks(fontsize=20)\n",
    "plt.legend(fontsize=20);"
   ]
  },
  {
   "cell_type": "markdown",
   "metadata": {},
   "source": [
    "# K-Nearest Neighbors (KNN)"
   ]
  },
  {
   "cell_type": "code",
   "execution_count": 323,
   "metadata": {},
   "outputs": [
    {
     "data": {
      "text/plain": [
       "KNeighborsClassifier()"
      ]
     },
     "execution_count": 323,
     "metadata": {},
     "output_type": "execute_result"
    }
   ],
   "source": [
    "KNN_classifier = KNeighborsClassifier(n_neighbors=5)\n",
    "KNN_classifier.fit(X_train, y_train)"
   ]
  },
  {
   "cell_type": "code",
   "execution_count": 324,
   "metadata": {},
   "outputs": [
    {
     "data": {
      "text/plain": [
       "array([5., 5., 5., ..., 5., 5., 5.])"
      ]
     },
     "execution_count": 324,
     "metadata": {},
     "output_type": "execute_result"
    }
   ],
   "source": [
    "KNN_predictions = KNN_classifier.predict(X_test)\n",
    "KNN_predictions"
   ]
  },
  {
   "cell_type": "markdown",
   "metadata": {},
   "source": [
    "## Results"
   ]
  },
  {
   "cell_type": "markdown",
   "metadata": {},
   "source": [
    "### Confusion Matrix"
   ]
  },
  {
   "cell_type": "code",
   "execution_count": 325,
   "metadata": {
    "scrolled": true
   },
   "outputs": [
    {
     "name": "stdout",
     "output_type": "stream",
     "text": [
      "[[  0   0   0   0 105]\n",
      " [  0   0   0   0  56]\n",
      " [  0   0   0   0  91]\n",
      " [  1   0   0   0 117]\n",
      " [  0   0   0   0 728]]\n"
     ]
    }
   ],
   "source": [
    "print(confusion_matrix(y_test, KNN_predictions))"
   ]
  },
  {
   "cell_type": "markdown",
   "metadata": {},
   "source": [
    "### Classification Report"
   ]
  },
  {
   "cell_type": "code",
   "execution_count": 326,
   "metadata": {},
   "outputs": [
    {
     "name": "stdout",
     "output_type": "stream",
     "text": [
      "              precision    recall  f1-score   support\n",
      "\n",
      "         1.0       0.00      0.00      0.00       105\n",
      "         2.0       0.00      0.00      0.00        56\n",
      "         3.0       0.00      0.00      0.00        91\n",
      "         4.0       0.00      0.00      0.00       118\n",
      "         5.0       0.66      1.00      0.80       728\n",
      "\n",
      "    accuracy                           0.66      1098\n",
      "   macro avg       0.13      0.20      0.16      1098\n",
      "weighted avg       0.44      0.66      0.53      1098\n",
      "\n"
     ]
    }
   ],
   "source": [
    "print(classification_report(y_test, KNN_predictions))"
   ]
  },
  {
   "cell_type": "markdown",
   "metadata": {},
   "source": [
    "### Accuracy Score"
   ]
  },
  {
   "cell_type": "code",
   "execution_count": 327,
   "metadata": {},
   "outputs": [
    {
     "name": "stdout",
     "output_type": "stream",
     "text": [
      "0.663023679417122\n"
     ]
    }
   ],
   "source": [
    "print(accuracy_score(y_test, KNN_predictions))"
   ]
  },
  {
   "cell_type": "code",
   "execution_count": 346,
   "metadata": {
    "scrolled": true
   },
   "outputs": [
    {
     "data": {
      "text/html": [
       "<div>\n",
       "<style scoped>\n",
       "    .dataframe tbody tr th:only-of-type {\n",
       "        vertical-align: middle;\n",
       "    }\n",
       "\n",
       "    .dataframe tbody tr th {\n",
       "        vertical-align: top;\n",
       "    }\n",
       "\n",
       "    .dataframe thead th {\n",
       "        text-align: right;\n",
       "    }\n",
       "</style>\n",
       "<table border=\"1\" class=\"dataframe\">\n",
       "  <thead>\n",
       "    <tr style=\"text-align: right;\">\n",
       "      <th></th>\n",
       "      <th>Model</th>\n",
       "      <th>Accuracy</th>\n",
       "    </tr>\n",
       "  </thead>\n",
       "  <tbody>\n",
       "    <tr>\n",
       "      <th>0</th>\n",
       "      <td>Random Forest</td>\n",
       "      <td>0.687614</td>\n",
       "    </tr>\n",
       "    <tr>\n",
       "      <th>1</th>\n",
       "      <td>KNN</td>\n",
       "      <td>0.663024</td>\n",
       "    </tr>\n",
       "  </tbody>\n",
       "</table>\n",
       "</div>"
      ],
      "text/plain": [
       "           Model  Accuracy\n",
       "0  Random Forest  0.687614\n",
       "1            KNN  0.663024"
      ]
     },
     "execution_count": 346,
     "metadata": {},
     "output_type": "execute_result"
    }
   ],
   "source": [
    "accuracy_results = accuracy_results.append({'Model':'KNN', 'Accuracy':accuracy_score(y_test, KNN_predictions)},ignore_index=True)\n",
    "accuracy_results"
   ]
  },
  {
   "cell_type": "markdown",
   "metadata": {},
   "source": [
    "### Plot Comparison between Actuals and Predicted"
   ]
  },
  {
   "cell_type": "code",
   "execution_count": 329,
   "metadata": {},
   "outputs": [],
   "source": [
    "predictions_count = dict(Counter(KNN_predictions))\n",
    "predictions_count_df = pd.DataFrame.from_dict(predictions_count, orient ='index', columns =['Predictions'])\n",
    "\n",
    "y_test_count = dict(Counter(y_test))\n",
    "y_test_count_df = pd.DataFrame.from_dict(y_test_count, orient ='index', columns =['Actuals'])\n",
    "\n",
    "KNN_df = pd.concat([predictions_count_df, y_test_count_df], axis=1).fillna(0)"
   ]
  },
  {
   "cell_type": "code",
   "execution_count": 330,
   "metadata": {},
   "outputs": [
    {
     "data": {
      "image/png": "[encoded data removed]",
      "text/plain": [
       "<Figure size 1440x720 with 1 Axes>"
      ]
     },
     "metadata": {
      "needs_background": "light"
     },
     "output_type": "display_data"
    }
   ],
   "source": [
    "random_forest_df.plot.bar(rot=0, figsize=(20,10))\n",
    "\n",
    "plt.title('Comparison between Actual Reviews and Predicted Reviews (KNN)',fontsize=30)\n",
    "\n",
    "plt.xlabel('Rating',fontsize=25)\n",
    "plt.xticks(fontsize=20)\n",
    "plt.ylabel('Count',fontsize=25)\n",
    "plt.yticks(fontsize=20)\n",
    "plt.legend(fontsize=20);"
   ]
  },
  {
   "cell_type": "markdown",
   "metadata": {},
   "source": [
    "# Sentiment Analyzer using NLTK Module Vader\n",
    "\n",
    "* works well with social media type text\n",
    "* doesn't require any training data and is constructed using human-curated sentiment lexicon"
   ]
  },
  {
   "cell_type": "code",
   "execution_count": 331,
   "metadata": {},
   "outputs": [],
   "source": [
    "from vaderSentiment.vaderSentiment import SentimentIntensityAnalyzer\n",
    "analyser = SentimentIntensityAnalyzer()"
   ]
  },
  {
   "cell_type": "code",
   "execution_count": 332,
   "metadata": {},
   "outputs": [],
   "source": [
    "def sentiment_analyzer_scores(sentence):\n",
    "    # polarity_scores: ranging from -1 (most neg) to 1 (most pos)\n",
    "    score = analyser.polarity_scores(sentence)\n",
    "    return score # {neg: Negative, neu: Neutral, pos: Positive, compound: Aggregated Score}"
   ]
  },
  {
   "cell_type": "code",
   "execution_count": 333,
   "metadata": {},
   "outputs": [],
   "source": [
    "def compound_score(text):\n",
    "    comp=sentiment_analyzer_scores(text)\n",
    "    return comp['compound'] # returns the compound score from the dictionary"
   ]
  },
  {
   "cell_type": "code",
   "execution_count": 334,
   "metadata": {},
   "outputs": [],
   "source": [
    "# applying on the reviews column to get the score\n",
    "final_df['sentiment_score'] = final_df['review_description'].apply(lambda x:compound_score(x))"
   ]
  },
  {
   "cell_type": "code",
   "execution_count": 335,
   "metadata": {},
   "outputs": [
    {
     "data": {
      "text/html": [
       "<div>\n",
       "<style scoped>\n",
       "    .dataframe tbody tr th:only-of-type {\n",
       "        vertical-align: middle;\n",
       "    }\n",
       "\n",
       "    .dataframe tbody tr th {\n",
       "        vertical-align: top;\n",
       "    }\n",
       "\n",
       "    .dataframe thead th {\n",
       "        text-align: right;\n",
       "    }\n",
       "</style>\n",
       "<table border=\"1\" class=\"dataframe\">\n",
       "  <thead>\n",
       "    <tr style=\"text-align: right;\">\n",
       "      <th></th>\n",
       "      <th>asin_id</th>\n",
       "      <th>name</th>\n",
       "      <th>price</th>\n",
       "      <th>avg_rating</th>\n",
       "      <th>no_of_ratings</th>\n",
       "      <th>review_id</th>\n",
       "      <th>review_title</th>\n",
       "      <th>review_description</th>\n",
       "      <th>user_rating</th>\n",
       "      <th>cleaned_title</th>\n",
       "      <th>cleaned_reviews</th>\n",
       "      <th>sentiment_score</th>\n",
       "    </tr>\n",
       "  </thead>\n",
       "  <tbody>\n",
       "    <tr>\n",
       "      <th>0</th>\n",
       "      <td>B076HK9H7Z</td>\n",
       "      <td>Sorry! Game</td>\n",
       "      <td>0.0</td>\n",
       "      <td>4.7</td>\n",
       "      <td>7555</td>\n",
       "      <td>R1OSPWS88F2CUZ</td>\n",
       "      <td>DO NOT BUY!!!</td>\n",
       "      <td>I would give this zero stars if I could! If ...</td>\n",
       "      <td>1.0</td>\n",
       "      <td>buy</td>\n",
       "      <td>would give zero stars could youre original sor...</td>\n",
       "      <td>0.8548</td>\n",
       "    </tr>\n",
       "    <tr>\n",
       "      <th>1</th>\n",
       "      <td>B076HK9H7Z</td>\n",
       "      <td>Sorry! Game</td>\n",
       "      <td>0.0</td>\n",
       "      <td>4.7</td>\n",
       "      <td>7555</td>\n",
       "      <td>R1DCFJ8VYSN17B</td>\n",
       "      <td>Is this the millennial version?</td>\n",
       "      <td>This is not the original sorry game. It only...</td>\n",
       "      <td>1.0</td>\n",
       "      <td>millennial version</td>\n",
       "      <td>original sorry game  pawns per team instead tr...</td>\n",
       "      <td>-0.4873</td>\n",
       "    </tr>\n",
       "    <tr>\n",
       "      <th>2</th>\n",
       "      <td>B076HK9H7Z</td>\n",
       "      <td>Sorry! Game</td>\n",
       "      <td>0.0</td>\n",
       "      <td>4.7</td>\n",
       "      <td>7555</td>\n",
       "      <td>R1V07N4GXA7RSL</td>\n",
       "      <td>Wimp and Crybaby Edition</td>\n",
       "      <td>We bought this to replace our old Sorry game...</td>\n",
       "      <td>1.0</td>\n",
       "      <td>wimp crybaby edition</td>\n",
       "      <td>bought replace old sorry game falling apart  w...</td>\n",
       "      <td>0.2885</td>\n",
       "    </tr>\n",
       "    <tr>\n",
       "      <th>3</th>\n",
       "      <td>B076HK9H7Z</td>\n",
       "      <td>Sorry! Game</td>\n",
       "      <td>0.0</td>\n",
       "      <td>4.7</td>\n",
       "      <td>7555</td>\n",
       "      <td>R2Z262NZDEU2EY</td>\n",
       "      <td>NOT the original/regular Sorry!</td>\n",
       "      <td>Be warned that this is not the sorry you gre...</td>\n",
       "      <td>2.0</td>\n",
       "      <td>originalregular sorry</td>\n",
       "      <td>warned sorry grew three tokens per player rule...</td>\n",
       "      <td>0.8726</td>\n",
       "    </tr>\n",
       "    <tr>\n",
       "      <th>4</th>\n",
       "      <td>B076HK9H7Z</td>\n",
       "      <td>Sorry! Game</td>\n",
       "      <td>0.0</td>\n",
       "      <td>4.7</td>\n",
       "      <td>7555</td>\n",
       "      <td>RG3XIFV1PUX9Y</td>\n",
       "      <td>Not the classic by a long shot, but okay.</td>\n",
       "      <td>Definitely not the classic game, with only 3...</td>\n",
       "      <td>4.0</td>\n",
       "      <td>classic long shot okay</td>\n",
       "      <td>definitely classic game  pawns cards instead d...</td>\n",
       "      <td>0.9565</td>\n",
       "    </tr>\n",
       "  </tbody>\n",
       "</table>\n",
       "</div>"
      ],
      "text/plain": [
       "      asin_id         name  price  avg_rating  no_of_ratings       review_id  \\\n",
       "0  B076HK9H7Z  Sorry! Game    0.0         4.7           7555  R1OSPWS88F2CUZ   \n",
       "1  B076HK9H7Z  Sorry! Game    0.0         4.7           7555  R1DCFJ8VYSN17B   \n",
       "2  B076HK9H7Z  Sorry! Game    0.0         4.7           7555  R1V07N4GXA7RSL   \n",
       "3  B076HK9H7Z  Sorry! Game    0.0         4.7           7555  R2Z262NZDEU2EY   \n",
       "4  B076HK9H7Z  Sorry! Game    0.0         4.7           7555   RG3XIFV1PUX9Y   \n",
       "\n",
       "                                review_title  \\\n",
       "0                              DO NOT BUY!!!   \n",
       "1            Is this the millennial version?   \n",
       "2                   Wimp and Crybaby Edition   \n",
       "3            NOT the original/regular Sorry!   \n",
       "4  Not the classic by a long shot, but okay.   \n",
       "\n",
       "                                  review_description  user_rating  \\\n",
       "0    I would give this zero stars if I could! If ...          1.0   \n",
       "1    This is not the original sorry game. It only...          1.0   \n",
       "2    We bought this to replace our old Sorry game...          1.0   \n",
       "3    Be warned that this is not the sorry you gre...          2.0   \n",
       "4    Definitely not the classic game, with only 3...          4.0   \n",
       "\n",
       "            cleaned_title                                    cleaned_reviews  \\\n",
       "0                     buy  would give zero stars could youre original sor...   \n",
       "1      millennial version  original sorry game  pawns per team instead tr...   \n",
       "2    wimp crybaby edition  bought replace old sorry game falling apart  w...   \n",
       "3   originalregular sorry  warned sorry grew three tokens per player rule...   \n",
       "4  classic long shot okay  definitely classic game  pawns cards instead d...   \n",
       "\n",
       "   sentiment_score  \n",
       "0           0.8548  \n",
       "1          -0.4873  \n",
       "2           0.2885  \n",
       "3           0.8726  \n",
       "4           0.9565  "
      ]
     },
     "execution_count": 335,
     "metadata": {},
     "output_type": "execute_result"
    }
   ],
   "source": [
    "final_df.head()"
   ]
  },
  {
   "cell_type": "code",
   "execution_count": 336,
   "metadata": {},
   "outputs": [],
   "source": [
    "def sentiment_category(score):\n",
    "    if score >= 0.6:\n",
    "        return 5.0\n",
    "    elif score >= 0.2:\n",
    "        return 4.0\n",
    "    elif score >= -0.2:\n",
    "        return 3.0\n",
    "    elif score >= -0.6:\n",
    "        return 2.0\n",
    "    else:\n",
    "        return 1.0"
   ]
  },
  {
   "cell_type": "code",
   "execution_count": 337,
   "metadata": {},
   "outputs": [],
   "source": [
    "final_df['sentiment_score_rating'] = final_df['sentiment_score'].apply(lambda x: sentiment_category(x))"
   ]
  },
  {
   "cell_type": "code",
   "execution_count": 338,
   "metadata": {},
   "outputs": [
    {
     "data": {
      "text/html": [
       "<div>\n",
       "<style scoped>\n",
       "    .dataframe tbody tr th:only-of-type {\n",
       "        vertical-align: middle;\n",
       "    }\n",
       "\n",
       "    .dataframe tbody tr th {\n",
       "        vertical-align: top;\n",
       "    }\n",
       "\n",
       "    .dataframe thead th {\n",
       "        text-align: right;\n",
       "    }\n",
       "</style>\n",
       "<table border=\"1\" class=\"dataframe\">\n",
       "  <thead>\n",
       "    <tr style=\"text-align: right;\">\n",
       "      <th></th>\n",
       "      <th>asin_id</th>\n",
       "      <th>name</th>\n",
       "      <th>price</th>\n",
       "      <th>avg_rating</th>\n",
       "      <th>no_of_ratings</th>\n",
       "      <th>review_id</th>\n",
       "      <th>review_title</th>\n",
       "      <th>review_description</th>\n",
       "      <th>user_rating</th>\n",
       "      <th>cleaned_title</th>\n",
       "      <th>cleaned_reviews</th>\n",
       "      <th>sentiment_score</th>\n",
       "      <th>sentiment_score_rating</th>\n",
       "    </tr>\n",
       "  </thead>\n",
       "  <tbody>\n",
       "    <tr>\n",
       "      <th>0</th>\n",
       "      <td>B076HK9H7Z</td>\n",
       "      <td>Sorry! Game</td>\n",
       "      <td>0.0</td>\n",
       "      <td>4.7</td>\n",
       "      <td>7555</td>\n",
       "      <td>R1OSPWS88F2CUZ</td>\n",
       "      <td>DO NOT BUY!!!</td>\n",
       "      <td>I would give this zero stars if I could! If ...</td>\n",
       "      <td>1.0</td>\n",
       "      <td>buy</td>\n",
       "      <td>would give zero stars could youre original sor...</td>\n",
       "      <td>0.8548</td>\n",
       "      <td>5.0</td>\n",
       "    </tr>\n",
       "    <tr>\n",
       "      <th>1</th>\n",
       "      <td>B076HK9H7Z</td>\n",
       "      <td>Sorry! Game</td>\n",
       "      <td>0.0</td>\n",
       "      <td>4.7</td>\n",
       "      <td>7555</td>\n",
       "      <td>R1DCFJ8VYSN17B</td>\n",
       "      <td>Is this the millennial version?</td>\n",
       "      <td>This is not the original sorry game. It only...</td>\n",
       "      <td>1.0</td>\n",
       "      <td>millennial version</td>\n",
       "      <td>original sorry game  pawns per team instead tr...</td>\n",
       "      <td>-0.4873</td>\n",
       "      <td>2.0</td>\n",
       "    </tr>\n",
       "    <tr>\n",
       "      <th>2</th>\n",
       "      <td>B076HK9H7Z</td>\n",
       "      <td>Sorry! Game</td>\n",
       "      <td>0.0</td>\n",
       "      <td>4.7</td>\n",
       "      <td>7555</td>\n",
       "      <td>R1V07N4GXA7RSL</td>\n",
       "      <td>Wimp and Crybaby Edition</td>\n",
       "      <td>We bought this to replace our old Sorry game...</td>\n",
       "      <td>1.0</td>\n",
       "      <td>wimp crybaby edition</td>\n",
       "      <td>bought replace old sorry game falling apart  w...</td>\n",
       "      <td>0.2885</td>\n",
       "      <td>4.0</td>\n",
       "    </tr>\n",
       "    <tr>\n",
       "      <th>3</th>\n",
       "      <td>B076HK9H7Z</td>\n",
       "      <td>Sorry! Game</td>\n",
       "      <td>0.0</td>\n",
       "      <td>4.7</td>\n",
       "      <td>7555</td>\n",
       "      <td>R2Z262NZDEU2EY</td>\n",
       "      <td>NOT the original/regular Sorry!</td>\n",
       "      <td>Be warned that this is not the sorry you gre...</td>\n",
       "      <td>2.0</td>\n",
       "      <td>originalregular sorry</td>\n",
       "      <td>warned sorry grew three tokens per player rule...</td>\n",
       "      <td>0.8726</td>\n",
       "      <td>5.0</td>\n",
       "    </tr>\n",
       "    <tr>\n",
       "      <th>4</th>\n",
       "      <td>B076HK9H7Z</td>\n",
       "      <td>Sorry! Game</td>\n",
       "      <td>0.0</td>\n",
       "      <td>4.7</td>\n",
       "      <td>7555</td>\n",
       "      <td>RG3XIFV1PUX9Y</td>\n",
       "      <td>Not the classic by a long shot, but okay.</td>\n",
       "      <td>Definitely not the classic game, with only 3...</td>\n",
       "      <td>4.0</td>\n",
       "      <td>classic long shot okay</td>\n",
       "      <td>definitely classic game  pawns cards instead d...</td>\n",
       "      <td>0.9565</td>\n",
       "      <td>5.0</td>\n",
       "    </tr>\n",
       "  </tbody>\n",
       "</table>\n",
       "</div>"
      ],
      "text/plain": [
       "      asin_id         name  price  avg_rating  no_of_ratings       review_id  \\\n",
       "0  B076HK9H7Z  Sorry! Game    0.0         4.7           7555  R1OSPWS88F2CUZ   \n",
       "1  B076HK9H7Z  Sorry! Game    0.0         4.7           7555  R1DCFJ8VYSN17B   \n",
       "2  B076HK9H7Z  Sorry! Game    0.0         4.7           7555  R1V07N4GXA7RSL   \n",
       "3  B076HK9H7Z  Sorry! Game    0.0         4.7           7555  R2Z262NZDEU2EY   \n",
       "4  B076HK9H7Z  Sorry! Game    0.0         4.7           7555   RG3XIFV1PUX9Y   \n",
       "\n",
       "                                review_title  \\\n",
       "0                              DO NOT BUY!!!   \n",
       "1            Is this the millennial version?   \n",
       "2                   Wimp and Crybaby Edition   \n",
       "3            NOT the original/regular Sorry!   \n",
       "4  Not the classic by a long shot, but okay.   \n",
       "\n",
       "                                  review_description  user_rating  \\\n",
       "0    I would give this zero stars if I could! If ...          1.0   \n",
       "1    This is not the original sorry game. It only...          1.0   \n",
       "2    We bought this to replace our old Sorry game...          1.0   \n",
       "3    Be warned that this is not the sorry you gre...          2.0   \n",
       "4    Definitely not the classic game, with only 3...          4.0   \n",
       "\n",
       "            cleaned_title                                    cleaned_reviews  \\\n",
       "0                     buy  would give zero stars could youre original sor...   \n",
       "1      millennial version  original sorry game  pawns per team instead tr...   \n",
       "2    wimp crybaby edition  bought replace old sorry game falling apart  w...   \n",
       "3   originalregular sorry  warned sorry grew three tokens per player rule...   \n",
       "4  classic long shot okay  definitely classic game  pawns cards instead d...   \n",
       "\n",
       "   sentiment_score  sentiment_score_rating  \n",
       "0           0.8548                     5.0  \n",
       "1          -0.4873                     2.0  \n",
       "2           0.2885                     4.0  \n",
       "3           0.8726                     5.0  \n",
       "4           0.9565                     5.0  "
      ]
     },
     "execution_count": 338,
     "metadata": {},
     "output_type": "execute_result"
    }
   ],
   "source": [
    "final_df.head()"
   ]
  },
  {
   "cell_type": "markdown",
   "metadata": {},
   "source": [
    "## Results"
   ]
  },
  {
   "cell_type": "markdown",
   "metadata": {},
   "source": [
    "### Confusion Matrix"
   ]
  },
  {
   "cell_type": "code",
   "execution_count": 339,
   "metadata": {},
   "outputs": [
    {
     "data": {
      "text/plain": [
       "array([[ 122,  105,   87,  103,  149],\n",
       "       [  43,   42,   33,   39,  121],\n",
       "       [  33,   39,   42,   72,  258],\n",
       "       [  23,   24,   23,   69,  565],\n",
       "       [  30,   52,   80,  209, 3124]])"
      ]
     },
     "execution_count": 339,
     "metadata": {},
     "output_type": "execute_result"
    }
   ],
   "source": [
    "cnf_matrix = confusion_matrix(final_df['user_rating'],final_df['sentiment_score_rating'])\n",
    "cnf_matrix"
   ]
  },
  {
   "cell_type": "markdown",
   "metadata": {},
   "source": [
    "### Classification Report"
   ]
  },
  {
   "cell_type": "code",
   "execution_count": 340,
   "metadata": {},
   "outputs": [
    {
     "name": "stdout",
     "output_type": "stream",
     "text": [
      "              precision    recall  f1-score   support\n",
      "\n",
      "         1.0       0.49      0.22      0.30       566\n",
      "         2.0       0.16      0.15      0.16       278\n",
      "         3.0       0.16      0.09      0.12       444\n",
      "         4.0       0.14      0.10      0.12       704\n",
      "         5.0       0.74      0.89      0.81      3495\n",
      "\n",
      "    accuracy                           0.62      5487\n",
      "   macro avg       0.34      0.29      0.30      5487\n",
      "weighted avg       0.56      0.62      0.58      5487\n",
      "\n"
     ]
    }
   ],
   "source": [
    "print(classification_report(final_df['user_rating'],final_df['sentiment_score_rating']))"
   ]
  },
  {
   "cell_type": "markdown",
   "metadata": {},
   "source": [
    "### Accuracy Score"
   ]
  },
  {
   "cell_type": "code",
   "execution_count": 341,
   "metadata": {},
   "outputs": [
    {
     "data": {
      "text/plain": [
       "0.6194641880809185"
      ]
     },
     "execution_count": 341,
     "metadata": {},
     "output_type": "execute_result"
    }
   ],
   "source": [
    "from sklearn.metrics import accuracy_score\n",
    "vader_accuracy_score = accuracy_score(final_df['user_rating'],final_df['sentiment_score_rating'])\n",
    "vader_accuracy_score"
   ]
  },
  {
   "cell_type": "code",
   "execution_count": 347,
   "metadata": {},
   "outputs": [
    {
     "data": {
      "text/html": [
       "<div>\n",
       "<style scoped>\n",
       "    .dataframe tbody tr th:only-of-type {\n",
       "        vertical-align: middle;\n",
       "    }\n",
       "\n",
       "    .dataframe tbody tr th {\n",
       "        vertical-align: top;\n",
       "    }\n",
       "\n",
       "    .dataframe thead th {\n",
       "        text-align: right;\n",
       "    }\n",
       "</style>\n",
       "<table border=\"1\" class=\"dataframe\">\n",
       "  <thead>\n",
       "    <tr style=\"text-align: right;\">\n",
       "      <th></th>\n",
       "      <th>Model</th>\n",
       "      <th>Accuracy</th>\n",
       "    </tr>\n",
       "  </thead>\n",
       "  <tbody>\n",
       "    <tr>\n",
       "      <th>0</th>\n",
       "      <td>Random Forest</td>\n",
       "      <td>0.687614</td>\n",
       "    </tr>\n",
       "    <tr>\n",
       "      <th>1</th>\n",
       "      <td>KNN</td>\n",
       "      <td>0.663024</td>\n",
       "    </tr>\n",
       "    <tr>\n",
       "      <th>2</th>\n",
       "      <td>Vader</td>\n",
       "      <td>0.619464</td>\n",
       "    </tr>\n",
       "  </tbody>\n",
       "</table>\n",
       "</div>"
      ],
      "text/plain": [
       "           Model  Accuracy\n",
       "0  Random Forest  0.687614\n",
       "1            KNN  0.663024\n",
       "2          Vader  0.619464"
      ]
     },
     "execution_count": 347,
     "metadata": {},
     "output_type": "execute_result"
    }
   ],
   "source": [
    "accuracy_results = accuracy_results.append({'Model':'Vader', 'Accuracy':vader_accuracy_score},ignore_index=True)\n",
    "accuracy_results"
   ]
  },
  {
   "cell_type": "markdown",
   "metadata": {},
   "source": [
    "### Plot Comparison between Actuals and Predicted"
   ]
  },
  {
   "cell_type": "code",
   "execution_count": 343,
   "metadata": {
    "scrolled": false
   },
   "outputs": [
    {
     "data": {
      "image/png": "[encoded data removed]",
      "text/plain": [
       "<Figure size 1440x720 with 1 Axes>"
      ]
     },
     "metadata": {
      "needs_background": "light"
     },
     "output_type": "display_data"
    }
   ],
   "source": [
    "review_rating_counts = final_df['user_rating'].value_counts()\n",
    "sentiment_score_rating_counts = final_df['sentiment_score_rating'].value_counts()\n",
    "\n",
    "review_df = pd.concat([review_rating_counts, sentiment_score_rating_counts], axis=1)\n",
    "\n",
    "review_df.plot.bar(rot=0, figsize=(20,10))\n",
    "\n",
    "plt.title('Comparison between Actual Reviews and Predicted Reviews',fontsize=30)\n",
    "\n",
    "plt.xlabel('Rating',fontsize=25)\n",
    "plt.xticks(fontsize=20)\n",
    "plt.ylabel('Count',fontsize=25)\n",
    "plt.yticks(fontsize=20)\n",
    "plt.legend(fontsize=20);"
   ]
  },
  {
   "cell_type": "markdown",
   "metadata": {},
   "source": [
    "# Predictive Accuracy Results"
   ]
  },
  {
   "cell_type": "code",
   "execution_count": 348,
   "metadata": {},
   "outputs": [
    {
     "data": {
      "text/html": [
       "<div>\n",
       "<style scoped>\n",
       "    .dataframe tbody tr th:only-of-type {\n",
       "        vertical-align: middle;\n",
       "    }\n",
       "\n",
       "    .dataframe tbody tr th {\n",
       "        vertical-align: top;\n",
       "    }\n",
       "\n",
       "    .dataframe thead th {\n",
       "        text-align: right;\n",
       "    }\n",
       "</style>\n",
       "<table border=\"1\" class=\"dataframe\">\n",
       "  <thead>\n",
       "    <tr style=\"text-align: right;\">\n",
       "      <th></th>\n",
       "      <th>Model</th>\n",
       "      <th>Accuracy</th>\n",
       "    </tr>\n",
       "  </thead>\n",
       "  <tbody>\n",
       "    <tr>\n",
       "      <th>0</th>\n",
       "      <td>Random Forest</td>\n",
       "      <td>0.687614</td>\n",
       "    </tr>\n",
       "    <tr>\n",
       "      <th>1</th>\n",
       "      <td>KNN</td>\n",
       "      <td>0.663024</td>\n",
       "    </tr>\n",
       "    <tr>\n",
       "      <th>2</th>\n",
       "      <td>Vader</td>\n",
       "      <td>0.619464</td>\n",
       "    </tr>\n",
       "  </tbody>\n",
       "</table>\n",
       "</div>"
      ],
      "text/plain": [
       "           Model  Accuracy\n",
       "0  Random Forest  0.687614\n",
       "1            KNN  0.663024\n",
       "2          Vader  0.619464"
      ]
     },
     "execution_count": 348,
     "metadata": {},
     "output_type": "execute_result"
    }
   ],
   "source": [
    "accuracy_results"
   ]
  },
  {
   "cell_type": "code",
   "execution_count": null,
   "metadata": {},
   "outputs": [],
   "source": []
  }
 ],
 "metadata": {
  "kernelspec": {
   "display_name": "Python [conda env:learn-env] *",
   "language": "python",
   "name": "conda-env-learn-env-py"
  },
  "language_info": {
   "codemirror_mode": {
    "name": "ipython",
    "version": 3
   },
   "file_extension": ".py",
   "mimetype": "text/x-python",
   "name": "python",
   "nbconvert_exporter": "python",
   "pygments_lexer": "ipython3",
   "version": "3.6.9"
  },
  "toc": {
   "base_numbering": 1,
   "nav_menu": {},
   "number_sections": true,
   "sideBar": true,
   "skip_h1_title": false,
   "title_cell": "Table of Contents",
   "title_sidebar": "Contents",
   "toc_cell": false,
   "toc_position": {},
   "toc_section_display": true,
   "toc_window_display": true
  }
 },
 "nbformat": 4,
 "nbformat_minor": 2
}
