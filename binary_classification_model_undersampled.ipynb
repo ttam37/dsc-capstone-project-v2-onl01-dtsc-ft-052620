{
 "cells": [
  {
   "cell_type": "markdown",
   "metadata": {},
   "source": [
    "# Binary Classification Model and undersampled data to fix class imbalance"
   ]
  },
  {
   "cell_type": "code",
   "execution_count": 264,
   "metadata": {},
   "outputs": [],
   "source": [
    "import pandas as pd\n",
    "import numpy as np\n",
    "import matplotlib.pyplot as plt\n",
    "import seaborn as sns\n",
    "from collections import Counter\n",
    "import warnings\n",
    "warnings.filterwarnings('ignore')\n",
    "\n",
    "from sklearn.feature_extraction.text import TfidfVectorizer\n",
    "from sklearn.model_selection import train_test_split\n",
    "from sklearn.metrics import plot_confusion_matrix\n",
    "from sklearn.metrics import confusion_matrix\n",
    "from sklearn.metrics import classification_report\n",
    "from sklearn.ensemble import RandomForestClassifier\n",
    "from sklearn.neighbors import KNeighborsClassifier\n",
    "from sklearn.linear_model import LogisticRegression\n",
    "from sklearn.model_selection import GridSearchCV\n",
    "from sklearn.metrics import accuracy_score\n",
    "from sklearn.svm import SVC\n",
    "\n",
    "\n",
    "import string\n",
    "import re\n",
    "import nltk\n",
    "from nltk.corpus import stopwords\n",
    "from nltk import PorterStemmer\n",
    "from nltk import FreqDist\n",
    "from nltk.tokenize import word_tokenize"
   ]
  },
  {
   "cell_type": "markdown",
   "metadata": {},
   "source": [
    "# Import Data"
   ]
  },
  {
   "cell_type": "code",
   "execution_count": 265,
   "metadata": {},
   "outputs": [
    {
     "data": {
      "text/plain": [
       "(228, 5)"
      ]
     },
     "execution_count": 265,
     "metadata": {},
     "output_type": "execute_result"
    }
   ],
   "source": [
    "items_df = pd.read_csv('csv_files/cleaned_items_df.csv',index_col=0)\n",
    "items_df.shape"
   ]
  },
  {
   "cell_type": "code",
   "execution_count": 266,
   "metadata": {},
   "outputs": [
    {
     "data": {
      "text/plain": [
       "(5539, 5)"
      ]
     },
     "execution_count": 266,
     "metadata": {},
     "output_type": "execute_result"
    }
   ],
   "source": [
    "reviews_df = pd.read_csv('csv_files/cleaned_reviews_df.csv',index_col=0)\n",
    "reviews_df.shape"
   ]
  },
  {
   "cell_type": "code",
   "execution_count": 267,
   "metadata": {},
   "outputs": [
    {
     "data": {
      "text/html": [
       "<div>\n",
       "<style scoped>\n",
       "    .dataframe tbody tr th:only-of-type {\n",
       "        vertical-align: middle;\n",
       "    }\n",
       "\n",
       "    .dataframe tbody tr th {\n",
       "        vertical-align: top;\n",
       "    }\n",
       "\n",
       "    .dataframe thead th {\n",
       "        text-align: right;\n",
       "    }\n",
       "</style>\n",
       "<table border=\"1\" class=\"dataframe\">\n",
       "  <thead>\n",
       "    <tr style=\"text-align: right;\">\n",
       "      <th></th>\n",
       "      <th>asin_id</th>\n",
       "      <th>name</th>\n",
       "      <th>price</th>\n",
       "      <th>avg_rating</th>\n",
       "      <th>no_of_ratings</th>\n",
       "      <th>review_id</th>\n",
       "      <th>review_title</th>\n",
       "      <th>review_description</th>\n",
       "      <th>user_rating</th>\n",
       "      <th>cleaned_title</th>\n",
       "      <th>cleaned_reviews</th>\n",
       "    </tr>\n",
       "  </thead>\n",
       "  <tbody>\n",
       "    <tr>\n",
       "      <th>0</th>\n",
       "      <td>B076HK9H7Z</td>\n",
       "      <td>Sorry! Game</td>\n",
       "      <td>0.0</td>\n",
       "      <td>4.7</td>\n",
       "      <td>7555</td>\n",
       "      <td>R1OSPWS88F2CUZ</td>\n",
       "      <td>DO NOT BUY!!!</td>\n",
       "      <td>I would give this zero stars if I could! If ...</td>\n",
       "      <td>1.0</td>\n",
       "      <td>buy</td>\n",
       "      <td>would give zero star could youre original sorr...</td>\n",
       "    </tr>\n",
       "    <tr>\n",
       "      <th>1</th>\n",
       "      <td>B076HK9H7Z</td>\n",
       "      <td>Sorry! Game</td>\n",
       "      <td>0.0</td>\n",
       "      <td>4.7</td>\n",
       "      <td>7555</td>\n",
       "      <td>R1DCFJ8VYSN17B</td>\n",
       "      <td>Is this the millennial version?</td>\n",
       "      <td>This is not the original sorry game. It only...</td>\n",
       "      <td>1.0</td>\n",
       "      <td>millennial version</td>\n",
       "      <td>original sorry game pawn per team instead trad...</td>\n",
       "    </tr>\n",
       "    <tr>\n",
       "      <th>2</th>\n",
       "      <td>B076HK9H7Z</td>\n",
       "      <td>Sorry! Game</td>\n",
       "      <td>0.0</td>\n",
       "      <td>4.7</td>\n",
       "      <td>7555</td>\n",
       "      <td>R1V07N4GXA7RSL</td>\n",
       "      <td>Wimp and Crybaby Edition</td>\n",
       "      <td>We bought this to replace our old Sorry game...</td>\n",
       "      <td>1.0</td>\n",
       "      <td>wimp crybaby edition</td>\n",
       "      <td>buy replace old sorry game fall apart wish rea...</td>\n",
       "    </tr>\n",
       "    <tr>\n",
       "      <th>3</th>\n",
       "      <td>B076HK9H7Z</td>\n",
       "      <td>Sorry! Game</td>\n",
       "      <td>0.0</td>\n",
       "      <td>4.7</td>\n",
       "      <td>7555</td>\n",
       "      <td>R2Z262NZDEU2EY</td>\n",
       "      <td>NOT the original/regular Sorry!</td>\n",
       "      <td>Be warned that this is not the sorry you gre...</td>\n",
       "      <td>2.0</td>\n",
       "      <td>originalregular sorry</td>\n",
       "      <td>warn sorry grow three token per player rule di...</td>\n",
       "    </tr>\n",
       "    <tr>\n",
       "      <th>4</th>\n",
       "      <td>B076HK9H7Z</td>\n",
       "      <td>Sorry! Game</td>\n",
       "      <td>0.0</td>\n",
       "      <td>4.7</td>\n",
       "      <td>7555</td>\n",
       "      <td>RG3XIFV1PUX9Y</td>\n",
       "      <td>Not the classic by a long shot, but okay.</td>\n",
       "      <td>Definitely not the classic game, with only 3...</td>\n",
       "      <td>4.0</td>\n",
       "      <td>classic long shot okay</td>\n",
       "      <td>definitely classic game pawn card instead dice...</td>\n",
       "    </tr>\n",
       "  </tbody>\n",
       "</table>\n",
       "</div>"
      ],
      "text/plain": [
       "      asin_id         name  price  avg_rating  no_of_ratings       review_id  \\\n",
       "0  B076HK9H7Z  Sorry! Game    0.0         4.7           7555  R1OSPWS88F2CUZ   \n",
       "1  B076HK9H7Z  Sorry! Game    0.0         4.7           7555  R1DCFJ8VYSN17B   \n",
       "2  B076HK9H7Z  Sorry! Game    0.0         4.7           7555  R1V07N4GXA7RSL   \n",
       "3  B076HK9H7Z  Sorry! Game    0.0         4.7           7555  R2Z262NZDEU2EY   \n",
       "4  B076HK9H7Z  Sorry! Game    0.0         4.7           7555   RG3XIFV1PUX9Y   \n",
       "\n",
       "                                review_title  \\\n",
       "0                              DO NOT BUY!!!   \n",
       "1            Is this the millennial version?   \n",
       "2                   Wimp and Crybaby Edition   \n",
       "3            NOT the original/regular Sorry!   \n",
       "4  Not the classic by a long shot, but okay.   \n",
       "\n",
       "                                  review_description  user_rating  \\\n",
       "0    I would give this zero stars if I could! If ...          1.0   \n",
       "1    This is not the original sorry game. It only...          1.0   \n",
       "2    We bought this to replace our old Sorry game...          1.0   \n",
       "3    Be warned that this is not the sorry you gre...          2.0   \n",
       "4    Definitely not the classic game, with only 3...          4.0   \n",
       "\n",
       "            cleaned_title                                    cleaned_reviews  \n",
       "0                     buy  would give zero star could youre original sorr...  \n",
       "1      millennial version  original sorry game pawn per team instead trad...  \n",
       "2    wimp crybaby edition  buy replace old sorry game fall apart wish rea...  \n",
       "3   originalregular sorry  warn sorry grow three token per player rule di...  \n",
       "4  classic long shot okay  definitely classic game pawn card instead dice...  "
      ]
     },
     "execution_count": 267,
     "metadata": {},
     "output_type": "execute_result"
    }
   ],
   "source": [
    "final_df = pd.read_csv('csv_files/cleaned_items_reviews_df.csv',index_col=0)\n",
    "final_df.head()"
   ]
  },
  {
   "cell_type": "code",
   "execution_count": 268,
   "metadata": {},
   "outputs": [
    {
     "name": "stdout",
     "output_type": "stream",
     "text": [
      "['warn', 'sorry', 'grow', 'three', 'token', 'per', 'player', 'rule', 'different', 'make', 'much', 'easy', 'opinion', 'fun', 'think', 'version', 'good', 'kid', 'age', 'ish', 'kid', 'little', 'old', 'return', 'get', 'original', 'version', 'love', 'dont', 'think', 'description', 'one', 'clear', 'enough', 'didnt', 'know', 'werent', 'get', 'normal', 'sorry', 'thats', 'around', 'decade']\n"
     ]
    }
   ],
   "source": [
    "print(final_df['cleaned_reviews'][3].split())"
   ]
  },
  {
   "cell_type": "code",
   "execution_count": 269,
   "metadata": {},
   "outputs": [],
   "source": [
    "# drop rows where cleaned_reviews are na\n",
    "final_df.isna()\n",
    "final_df = final_df.dropna(subset=['cleaned_reviews'])"
   ]
  },
  {
   "cell_type": "markdown",
   "metadata": {},
   "source": [
    "# Convert Ratings to Binary Class"
   ]
  },
  {
   "cell_type": "code",
   "execution_count": 270,
   "metadata": {},
   "outputs": [],
   "source": [
    "final_df['new_rating'] = np.where(final_df['user_rating'] >= 4.0, 'GOOD', 'BAD')"
   ]
  },
  {
   "cell_type": "code",
   "execution_count": 271,
   "metadata": {},
   "outputs": [
    {
     "data": {
      "text/html": [
       "<div>\n",
       "<style scoped>\n",
       "    .dataframe tbody tr th:only-of-type {\n",
       "        vertical-align: middle;\n",
       "    }\n",
       "\n",
       "    .dataframe tbody tr th {\n",
       "        vertical-align: top;\n",
       "    }\n",
       "\n",
       "    .dataframe thead th {\n",
       "        text-align: right;\n",
       "    }\n",
       "</style>\n",
       "<table border=\"1\" class=\"dataframe\">\n",
       "  <thead>\n",
       "    <tr style=\"text-align: right;\">\n",
       "      <th></th>\n",
       "      <th>asin_id</th>\n",
       "      <th>name</th>\n",
       "      <th>price</th>\n",
       "      <th>avg_rating</th>\n",
       "      <th>no_of_ratings</th>\n",
       "      <th>review_id</th>\n",
       "      <th>review_title</th>\n",
       "      <th>review_description</th>\n",
       "      <th>user_rating</th>\n",
       "      <th>cleaned_title</th>\n",
       "      <th>cleaned_reviews</th>\n",
       "      <th>new_rating</th>\n",
       "    </tr>\n",
       "  </thead>\n",
       "  <tbody>\n",
       "    <tr>\n",
       "      <th>0</th>\n",
       "      <td>B076HK9H7Z</td>\n",
       "      <td>Sorry! Game</td>\n",
       "      <td>0.0</td>\n",
       "      <td>4.7</td>\n",
       "      <td>7555</td>\n",
       "      <td>R1OSPWS88F2CUZ</td>\n",
       "      <td>DO NOT BUY!!!</td>\n",
       "      <td>I would give this zero stars if I could! If ...</td>\n",
       "      <td>1.0</td>\n",
       "      <td>buy</td>\n",
       "      <td>would give zero star could youre original sorr...</td>\n",
       "      <td>BAD</td>\n",
       "    </tr>\n",
       "    <tr>\n",
       "      <th>1</th>\n",
       "      <td>B076HK9H7Z</td>\n",
       "      <td>Sorry! Game</td>\n",
       "      <td>0.0</td>\n",
       "      <td>4.7</td>\n",
       "      <td>7555</td>\n",
       "      <td>R1DCFJ8VYSN17B</td>\n",
       "      <td>Is this the millennial version?</td>\n",
       "      <td>This is not the original sorry game. It only...</td>\n",
       "      <td>1.0</td>\n",
       "      <td>millennial version</td>\n",
       "      <td>original sorry game pawn per team instead trad...</td>\n",
       "      <td>BAD</td>\n",
       "    </tr>\n",
       "    <tr>\n",
       "      <th>2</th>\n",
       "      <td>B076HK9H7Z</td>\n",
       "      <td>Sorry! Game</td>\n",
       "      <td>0.0</td>\n",
       "      <td>4.7</td>\n",
       "      <td>7555</td>\n",
       "      <td>R1V07N4GXA7RSL</td>\n",
       "      <td>Wimp and Crybaby Edition</td>\n",
       "      <td>We bought this to replace our old Sorry game...</td>\n",
       "      <td>1.0</td>\n",
       "      <td>wimp crybaby edition</td>\n",
       "      <td>buy replace old sorry game fall apart wish rea...</td>\n",
       "      <td>BAD</td>\n",
       "    </tr>\n",
       "    <tr>\n",
       "      <th>3</th>\n",
       "      <td>B076HK9H7Z</td>\n",
       "      <td>Sorry! Game</td>\n",
       "      <td>0.0</td>\n",
       "      <td>4.7</td>\n",
       "      <td>7555</td>\n",
       "      <td>R2Z262NZDEU2EY</td>\n",
       "      <td>NOT the original/regular Sorry!</td>\n",
       "      <td>Be warned that this is not the sorry you gre...</td>\n",
       "      <td>2.0</td>\n",
       "      <td>originalregular sorry</td>\n",
       "      <td>warn sorry grow three token per player rule di...</td>\n",
       "      <td>BAD</td>\n",
       "    </tr>\n",
       "    <tr>\n",
       "      <th>4</th>\n",
       "      <td>B076HK9H7Z</td>\n",
       "      <td>Sorry! Game</td>\n",
       "      <td>0.0</td>\n",
       "      <td>4.7</td>\n",
       "      <td>7555</td>\n",
       "      <td>RG3XIFV1PUX9Y</td>\n",
       "      <td>Not the classic by a long shot, but okay.</td>\n",
       "      <td>Definitely not the classic game, with only 3...</td>\n",
       "      <td>4.0</td>\n",
       "      <td>classic long shot okay</td>\n",
       "      <td>definitely classic game pawn card instead dice...</td>\n",
       "      <td>GOOD</td>\n",
       "    </tr>\n",
       "  </tbody>\n",
       "</table>\n",
       "</div>"
      ],
      "text/plain": [
       "      asin_id         name  price  avg_rating  no_of_ratings       review_id  \\\n",
       "0  B076HK9H7Z  Sorry! Game    0.0         4.7           7555  R1OSPWS88F2CUZ   \n",
       "1  B076HK9H7Z  Sorry! Game    0.0         4.7           7555  R1DCFJ8VYSN17B   \n",
       "2  B076HK9H7Z  Sorry! Game    0.0         4.7           7555  R1V07N4GXA7RSL   \n",
       "3  B076HK9H7Z  Sorry! Game    0.0         4.7           7555  R2Z262NZDEU2EY   \n",
       "4  B076HK9H7Z  Sorry! Game    0.0         4.7           7555   RG3XIFV1PUX9Y   \n",
       "\n",
       "                                review_title  \\\n",
       "0                              DO NOT BUY!!!   \n",
       "1            Is this the millennial version?   \n",
       "2                   Wimp and Crybaby Edition   \n",
       "3            NOT the original/regular Sorry!   \n",
       "4  Not the classic by a long shot, but okay.   \n",
       "\n",
       "                                  review_description  user_rating  \\\n",
       "0    I would give this zero stars if I could! If ...          1.0   \n",
       "1    This is not the original sorry game. It only...          1.0   \n",
       "2    We bought this to replace our old Sorry game...          1.0   \n",
       "3    Be warned that this is not the sorry you gre...          2.0   \n",
       "4    Definitely not the classic game, with only 3...          4.0   \n",
       "\n",
       "            cleaned_title                                    cleaned_reviews  \\\n",
       "0                     buy  would give zero star could youre original sorr...   \n",
       "1      millennial version  original sorry game pawn per team instead trad...   \n",
       "2    wimp crybaby edition  buy replace old sorry game fall apart wish rea...   \n",
       "3   originalregular sorry  warn sorry grow three token per player rule di...   \n",
       "4  classic long shot okay  definitely classic game pawn card instead dice...   \n",
       "\n",
       "  new_rating  \n",
       "0        BAD  \n",
       "1        BAD  \n",
       "2        BAD  \n",
       "3        BAD  \n",
       "4       GOOD  "
      ]
     },
     "execution_count": 271,
     "metadata": {},
     "output_type": "execute_result"
    }
   ],
   "source": [
    "final_df.head()"
   ]
  },
  {
   "cell_type": "markdown",
   "metadata": {},
   "source": [
    "# Class Imbalance"
   ]
  },
  {
   "cell_type": "code",
   "execution_count": 272,
   "metadata": {},
   "outputs": [
    {
     "data": {
      "text/plain": [
       "GOOD    4199\n",
       "BAD     1288\n",
       "Name: new_rating, dtype: int64"
      ]
     },
     "execution_count": 272,
     "metadata": {},
     "output_type": "execute_result"
    }
   ],
   "source": [
    "final_df['new_rating'].value_counts()"
   ]
  },
  {
   "cell_type": "code",
   "execution_count": 273,
   "metadata": {},
   "outputs": [
    {
     "data": {
      "image/png": "[encoded data removed]",
      "text/plain": [
       "<Figure size 432x288 with 1 Axes>"
      ]
     },
     "metadata": {
      "needs_background": "light"
     },
     "output_type": "display_data"
    }
   ],
   "source": [
    "# plt.figure(figsize=(20,10))\n",
    "final_df['new_rating'].value_counts().plot.bar(rot=0)\n",
    "\n",
    "plt.title('Count of User Rating',fontsize=20)\n",
    "plt.xlabel('Rating',fontsize=15)\n",
    "plt.xticks(fontsize=10)\n",
    "plt.ylabel('Count',fontsize=15)\n",
    "plt.yticks(fontsize=10);"
   ]
  },
  {
   "cell_type": "markdown",
   "metadata": {},
   "source": [
    "It appears we have a class imbalance problem where the number of 5.0 reviews are much greater than the other reviews. Oversampling the minority classes will lead to overfitting due to a creation of large number of synthetic rows. To address this, I will take a set number of random samples from each class."
   ]
  },
  {
   "cell_type": "markdown",
   "metadata": {},
   "source": [
    "## Undersampling"
   ]
  },
  {
   "cell_type": "code",
   "execution_count": 274,
   "metadata": {},
   "outputs": [],
   "source": [
    "def undersampling(dataframe, column, list_user_rating, samples):\n",
    "    df = pd.DataFrame()\n",
    "    for rating in list_user_rating:\n",
    "        sample = dataframe[dataframe[column] == rating].sample(samples)\n",
    "        df = df.append(sample)\n",
    "    return df"
   ]
  },
  {
   "cell_type": "code",
   "execution_count": 275,
   "metadata": {},
   "outputs": [
    {
     "data": {
      "text/plain": [
       "(2400, 12)"
      ]
     },
     "execution_count": 275,
     "metadata": {},
     "output_type": "execute_result"
    }
   ],
   "source": [
    "undersampled_df =undersampling(final_df, 'new_rating', final_df['new_rating'].unique(), 1200)\n",
    "undersampled_df.shape"
   ]
  },
  {
   "cell_type": "code",
   "execution_count": 276,
   "metadata": {},
   "outputs": [
    {
     "data": {
      "text/html": [
       "<div>\n",
       "<style scoped>\n",
       "    .dataframe tbody tr th:only-of-type {\n",
       "        vertical-align: middle;\n",
       "    }\n",
       "\n",
       "    .dataframe tbody tr th {\n",
       "        vertical-align: top;\n",
       "    }\n",
       "\n",
       "    .dataframe thead th {\n",
       "        text-align: right;\n",
       "    }\n",
       "</style>\n",
       "<table border=\"1\" class=\"dataframe\">\n",
       "  <thead>\n",
       "    <tr style=\"text-align: right;\">\n",
       "      <th></th>\n",
       "      <th>asin_id</th>\n",
       "      <th>name</th>\n",
       "      <th>price</th>\n",
       "      <th>avg_rating</th>\n",
       "      <th>no_of_ratings</th>\n",
       "      <th>review_id</th>\n",
       "      <th>review_title</th>\n",
       "      <th>review_description</th>\n",
       "      <th>user_rating</th>\n",
       "      <th>cleaned_title</th>\n",
       "      <th>cleaned_reviews</th>\n",
       "      <th>new_rating</th>\n",
       "    </tr>\n",
       "  </thead>\n",
       "  <tbody>\n",
       "    <tr>\n",
       "      <th>1615</th>\n",
       "      <td>B07F454YF3</td>\n",
       "      <td>Leder Games Root: A Game of Woodland Might and...</td>\n",
       "      <td>56.99</td>\n",
       "      <td>4.8</td>\n",
       "      <td>456</td>\n",
       "      <td>R1KXGFQZYN1AWT</td>\n",
       "      <td>Poor quality of parts.</td>\n",
       "      <td>I had just open my copy of Root that just ar...</td>\n",
       "      <td>2.0</td>\n",
       "      <td>poor quality parts</td>\n",
       "      <td>open copy root arrive player mat felt soft squ...</td>\n",
       "      <td>BAD</td>\n",
       "    </tr>\n",
       "    <tr>\n",
       "      <th>10</th>\n",
       "      <td>B076HK9H7Z</td>\n",
       "      <td>Sorry! Game</td>\n",
       "      <td>0.00</td>\n",
       "      <td>4.7</td>\n",
       "      <td>7555</td>\n",
       "      <td>R3C3FCTLE3MO2L</td>\n",
       "      <td>Missing pieces</td>\n",
       "      <td>Just opened the game to find a missing blue,...</td>\n",
       "      <td>1.0</td>\n",
       "      <td>missing pieces</td>\n",
       "      <td>open game find miss blue red green piece</td>\n",
       "      <td>BAD</td>\n",
       "    </tr>\n",
       "    <tr>\n",
       "      <th>1798</th>\n",
       "      <td>B083XX769B</td>\n",
       "      <td>Avalon Hill Scooby Doo in Betrayal at Mystery ...</td>\n",
       "      <td>27.26</td>\n",
       "      <td>4.7</td>\n",
       "      <td>353</td>\n",
       "      <td>RQWU7XDYS3B8T</td>\n",
       "      <td>Good entry level game for younger players.</td>\n",
       "      <td>After 3 plays, I really wanted to enjoy this...</td>\n",
       "      <td>3.0</td>\n",
       "      <td>good entry level game younger players</td>\n",
       "      <td>play really want enjoy game haunt seem fall fl...</td>\n",
       "      <td>BAD</td>\n",
       "    </tr>\n",
       "    <tr>\n",
       "      <th>1879</th>\n",
       "      <td>B01ISKSRK8</td>\n",
       "      <td>Hasbro Gaming Mouse Trap Game,Brown</td>\n",
       "      <td>19.99</td>\n",
       "      <td>4.5</td>\n",
       "      <td>2023</td>\n",
       "      <td>R2AYOKHI7ES9V9</td>\n",
       "      <td>Pieces don’t line up</td>\n",
       "      <td>Bought as a gift from Santa so I’m not able ...</td>\n",
       "      <td>1.0</td>\n",
       "      <td>pieces dont line</td>\n",
       "      <td>buy gift santa im able return without come sor...</td>\n",
       "      <td>BAD</td>\n",
       "    </tr>\n",
       "    <tr>\n",
       "      <th>2122</th>\n",
       "      <td>B00000DMFD</td>\n",
       "      <td>Hasbro Gaming Mouse Trap Board Game For Kids A...</td>\n",
       "      <td>22.92</td>\n",
       "      <td>4.5</td>\n",
       "      <td>2515</td>\n",
       "      <td>R2PP7QBEHILIPH</td>\n",
       "      <td>So poorly made</td>\n",
       "      <td>Had to separate all the plastic parts and on...</td>\n",
       "      <td>1.0</td>\n",
       "      <td>poorly made</td>\n",
       "      <td>separate plastic part one break process set ga...</td>\n",
       "      <td>BAD</td>\n",
       "    </tr>\n",
       "  </tbody>\n",
       "</table>\n",
       "</div>"
      ],
      "text/plain": [
       "         asin_id                                               name  price  \\\n",
       "1615  B07F454YF3  Leder Games Root: A Game of Woodland Might and...  56.99   \n",
       "10    B076HK9H7Z                                        Sorry! Game   0.00   \n",
       "1798  B083XX769B  Avalon Hill Scooby Doo in Betrayal at Mystery ...  27.26   \n",
       "1879  B01ISKSRK8                Hasbro Gaming Mouse Trap Game,Brown  19.99   \n",
       "2122  B00000DMFD  Hasbro Gaming Mouse Trap Board Game For Kids A...  22.92   \n",
       "\n",
       "      avg_rating  no_of_ratings       review_id  \\\n",
       "1615         4.8            456  R1KXGFQZYN1AWT   \n",
       "10           4.7           7555  R3C3FCTLE3MO2L   \n",
       "1798         4.7            353   RQWU7XDYS3B8T   \n",
       "1879         4.5           2023  R2AYOKHI7ES9V9   \n",
       "2122         4.5           2515  R2PP7QBEHILIPH   \n",
       "\n",
       "                                    review_title  \\\n",
       "1615                      Poor quality of parts.   \n",
       "10                                Missing pieces   \n",
       "1798  Good entry level game for younger players.   \n",
       "1879                        Pieces don’t line up   \n",
       "2122                              So poorly made   \n",
       "\n",
       "                                     review_description  user_rating  \\\n",
       "1615    I had just open my copy of Root that just ar...          2.0   \n",
       "10      Just opened the game to find a missing blue,...          1.0   \n",
       "1798    After 3 plays, I really wanted to enjoy this...          3.0   \n",
       "1879    Bought as a gift from Santa so I’m not able ...          1.0   \n",
       "2122    Had to separate all the plastic parts and on...          1.0   \n",
       "\n",
       "                              cleaned_title  \\\n",
       "1615                     poor quality parts   \n",
       "10                           missing pieces   \n",
       "1798  good entry level game younger players   \n",
       "1879                       pieces dont line   \n",
       "2122                            poorly made   \n",
       "\n",
       "                                        cleaned_reviews new_rating  \n",
       "1615  open copy root arrive player mat felt soft squ...        BAD  \n",
       "10             open game find miss blue red green piece        BAD  \n",
       "1798  play really want enjoy game haunt seem fall fl...        BAD  \n",
       "1879  buy gift santa im able return without come sor...        BAD  \n",
       "2122  separate plastic part one break process set ga...        BAD  "
      ]
     },
     "execution_count": 276,
     "metadata": {},
     "output_type": "execute_result"
    }
   ],
   "source": [
    "undersampled_df.head()"
   ]
  },
  {
   "cell_type": "code",
   "execution_count": 277,
   "metadata": {},
   "outputs": [
    {
     "data": {
      "text/plain": [
       "BAD     1200\n",
       "GOOD    1200\n",
       "Name: new_rating, dtype: int64"
      ]
     },
     "execution_count": 277,
     "metadata": {},
     "output_type": "execute_result"
    }
   ],
   "source": [
    "undersampled_df['new_rating'].value_counts()"
   ]
  },
  {
   "cell_type": "code",
   "execution_count": 278,
   "metadata": {},
   "outputs": [
    {
     "data": {
      "image/png": "[encoded data removed]",
      "text/plain": [
       "<Figure size 432x288 with 1 Axes>"
      ]
     },
     "metadata": {
      "needs_background": "light"
     },
     "output_type": "display_data"
    }
   ],
   "source": [
    "# plt.figure(figsize=(20,10))\n",
    "undersampled_df['new_rating'].value_counts().plot.bar(rot=0)\n",
    "\n",
    "plt.title('Count of User Rating',fontsize=20)\n",
    "plt.xlabel('Rating',fontsize=15)\n",
    "plt.xticks(fontsize=10)\n",
    "plt.ylabel('Count',fontsize=15)\n",
    "plt.yticks(fontsize=10);"
   ]
  },
  {
   "cell_type": "code",
   "execution_count": 279,
   "metadata": {},
   "outputs": [
    {
     "data": {
      "image/png": "[encoded data removed]",
      "text/plain": [
       "<Figure size 1080x432 with 2 Axes>"
      ]
     },
     "metadata": {
      "needs_background": "light"
     },
     "output_type": "display_data"
    }
   ],
   "source": [
    "plt.subplot(1,2,1)\n",
    "final_df['new_rating'].value_counts().plot.bar(rot=0, figsize=(15,6))\n",
    "plt.title('Count of User Rating (Total)',fontsize=20)\n",
    "plt.xlabel('Rating',fontsize=15)\n",
    "plt.xticks(fontsize=10)\n",
    "plt.ylabel('Count',fontsize=15)\n",
    "plt.yticks(fontsize=10)\n",
    "\n",
    "plt.subplot(1,2,2)\n",
    "undersampled_df['new_rating'].value_counts().plot.bar(rot=0, figsize=(15,6))\n",
    "plt.title('Count of User Rating (Sampled 1200 per Class)',fontsize=20)\n",
    "plt.xlabel('Rating',fontsize=15)\n",
    "plt.xticks(fontsize=10)\n",
    "plt.ylabel('Count',fontsize=15)\n",
    "plt.yticks(fontsize=10)\n",
    "\n",
    "plt.savefig('images/count_of_user_rating_undersampled.png');"
   ]
  },
  {
   "cell_type": "markdown",
   "metadata": {},
   "source": [
    "# TF-IDF Vectorization\n",
    "\n",
    "Stands for Term Frequency, Inverse Document Frequency and weighs each word in a document by how unique it is. The idea behind TF-IDF is that the words that occur less in all the documents and more in individual documents are weighted more."
   ]
  },
  {
   "cell_type": "code",
   "execution_count": 280,
   "metadata": {},
   "outputs": [],
   "source": [
    "# declare variables for reviews and rating\n",
    "reviews = undersampled_df['cleaned_reviews'].values\n",
    "rating = undersampled_df['new_rating'].values"
   ]
  },
  {
   "cell_type": "code",
   "execution_count": 281,
   "metadata": {},
   "outputs": [],
   "source": [
    "# convert text into TF-IDF feature vectors\n",
    "\n",
    "vectorizer = TfidfVectorizer(max_features=2500, # num of most frequent occuring words to create bag of words vector\n",
    "                             min_df=7, # minimum words that occur in at least 7 documents\n",
    "                             max_df=0.8, # words that occur in a maximum of 80% of documents\n",
    "                             stop_words=stopwords.words('english'))\n",
    "\n",
    "processed_features = vectorizer.fit_transform(reviews).toarray()"
   ]
  },
  {
   "cell_type": "code",
   "execution_count": 282,
   "metadata": {},
   "outputs": [
    {
     "name": "stdout",
     "output_type": "stream",
     "text": [
      "TfidfVectorizer(max_df=0.8, max_features=2500, min_df=7,\n",
      "                stop_words=['i', 'me', 'my', 'myself', 'we', 'our', 'ours',\n",
      "                            'ourselves', 'you', \"you're\", \"you've\", \"you'll\",\n",
      "                            \"you'd\", 'your', 'yours', 'yourself', 'yourselves',\n",
      "                            'he', 'him', 'his', 'himself', 'she', \"she's\",\n",
      "                            'her', 'hers', 'herself', 'it', \"it's\", 'its',\n",
      "                            'itself', ...])\n",
      "[[0.         0.         0.         ... 0.         0.         0.        ]\n",
      " [0.         0.         0.         ... 0.         0.         0.        ]\n",
      " [0.         0.         0.         ... 0.         0.         0.        ]\n",
      " ...\n",
      " [0.         0.         0.         ... 0.         0.         0.        ]\n",
      " [0.         0.         0.         ... 0.         0.         0.        ]\n",
      " [0.         0.05884256 0.         ... 0.         0.         0.        ]]\n"
     ]
    }
   ],
   "source": [
    "print(vectorizer)\n",
    "print(processed_features)"
   ]
  },
  {
   "cell_type": "markdown",
   "metadata": {},
   "source": [
    "# Train Test Split"
   ]
  },
  {
   "cell_type": "code",
   "execution_count": 283,
   "metadata": {},
   "outputs": [],
   "source": [
    "X_train, X_test, y_train, y_test = train_test_split(processed_features,\n",
    "                                                    rating, \n",
    "                                                    test_size=0.2, # 80% training/20% test\n",
    "                                                    random_state=0)"
   ]
  },
  {
   "cell_type": "markdown",
   "metadata": {},
   "source": [
    "# Logistic Regression"
   ]
  },
  {
   "cell_type": "code",
   "execution_count": 284,
   "metadata": {},
   "outputs": [
    {
     "data": {
      "text/plain": [
       "LogisticRegression(C=1000000000000.0, fit_intercept=False, random_state=0,\n",
       "                   solver='liblinear')"
      ]
     },
     "execution_count": 284,
     "metadata": {},
     "output_type": "execute_result"
    }
   ],
   "source": [
    "logreg_classifier = LogisticRegression(fit_intercept=False, C=1e12, solver='liblinear',random_state=0)\n",
    "logreg_classifier.fit(X_train, y_train)"
   ]
  },
  {
   "cell_type": "code",
   "execution_count": 285,
   "metadata": {},
   "outputs": [
    {
     "data": {
      "text/plain": [
       "array(['GOOD', 'GOOD', 'GOOD', 'GOOD', 'GOOD'], dtype=object)"
      ]
     },
     "execution_count": 285,
     "metadata": {},
     "output_type": "execute_result"
    }
   ],
   "source": [
    "logreg_classifier.predict(X_train)[0:5]"
   ]
  },
  {
   "cell_type": "code",
   "execution_count": 286,
   "metadata": {},
   "outputs": [
    {
     "data": {
      "text/plain": [
       "array(['GOOD', 'GOOD', 'BAD', 'GOOD', 'BAD', 'GOOD', 'BAD', 'BAD', 'GOOD',\n",
       "       'GOOD', 'GOOD', 'BAD', 'GOOD', 'BAD', 'GOOD', 'GOOD', 'GOOD',\n",
       "       'BAD', 'BAD', 'GOOD', 'BAD', 'GOOD', 'BAD', 'GOOD', 'GOOD', 'BAD',\n",
       "       'BAD', 'GOOD', 'BAD', 'BAD', 'GOOD', 'GOOD', 'BAD', 'BAD', 'GOOD',\n",
       "       'BAD', 'GOOD', 'GOOD', 'BAD', 'GOOD', 'GOOD', 'BAD', 'GOOD',\n",
       "       'GOOD', 'GOOD', 'GOOD', 'BAD', 'BAD', 'GOOD', 'BAD', 'BAD', 'BAD',\n",
       "       'BAD', 'GOOD', 'GOOD', 'BAD', 'BAD', 'GOOD', 'GOOD', 'GOOD',\n",
       "       'GOOD', 'BAD', 'BAD', 'GOOD', 'GOOD', 'GOOD', 'BAD', 'GOOD', 'BAD',\n",
       "       'GOOD', 'BAD', 'GOOD', 'BAD', 'BAD', 'GOOD', 'GOOD', 'BAD', 'BAD',\n",
       "       'BAD', 'GOOD', 'BAD', 'BAD', 'BAD', 'BAD', 'GOOD', 'GOOD', 'BAD',\n",
       "       'BAD', 'BAD', 'GOOD', 'GOOD', 'BAD', 'BAD', 'BAD', 'GOOD', 'BAD',\n",
       "       'GOOD', 'BAD', 'BAD', 'GOOD', 'GOOD', 'GOOD', 'BAD', 'BAD', 'GOOD',\n",
       "       'GOOD', 'GOOD', 'BAD', 'GOOD', 'GOOD', 'GOOD', 'GOOD', 'BAD',\n",
       "       'BAD', 'BAD', 'BAD', 'GOOD', 'BAD', 'BAD', 'BAD', 'BAD', 'GOOD',\n",
       "       'BAD', 'GOOD', 'GOOD', 'GOOD', 'BAD', 'BAD', 'GOOD', 'GOOD',\n",
       "       'GOOD', 'BAD', 'BAD', 'BAD', 'GOOD', 'BAD', 'GOOD', 'BAD', 'GOOD',\n",
       "       'BAD', 'GOOD', 'BAD', 'BAD', 'GOOD', 'BAD', 'GOOD', 'GOOD', 'BAD',\n",
       "       'BAD', 'GOOD', 'BAD', 'GOOD', 'GOOD', 'BAD', 'BAD', 'BAD', 'GOOD',\n",
       "       'BAD', 'GOOD', 'GOOD', 'BAD', 'GOOD', 'BAD', 'GOOD', 'BAD', 'GOOD',\n",
       "       'GOOD', 'GOOD', 'BAD', 'BAD', 'GOOD', 'BAD', 'BAD', 'BAD', 'BAD',\n",
       "       'GOOD', 'BAD', 'GOOD', 'BAD', 'GOOD', 'BAD', 'GOOD', 'BAD', 'GOOD',\n",
       "       'BAD', 'GOOD', 'GOOD', 'GOOD', 'BAD', 'GOOD', 'GOOD', 'GOOD',\n",
       "       'BAD', 'GOOD', 'GOOD', 'GOOD', 'GOOD', 'GOOD', 'BAD', 'BAD', 'BAD',\n",
       "       'BAD', 'GOOD', 'GOOD', 'BAD', 'GOOD', 'GOOD', 'BAD', 'BAD', 'GOOD',\n",
       "       'GOOD', 'GOOD', 'GOOD', 'GOOD', 'GOOD', 'BAD', 'GOOD', 'BAD',\n",
       "       'BAD', 'BAD', 'GOOD', 'BAD', 'GOOD', 'BAD', 'GOOD', 'BAD', 'BAD',\n",
       "       'GOOD', 'GOOD', 'BAD', 'GOOD', 'GOOD', 'BAD', 'BAD', 'BAD', 'GOOD',\n",
       "       'GOOD', 'BAD', 'GOOD', 'BAD', 'BAD', 'GOOD', 'BAD', 'GOOD', 'GOOD',\n",
       "       'BAD', 'GOOD', 'GOOD', 'GOOD', 'GOOD', 'GOOD', 'BAD', 'BAD', 'BAD',\n",
       "       'GOOD', 'GOOD', 'BAD', 'BAD', 'GOOD', 'BAD', 'GOOD', 'BAD', 'GOOD',\n",
       "       'GOOD', 'BAD', 'GOOD', 'BAD', 'BAD', 'GOOD', 'BAD', 'BAD', 'GOOD',\n",
       "       'GOOD', 'BAD', 'BAD', 'BAD', 'GOOD', 'GOOD', 'BAD', 'BAD', 'GOOD',\n",
       "       'BAD', 'BAD', 'GOOD', 'GOOD', 'GOOD', 'BAD', 'GOOD', 'BAD', 'BAD',\n",
       "       'GOOD', 'BAD', 'BAD', 'GOOD', 'GOOD', 'BAD', 'GOOD', 'GOOD',\n",
       "       'GOOD', 'GOOD', 'BAD', 'GOOD', 'BAD', 'GOOD', 'BAD', 'GOOD', 'BAD',\n",
       "       'BAD', 'BAD', 'GOOD', 'GOOD', 'BAD', 'GOOD', 'GOOD', 'GOOD',\n",
       "       'GOOD', 'BAD', 'BAD', 'BAD', 'BAD', 'BAD', 'GOOD', 'GOOD', 'BAD',\n",
       "       'BAD', 'BAD', 'BAD', 'BAD', 'GOOD', 'BAD', 'BAD', 'BAD', 'GOOD',\n",
       "       'GOOD', 'BAD', 'BAD', 'BAD', 'BAD', 'BAD', 'GOOD', 'BAD', 'BAD',\n",
       "       'BAD', 'BAD', 'BAD', 'BAD', 'GOOD', 'GOOD', 'GOOD', 'GOOD', 'BAD',\n",
       "       'BAD', 'GOOD', 'BAD', 'GOOD', 'BAD', 'GOOD', 'GOOD', 'BAD', 'BAD',\n",
       "       'BAD', 'BAD', 'GOOD', 'GOOD', 'BAD', 'BAD', 'BAD', 'BAD', 'GOOD',\n",
       "       'BAD', 'GOOD', 'BAD', 'GOOD', 'GOOD', 'GOOD', 'BAD', 'BAD', 'BAD',\n",
       "       'BAD', 'GOOD', 'BAD', 'GOOD', 'BAD', 'BAD', 'BAD', 'GOOD', 'GOOD',\n",
       "       'GOOD', 'BAD', 'BAD', 'BAD', 'BAD', 'GOOD', 'BAD', 'BAD', 'GOOD',\n",
       "       'BAD', 'GOOD', 'GOOD', 'GOOD', 'GOOD', 'GOOD', 'BAD', 'BAD',\n",
       "       'GOOD', 'BAD', 'GOOD', 'GOOD', 'GOOD', 'BAD', 'BAD', 'GOOD', 'BAD',\n",
       "       'BAD', 'GOOD', 'BAD', 'GOOD', 'BAD', 'GOOD', 'GOOD', 'GOOD', 'BAD',\n",
       "       'BAD', 'BAD', 'BAD', 'BAD', 'BAD', 'GOOD', 'GOOD', 'GOOD', 'GOOD',\n",
       "       'GOOD', 'GOOD', 'GOOD', 'GOOD', 'GOOD', 'GOOD', 'BAD', 'BAD',\n",
       "       'GOOD', 'GOOD', 'GOOD', 'BAD', 'GOOD', 'GOOD', 'BAD', 'GOOD',\n",
       "       'GOOD', 'GOOD', 'GOOD', 'GOOD', 'GOOD', 'GOOD', 'BAD', 'GOOD',\n",
       "       'GOOD', 'BAD', 'GOOD', 'BAD', 'BAD', 'BAD', 'BAD', 'BAD', 'GOOD',\n",
       "       'GOOD', 'BAD', 'BAD', 'GOOD', 'GOOD', 'GOOD', 'BAD', 'BAD', 'BAD',\n",
       "       'GOOD', 'BAD', 'GOOD', 'BAD', 'GOOD', 'GOOD', 'GOOD'], dtype=object)"
      ]
     },
     "execution_count": 286,
     "metadata": {},
     "output_type": "execute_result"
    }
   ],
   "source": [
    "logreg_predictions = logreg_classifier.predict(X_test)\n",
    "logreg_predictions"
   ]
  },
  {
   "cell_type": "markdown",
   "metadata": {},
   "source": [
    "## Result"
   ]
  },
  {
   "cell_type": "markdown",
   "metadata": {},
   "source": [
    "### Confusion Matrix"
   ]
  },
  {
   "cell_type": "code",
   "execution_count": 287,
   "metadata": {},
   "outputs": [
    {
     "name": "stdout",
     "output_type": "stream",
     "text": [
      "[[183  65]\n",
      " [ 55 177]]\n"
     ]
    }
   ],
   "source": [
    "print(confusion_matrix(y_test, logreg_predictions))"
   ]
  },
  {
   "cell_type": "markdown",
   "metadata": {},
   "source": [
    "### Classification Report"
   ]
  },
  {
   "cell_type": "code",
   "execution_count": 288,
   "metadata": {},
   "outputs": [
    {
     "name": "stdout",
     "output_type": "stream",
     "text": [
      "              precision    recall  f1-score   support\n",
      "\n",
      "         BAD       0.77      0.74      0.75       248\n",
      "        GOOD       0.73      0.76      0.75       232\n",
      "\n",
      "    accuracy                           0.75       480\n",
      "   macro avg       0.75      0.75      0.75       480\n",
      "weighted avg       0.75      0.75      0.75       480\n",
      "\n"
     ]
    }
   ],
   "source": [
    "print(classification_report(y_test, logreg_predictions))"
   ]
  },
  {
   "cell_type": "markdown",
   "metadata": {},
   "source": [
    "### Accuracy Score"
   ]
  },
  {
   "cell_type": "code",
   "execution_count": 289,
   "metadata": {},
   "outputs": [
    {
     "name": "stdout",
     "output_type": "stream",
     "text": [
      "0.75\n"
     ]
    }
   ],
   "source": [
    "print(accuracy_score(y_test, logreg_predictions))"
   ]
  },
  {
   "cell_type": "code",
   "execution_count": 290,
   "metadata": {},
   "outputs": [
    {
     "data": {
      "text/html": [
       "<div>\n",
       "<style scoped>\n",
       "    .dataframe tbody tr th:only-of-type {\n",
       "        vertical-align: middle;\n",
       "    }\n",
       "\n",
       "    .dataframe tbody tr th {\n",
       "        vertical-align: top;\n",
       "    }\n",
       "\n",
       "    .dataframe thead th {\n",
       "        text-align: right;\n",
       "    }\n",
       "</style>\n",
       "<table border=\"1\" class=\"dataframe\">\n",
       "  <thead>\n",
       "    <tr style=\"text-align: right;\">\n",
       "      <th></th>\n",
       "      <th>Model</th>\n",
       "      <th>Accuracy</th>\n",
       "    </tr>\n",
       "  </thead>\n",
       "  <tbody>\n",
       "    <tr>\n",
       "      <th>0</th>\n",
       "      <td>Logistic Regression</td>\n",
       "      <td>0.75</td>\n",
       "    </tr>\n",
       "  </tbody>\n",
       "</table>\n",
       "</div>"
      ],
      "text/plain": [
       "                 Model  Accuracy\n",
       "0  Logistic Regression      0.75"
      ]
     },
     "execution_count": 290,
     "metadata": {},
     "output_type": "execute_result"
    }
   ],
   "source": [
    "accuracy_results = pd.DataFrame({'Model':['Logistic Regression'], 'Accuracy':[accuracy_score(y_test, logreg_predictions)]})\n",
    "accuracy_results"
   ]
  },
  {
   "cell_type": "markdown",
   "metadata": {},
   "source": [
    "# Random Forest"
   ]
  },
  {
   "cell_type": "markdown",
   "metadata": {},
   "source": [
    "## GridSearchCV"
   ]
  },
  {
   "cell_type": "code",
   "execution_count": 291,
   "metadata": {},
   "outputs": [],
   "source": [
    "# # Perform a gridsearch for Random Forest\n",
    "# # Obtain optimal values of model hyperparameters\n",
    "\n",
    "# RF_classifier = RandomForestClassifier(random_state=0)\n",
    "\n",
    "# params = {'max_depth': [10, 20, 30], # Maximum number of levels in tree\n",
    "#          'min_samples_leaf': [1, 2, 4], # Minimum number of samples required at each leaf node\n",
    "#          'min_samples_split': [2, 5, 10], # Minimum number of samples required to split a node\n",
    "#          'n_estimators': [200, 500, 1000]} # The number of trees in the forest\n",
    "\n",
    "# g_s_RF = GridSearchCV(RF_classifier,param_grid=params, n_jobs=-1) # create gridsearch with input params\n",
    "# grid_result = g_s_RF.fit(X_train, y_train) # fit gridsearch with training data\n",
    "# best_params = grid_result.best_params_ # output best params for given data\n",
    "# best_params"
   ]
  },
  {
   "cell_type": "code",
   "execution_count": 292,
   "metadata": {},
   "outputs": [
    {
     "data": {
      "text/plain": [
       "RandomForestClassifier(max_depth=30, n_estimators=1000, random_state=0)"
      ]
     },
     "execution_count": 292,
     "metadata": {},
     "output_type": "execute_result"
    }
   ],
   "source": [
    "RF_classifier = RandomForestClassifier(criterion='gini',\n",
    "                                       max_depth=30,\n",
    "                                       min_samples_leaf=1,\n",
    "                                       min_samples_split=2,\n",
    "                                       n_estimators=1000, \n",
    "                                       random_state=0)\n",
    "RF_classifier.fit(X_train, y_train)"
   ]
  },
  {
   "cell_type": "code",
   "execution_count": 293,
   "metadata": {},
   "outputs": [
    {
     "data": {
      "text/plain": [
       "array(['GOOD', 'GOOD', 'GOOD', 'GOOD', 'BAD', 'BAD', 'BAD', 'GOOD', 'BAD',\n",
       "       'GOOD', 'BAD', 'BAD', 'GOOD', 'GOOD', 'BAD', 'BAD', 'GOOD', 'BAD',\n",
       "       'BAD', 'BAD', 'BAD', 'BAD', 'BAD', 'GOOD', 'GOOD', 'BAD', 'GOOD',\n",
       "       'BAD', 'BAD', 'GOOD', 'GOOD', 'GOOD', 'BAD', 'BAD', 'GOOD', 'BAD',\n",
       "       'GOOD', 'BAD', 'GOOD', 'BAD', 'GOOD', 'BAD', 'GOOD', 'GOOD', 'BAD',\n",
       "       'GOOD', 'BAD', 'BAD', 'GOOD', 'BAD', 'BAD', 'BAD', 'BAD', 'BAD',\n",
       "       'GOOD', 'BAD', 'BAD', 'GOOD', 'GOOD', 'BAD', 'GOOD', 'BAD', 'BAD',\n",
       "       'GOOD', 'GOOD', 'BAD', 'BAD', 'GOOD', 'BAD', 'GOOD', 'BAD', 'GOOD',\n",
       "       'BAD', 'BAD', 'GOOD', 'BAD', 'BAD', 'GOOD', 'BAD', 'BAD', 'BAD',\n",
       "       'BAD', 'BAD', 'BAD', 'GOOD', 'GOOD', 'BAD', 'BAD', 'BAD', 'GOOD',\n",
       "       'GOOD', 'BAD', 'BAD', 'BAD', 'GOOD', 'GOOD', 'BAD', 'BAD', 'BAD',\n",
       "       'BAD', 'BAD', 'BAD', 'GOOD', 'BAD', 'GOOD', 'GOOD', 'GOOD', 'GOOD',\n",
       "       'GOOD', 'GOOD', 'GOOD', 'BAD', 'GOOD', 'BAD', 'BAD', 'GOOD', 'BAD',\n",
       "       'BAD', 'BAD', 'GOOD', 'BAD', 'GOOD', 'BAD', 'GOOD', 'GOOD', 'GOOD',\n",
       "       'GOOD', 'BAD', 'GOOD', 'GOOD', 'GOOD', 'BAD', 'GOOD', 'BAD',\n",
       "       'GOOD', 'GOOD', 'BAD', 'GOOD', 'GOOD', 'BAD', 'BAD', 'GOOD',\n",
       "       'GOOD', 'GOOD', 'BAD', 'BAD', 'GOOD', 'BAD', 'BAD', 'GOOD', 'BAD',\n",
       "       'GOOD', 'GOOD', 'BAD', 'BAD', 'BAD', 'GOOD', 'BAD', 'GOOD', 'GOOD',\n",
       "       'BAD', 'GOOD', 'BAD', 'GOOD', 'BAD', 'BAD', 'GOOD', 'GOOD', 'BAD',\n",
       "       'GOOD', 'GOOD', 'BAD', 'BAD', 'BAD', 'GOOD', 'GOOD', 'GOOD',\n",
       "       'GOOD', 'GOOD', 'BAD', 'BAD', 'GOOD', 'BAD', 'GOOD', 'GOOD', 'BAD',\n",
       "       'GOOD', 'BAD', 'BAD', 'GOOD', 'GOOD', 'GOOD', 'BAD', 'GOOD', 'BAD',\n",
       "       'GOOD', 'BAD', 'GOOD', 'BAD', 'BAD', 'GOOD', 'BAD', 'GOOD', 'GOOD',\n",
       "       'BAD', 'GOOD', 'GOOD', 'BAD', 'GOOD', 'GOOD', 'GOOD', 'GOOD',\n",
       "       'GOOD', 'GOOD', 'GOOD', 'BAD', 'GOOD', 'BAD', 'GOOD', 'BAD',\n",
       "       'GOOD', 'BAD', 'GOOD', 'GOOD', 'BAD', 'BAD', 'BAD', 'GOOD', 'GOOD',\n",
       "       'GOOD', 'BAD', 'GOOD', 'BAD', 'BAD', 'GOOD', 'GOOD', 'GOOD', 'BAD',\n",
       "       'GOOD', 'BAD', 'BAD', 'BAD', 'BAD', 'GOOD', 'GOOD', 'GOOD', 'GOOD',\n",
       "       'GOOD', 'GOOD', 'GOOD', 'GOOD', 'BAD', 'BAD', 'GOOD', 'GOOD',\n",
       "       'GOOD', 'BAD', 'BAD', 'BAD', 'BAD', 'GOOD', 'BAD', 'GOOD', 'BAD',\n",
       "       'BAD', 'GOOD', 'GOOD', 'BAD', 'GOOD', 'BAD', 'GOOD', 'BAD', 'GOOD',\n",
       "       'BAD', 'GOOD', 'BAD', 'GOOD', 'GOOD', 'BAD', 'BAD', 'GOOD', 'BAD',\n",
       "       'BAD', 'BAD', 'BAD', 'BAD', 'BAD', 'GOOD', 'BAD', 'BAD', 'GOOD',\n",
       "       'BAD', 'BAD', 'GOOD', 'GOOD', 'BAD', 'GOOD', 'GOOD', 'GOOD',\n",
       "       'GOOD', 'BAD', 'GOOD', 'BAD', 'GOOD', 'GOOD', 'GOOD', 'GOOD',\n",
       "       'BAD', 'GOOD', 'GOOD', 'BAD', 'BAD', 'GOOD', 'GOOD', 'BAD', 'GOOD',\n",
       "       'BAD', 'BAD', 'BAD', 'GOOD', 'BAD', 'GOOD', 'GOOD', 'BAD', 'BAD',\n",
       "       'GOOD', 'BAD', 'BAD', 'GOOD', 'BAD', 'BAD', 'GOOD', 'GOOD', 'GOOD',\n",
       "       'GOOD', 'BAD', 'BAD', 'BAD', 'BAD', 'BAD', 'BAD', 'GOOD', 'BAD',\n",
       "       'GOOD', 'BAD', 'BAD', 'GOOD', 'GOOD', 'BAD', 'GOOD', 'GOOD',\n",
       "       'GOOD', 'GOOD', 'BAD', 'GOOD', 'BAD', 'GOOD', 'GOOD', 'BAD', 'BAD',\n",
       "       'GOOD', 'BAD', 'GOOD', 'GOOD', 'BAD', 'BAD', 'GOOD', 'BAD', 'GOOD',\n",
       "       'BAD', 'GOOD', 'BAD', 'GOOD', 'GOOD', 'GOOD', 'BAD', 'GOOD', 'BAD',\n",
       "       'GOOD', 'GOOD', 'BAD', 'GOOD', 'BAD', 'GOOD', 'BAD', 'BAD', 'BAD',\n",
       "       'GOOD', 'BAD', 'BAD', 'GOOD', 'BAD', 'GOOD', 'BAD', 'GOOD', 'GOOD',\n",
       "       'BAD', 'GOOD', 'GOOD', 'BAD', 'GOOD', 'GOOD', 'GOOD', 'GOOD',\n",
       "       'GOOD', 'BAD', 'GOOD', 'BAD', 'GOOD', 'BAD', 'BAD', 'GOOD', 'GOOD',\n",
       "       'BAD', 'BAD', 'GOOD', 'BAD', 'GOOD', 'GOOD', 'GOOD', 'GOOD', 'BAD',\n",
       "       'BAD', 'BAD', 'GOOD', 'BAD', 'BAD', 'GOOD', 'GOOD', 'GOOD', 'GOOD',\n",
       "       'GOOD', 'GOOD', 'GOOD', 'GOOD', 'BAD', 'GOOD', 'BAD', 'BAD',\n",
       "       'GOOD', 'GOOD', 'GOOD', 'GOOD', 'GOOD', 'GOOD', 'BAD', 'GOOD',\n",
       "       'BAD', 'GOOD', 'BAD', 'BAD', 'GOOD', 'GOOD', 'GOOD', 'GOOD',\n",
       "       'GOOD', 'GOOD', 'GOOD', 'GOOD', 'BAD', 'BAD', 'BAD', 'GOOD',\n",
       "       'GOOD', 'BAD', 'BAD', 'BAD', 'GOOD', 'GOOD', 'GOOD', 'BAD', 'BAD',\n",
       "       'GOOD', 'BAD', 'BAD', 'GOOD', 'BAD', 'GOOD', 'GOOD', 'GOOD'],\n",
       "      dtype=object)"
      ]
     },
     "execution_count": 293,
     "metadata": {},
     "output_type": "execute_result"
    }
   ],
   "source": [
    "RF_predictions = RF_classifier.predict(X_test)\n",
    "RF_predictions"
   ]
  },
  {
   "cell_type": "markdown",
   "metadata": {},
   "source": [
    "## Results"
   ]
  },
  {
   "cell_type": "markdown",
   "metadata": {},
   "source": [
    "### Confusion Matrix"
   ]
  },
  {
   "cell_type": "code",
   "execution_count": 294,
   "metadata": {},
   "outputs": [
    {
     "name": "stdout",
     "output_type": "stream",
     "text": [
      "[[189  59]\n",
      " [ 40 192]]\n"
     ]
    }
   ],
   "source": [
    "print(confusion_matrix(y_test, RF_predictions))"
   ]
  },
  {
   "cell_type": "markdown",
   "metadata": {},
   "source": [
    "### Classification Report"
   ]
  },
  {
   "cell_type": "code",
   "execution_count": 295,
   "metadata": {},
   "outputs": [
    {
     "name": "stdout",
     "output_type": "stream",
     "text": [
      "              precision    recall  f1-score   support\n",
      "\n",
      "         BAD       0.83      0.76      0.79       248\n",
      "        GOOD       0.76      0.83      0.80       232\n",
      "\n",
      "    accuracy                           0.79       480\n",
      "   macro avg       0.80      0.79      0.79       480\n",
      "weighted avg       0.80      0.79      0.79       480\n",
      "\n"
     ]
    }
   ],
   "source": [
    "print(classification_report(y_test, RF_predictions))"
   ]
  },
  {
   "cell_type": "markdown",
   "metadata": {},
   "source": [
    "### Accuracy Score"
   ]
  },
  {
   "cell_type": "code",
   "execution_count": 296,
   "metadata": {},
   "outputs": [
    {
     "name": "stdout",
     "output_type": "stream",
     "text": [
      "0.79375\n"
     ]
    }
   ],
   "source": [
    "print(accuracy_score(y_test, RF_predictions))"
   ]
  },
  {
   "cell_type": "code",
   "execution_count": 297,
   "metadata": {},
   "outputs": [
    {
     "data": {
      "text/html": [
       "<div>\n",
       "<style scoped>\n",
       "    .dataframe tbody tr th:only-of-type {\n",
       "        vertical-align: middle;\n",
       "    }\n",
       "\n",
       "    .dataframe tbody tr th {\n",
       "        vertical-align: top;\n",
       "    }\n",
       "\n",
       "    .dataframe thead th {\n",
       "        text-align: right;\n",
       "    }\n",
       "</style>\n",
       "<table border=\"1\" class=\"dataframe\">\n",
       "  <thead>\n",
       "    <tr style=\"text-align: right;\">\n",
       "      <th></th>\n",
       "      <th>Model</th>\n",
       "      <th>Accuracy</th>\n",
       "    </tr>\n",
       "  </thead>\n",
       "  <tbody>\n",
       "    <tr>\n",
       "      <th>0</th>\n",
       "      <td>Logistic Regression</td>\n",
       "      <td>0.75000</td>\n",
       "    </tr>\n",
       "    <tr>\n",
       "      <th>1</th>\n",
       "      <td>Random Forest</td>\n",
       "      <td>0.79375</td>\n",
       "    </tr>\n",
       "  </tbody>\n",
       "</table>\n",
       "</div>"
      ],
      "text/plain": [
       "                 Model  Accuracy\n",
       "0  Logistic Regression   0.75000\n",
       "1        Random Forest   0.79375"
      ]
     },
     "execution_count": 297,
     "metadata": {},
     "output_type": "execute_result"
    }
   ],
   "source": [
    "accuracy_results = accuracy_results.append({'Model':'Random Forest', 'Accuracy':accuracy_score(y_test, RF_predictions)},ignore_index=True)\n",
    "accuracy_results"
   ]
  },
  {
   "cell_type": "markdown",
   "metadata": {},
   "source": [
    "### Plot Comparison between Actuals and Predicted"
   ]
  },
  {
   "cell_type": "code",
   "execution_count": 298,
   "metadata": {},
   "outputs": [],
   "source": [
    "predictions_count = dict(Counter(RF_predictions))\n",
    "predictions_count_df = pd.DataFrame.from_dict(predictions_count, orient ='index', columns =['Predictions'])\n",
    "\n",
    "y_test_count = dict(Counter(y_test))\n",
    "y_test_count_df = pd.DataFrame.from_dict(y_test_count, orient ='index', columns =['Actuals'])\n",
    "\n",
    "random_forest_df = pd.concat([predictions_count_df, y_test_count_df], axis=1).fillna(0)"
   ]
  },
  {
   "cell_type": "code",
   "execution_count": 299,
   "metadata": {},
   "outputs": [
    {
     "data": {
      "image/png": "[encoded data removed]",
      "text/plain": [
       "<Figure size 1440x720 with 1 Axes>"
      ]
     },
     "metadata": {
      "needs_background": "light"
     },
     "output_type": "display_data"
    }
   ],
   "source": [
    "random_forest_df.plot.bar(rot=0, figsize=(20,10))\n",
    "\n",
    "plt.title('Comparison between Actual Reviews and Predicted Reviews (Random Forest)',fontsize=30)\n",
    "\n",
    "plt.xlabel('Rating',fontsize=25)\n",
    "plt.xticks(fontsize=20)\n",
    "plt.ylabel('Count',fontsize=25)\n",
    "plt.yticks(fontsize=20)\n",
    "plt.legend(fontsize=20);"
   ]
  },
  {
   "cell_type": "markdown",
   "metadata": {},
   "source": [
    "# K-Nearest Neighbors (KNN)"
   ]
  },
  {
   "cell_type": "code",
   "execution_count": 300,
   "metadata": {},
   "outputs": [],
   "source": [
    "# # Perform a gridsearch for Random Forest\n",
    "# # Obtain optimal values of model hyperparameters\n",
    "\n",
    "# KNN_classifier = KNeighborsClassifier()\n",
    "\n",
    "# params = {'n_neighbors': [5,15,25], # Number of neighbors\n",
    "#              'weights': ['uniform','distance']} # Weight function used in prediction\n",
    "\n",
    "# g_s_KNN = GridSearchCV(KNN_classifier,param_grid=params, n_jobs=-1) # create gridsearch with input params\n",
    "# grid_result = g_s_KNN.fit(X_train, y_train) # fit gridsearch with training data\n",
    "# best_params = grid_result.best_params_ # output best params for given data\n",
    "# best_params"
   ]
  },
  {
   "cell_type": "code",
   "execution_count": 301,
   "metadata": {},
   "outputs": [
    {
     "data": {
      "text/plain": [
       "KNeighborsClassifier(n_neighbors=25)"
      ]
     },
     "execution_count": 301,
     "metadata": {},
     "output_type": "execute_result"
    }
   ],
   "source": [
    "KNN_classifier = KNeighborsClassifier(n_neighbors=25,weights='uniform')\n",
    "KNN_classifier.fit(X_train, y_train)"
   ]
  },
  {
   "cell_type": "code",
   "execution_count": 302,
   "metadata": {},
   "outputs": [
    {
     "data": {
      "text/plain": [
       "array(['GOOD', 'BAD', 'GOOD', 'GOOD', 'BAD', 'GOOD', 'BAD', 'GOOD',\n",
       "       'GOOD', 'GOOD', 'BAD', 'BAD', 'GOOD', 'GOOD', 'BAD', 'GOOD',\n",
       "       'GOOD', 'BAD', 'BAD', 'GOOD', 'BAD', 'BAD', 'BAD', 'GOOD', 'GOOD',\n",
       "       'BAD', 'GOOD', 'BAD', 'GOOD', 'GOOD', 'GOOD', 'GOOD', 'BAD', 'BAD',\n",
       "       'GOOD', 'BAD', 'GOOD', 'BAD', 'BAD', 'GOOD', 'GOOD', 'BAD', 'GOOD',\n",
       "       'GOOD', 'BAD', 'GOOD', 'BAD', 'BAD', 'GOOD', 'GOOD', 'GOOD',\n",
       "       'GOOD', 'BAD', 'BAD', 'GOOD', 'GOOD', 'BAD', 'GOOD', 'GOOD',\n",
       "       'GOOD', 'BAD', 'GOOD', 'GOOD', 'GOOD', 'GOOD', 'BAD', 'BAD',\n",
       "       'GOOD', 'BAD', 'BAD', 'BAD', 'GOOD', 'BAD', 'GOOD', 'GOOD', 'GOOD',\n",
       "       'GOOD', 'GOOD', 'BAD', 'BAD', 'GOOD', 'GOOD', 'GOOD', 'BAD',\n",
       "       'GOOD', 'GOOD', 'BAD', 'BAD', 'BAD', 'GOOD', 'GOOD', 'BAD', 'BAD',\n",
       "       'BAD', 'GOOD', 'GOOD', 'GOOD', 'GOOD', 'BAD', 'BAD', 'GOOD',\n",
       "       'GOOD', 'GOOD', 'BAD', 'GOOD', 'GOOD', 'GOOD', 'GOOD', 'GOOD',\n",
       "       'GOOD', 'GOOD', 'BAD', 'GOOD', 'BAD', 'BAD', 'GOOD', 'BAD', 'BAD',\n",
       "       'BAD', 'GOOD', 'BAD', 'GOOD', 'BAD', 'GOOD', 'GOOD', 'GOOD', 'BAD',\n",
       "       'BAD', 'GOOD', 'GOOD', 'GOOD', 'GOOD', 'GOOD', 'BAD', 'GOOD',\n",
       "       'GOOD', 'BAD', 'GOOD', 'GOOD', 'BAD', 'GOOD', 'GOOD', 'GOOD',\n",
       "       'GOOD', 'BAD', 'GOOD', 'GOOD', 'BAD', 'BAD', 'GOOD', 'BAD', 'GOOD',\n",
       "       'GOOD', 'BAD', 'BAD', 'BAD', 'GOOD', 'BAD', 'GOOD', 'GOOD', 'BAD',\n",
       "       'GOOD', 'BAD', 'GOOD', 'GOOD', 'GOOD', 'GOOD', 'GOOD', 'BAD',\n",
       "       'GOOD', 'GOOD', 'BAD', 'BAD', 'BAD', 'GOOD', 'BAD', 'GOOD', 'GOOD',\n",
       "       'BAD', 'GOOD', 'GOOD', 'GOOD', 'BAD', 'GOOD', 'GOOD', 'BAD',\n",
       "       'GOOD', 'BAD', 'BAD', 'GOOD', 'GOOD', 'GOOD', 'BAD', 'GOOD', 'BAD',\n",
       "       'GOOD', 'BAD', 'GOOD', 'GOOD', 'BAD', 'GOOD', 'BAD', 'GOOD', 'BAD',\n",
       "       'BAD', 'BAD', 'GOOD', 'BAD', 'GOOD', 'GOOD', 'GOOD', 'GOOD',\n",
       "       'GOOD', 'GOOD', 'GOOD', 'BAD', 'GOOD', 'BAD', 'GOOD', 'BAD',\n",
       "       'GOOD', 'GOOD', 'GOOD', 'GOOD', 'BAD', 'GOOD', 'BAD', 'GOOD',\n",
       "       'GOOD', 'GOOD', 'GOOD', 'GOOD', 'GOOD', 'BAD', 'GOOD', 'GOOD',\n",
       "       'GOOD', 'BAD', 'GOOD', 'BAD', 'GOOD', 'GOOD', 'BAD', 'BAD', 'GOOD',\n",
       "       'GOOD', 'GOOD', 'BAD', 'GOOD', 'GOOD', 'GOOD', 'BAD', 'BAD',\n",
       "       'GOOD', 'GOOD', 'BAD', 'BAD', 'GOOD', 'GOOD', 'BAD', 'GOOD', 'BAD',\n",
       "       'BAD', 'GOOD', 'BAD', 'GOOD', 'GOOD', 'BAD', 'GOOD', 'BAD', 'GOOD',\n",
       "       'GOOD', 'GOOD', 'BAD', 'GOOD', 'BAD', 'GOOD', 'GOOD', 'BAD', 'BAD',\n",
       "       'GOOD', 'BAD', 'BAD', 'BAD', 'BAD', 'BAD', 'BAD', 'GOOD', 'BAD',\n",
       "       'BAD', 'GOOD', 'BAD', 'BAD', 'GOOD', 'GOOD', 'GOOD', 'BAD', 'GOOD',\n",
       "       'GOOD', 'GOOD', 'GOOD', 'GOOD', 'GOOD', 'GOOD', 'GOOD', 'GOOD',\n",
       "       'GOOD', 'BAD', 'GOOD', 'GOOD', 'GOOD', 'BAD', 'GOOD', 'GOOD',\n",
       "       'GOOD', 'GOOD', 'BAD', 'GOOD', 'BAD', 'BAD', 'BAD', 'GOOD', 'GOOD',\n",
       "       'BAD', 'BAD', 'GOOD', 'BAD', 'BAD', 'GOOD', 'BAD', 'BAD', 'GOOD',\n",
       "       'GOOD', 'GOOD', 'BAD', 'BAD', 'BAD', 'BAD', 'BAD', 'GOOD', 'BAD',\n",
       "       'GOOD', 'BAD', 'GOOD', 'BAD', 'BAD', 'GOOD', 'GOOD', 'GOOD',\n",
       "       'GOOD', 'GOOD', 'GOOD', 'GOOD', 'BAD', 'GOOD', 'BAD', 'GOOD',\n",
       "       'GOOD', 'GOOD', 'BAD', 'GOOD', 'GOOD', 'GOOD', 'GOOD', 'GOOD',\n",
       "       'GOOD', 'GOOD', 'BAD', 'GOOD', 'GOOD', 'GOOD', 'BAD', 'GOOD',\n",
       "       'GOOD', 'GOOD', 'GOOD', 'GOOD', 'BAD', 'BAD', 'GOOD', 'GOOD',\n",
       "       'GOOD', 'BAD', 'GOOD', 'BAD', 'BAD', 'BAD', 'GOOD', 'BAD', 'GOOD',\n",
       "       'BAD', 'BAD', 'BAD', 'BAD', 'GOOD', 'GOOD', 'BAD', 'GOOD', 'GOOD',\n",
       "       'GOOD', 'GOOD', 'GOOD', 'GOOD', 'GOOD', 'GOOD', 'BAD', 'GOOD',\n",
       "       'GOOD', 'GOOD', 'BAD', 'BAD', 'GOOD', 'GOOD', 'BAD', 'BAD', 'GOOD',\n",
       "       'BAD', 'BAD', 'GOOD', 'GOOD', 'GOOD', 'BAD', 'BAD', 'BAD', 'BAD',\n",
       "       'BAD', 'BAD', 'GOOD', 'GOOD', 'GOOD', 'GOOD', 'GOOD', 'GOOD',\n",
       "       'GOOD', 'GOOD', 'BAD', 'GOOD', 'BAD', 'BAD', 'GOOD', 'GOOD',\n",
       "       'GOOD', 'GOOD', 'GOOD', 'GOOD', 'BAD', 'GOOD', 'GOOD', 'GOOD',\n",
       "       'GOOD', 'BAD', 'GOOD', 'GOOD', 'BAD', 'GOOD', 'GOOD', 'BAD',\n",
       "       'GOOD', 'BAD', 'GOOD', 'BAD', 'GOOD', 'GOOD', 'GOOD', 'BAD', 'BAD',\n",
       "       'BAD', 'GOOD', 'GOOD', 'GOOD', 'BAD', 'BAD', 'BAD', 'GOOD', 'BAD',\n",
       "       'GOOD', 'BAD', 'GOOD', 'GOOD', 'GOOD'], dtype=object)"
      ]
     },
     "execution_count": 302,
     "metadata": {},
     "output_type": "execute_result"
    }
   ],
   "source": [
    "KNN_predictions = KNN_classifier.predict(X_test)\n",
    "KNN_predictions"
   ]
  },
  {
   "cell_type": "markdown",
   "metadata": {},
   "source": [
    "## Results"
   ]
  },
  {
   "cell_type": "markdown",
   "metadata": {},
   "source": [
    "### Confusion Matrix"
   ]
  },
  {
   "cell_type": "code",
   "execution_count": 303,
   "metadata": {
    "scrolled": true
   },
   "outputs": [
    {
     "name": "stdout",
     "output_type": "stream",
     "text": [
      "[[157  91]\n",
      " [ 33 199]]\n"
     ]
    }
   ],
   "source": [
    "print(confusion_matrix(y_test, KNN_predictions))"
   ]
  },
  {
   "cell_type": "markdown",
   "metadata": {},
   "source": [
    "### Classification Report"
   ]
  },
  {
   "cell_type": "code",
   "execution_count": 304,
   "metadata": {},
   "outputs": [
    {
     "name": "stdout",
     "output_type": "stream",
     "text": [
      "              precision    recall  f1-score   support\n",
      "\n",
      "         BAD       0.83      0.63      0.72       248\n",
      "        GOOD       0.69      0.86      0.76       232\n",
      "\n",
      "    accuracy                           0.74       480\n",
      "   macro avg       0.76      0.75      0.74       480\n",
      "weighted avg       0.76      0.74      0.74       480\n",
      "\n"
     ]
    }
   ],
   "source": [
    "print(classification_report(y_test, KNN_predictions))"
   ]
  },
  {
   "cell_type": "markdown",
   "metadata": {},
   "source": [
    "### Accuracy Score"
   ]
  },
  {
   "cell_type": "code",
   "execution_count": 305,
   "metadata": {},
   "outputs": [
    {
     "name": "stdout",
     "output_type": "stream",
     "text": [
      "0.7416666666666667\n"
     ]
    }
   ],
   "source": [
    "print(accuracy_score(y_test, KNN_predictions))"
   ]
  },
  {
   "cell_type": "code",
   "execution_count": 306,
   "metadata": {
    "scrolled": true
   },
   "outputs": [
    {
     "data": {
      "text/html": [
       "<div>\n",
       "<style scoped>\n",
       "    .dataframe tbody tr th:only-of-type {\n",
       "        vertical-align: middle;\n",
       "    }\n",
       "\n",
       "    .dataframe tbody tr th {\n",
       "        vertical-align: top;\n",
       "    }\n",
       "\n",
       "    .dataframe thead th {\n",
       "        text-align: right;\n",
       "    }\n",
       "</style>\n",
       "<table border=\"1\" class=\"dataframe\">\n",
       "  <thead>\n",
       "    <tr style=\"text-align: right;\">\n",
       "      <th></th>\n",
       "      <th>Model</th>\n",
       "      <th>Accuracy</th>\n",
       "    </tr>\n",
       "  </thead>\n",
       "  <tbody>\n",
       "    <tr>\n",
       "      <th>0</th>\n",
       "      <td>Logistic Regression</td>\n",
       "      <td>0.750000</td>\n",
       "    </tr>\n",
       "    <tr>\n",
       "      <th>1</th>\n",
       "      <td>Random Forest</td>\n",
       "      <td>0.793750</td>\n",
       "    </tr>\n",
       "    <tr>\n",
       "      <th>2</th>\n",
       "      <td>KNN</td>\n",
       "      <td>0.741667</td>\n",
       "    </tr>\n",
       "  </tbody>\n",
       "</table>\n",
       "</div>"
      ],
      "text/plain": [
       "                 Model  Accuracy\n",
       "0  Logistic Regression  0.750000\n",
       "1        Random Forest  0.793750\n",
       "2                  KNN  0.741667"
      ]
     },
     "execution_count": 306,
     "metadata": {},
     "output_type": "execute_result"
    }
   ],
   "source": [
    "accuracy_results = accuracy_results.append({'Model':'KNN', 'Accuracy':accuracy_score(y_test, KNN_predictions)},ignore_index=True)\n",
    "accuracy_results"
   ]
  },
  {
   "cell_type": "markdown",
   "metadata": {},
   "source": [
    "### Plot Comparison between Actuals and Predicted"
   ]
  },
  {
   "cell_type": "code",
   "execution_count": 307,
   "metadata": {},
   "outputs": [],
   "source": [
    "predictions_count = dict(Counter(KNN_predictions))\n",
    "predictions_count_df = pd.DataFrame.from_dict(predictions_count, orient ='index', columns =['Predictions'])\n",
    "\n",
    "y_test_count = dict(Counter(y_test))\n",
    "y_test_count_df = pd.DataFrame.from_dict(y_test_count, orient ='index', columns =['Actuals'])\n",
    "\n",
    "KNN_df = pd.concat([predictions_count_df, y_test_count_df], axis=1).fillna(0)"
   ]
  },
  {
   "cell_type": "code",
   "execution_count": 308,
   "metadata": {},
   "outputs": [
    {
     "data": {
      "image/png": "[encoded data removed]",
      "text/plain": [
       "<Figure size 1440x720 with 1 Axes>"
      ]
     },
     "metadata": {
      "needs_background": "light"
     },
     "output_type": "display_data"
    }
   ],
   "source": [
    "random_forest_df.plot.bar(rot=0, figsize=(20,10))\n",
    "\n",
    "plt.title('Comparison between Actual Reviews and Predicted Reviews (KNN)',fontsize=30)\n",
    "\n",
    "plt.xlabel('Rating',fontsize=25)\n",
    "plt.xticks(fontsize=20)\n",
    "plt.ylabel('Count',fontsize=25)\n",
    "plt.yticks(fontsize=20)\n",
    "plt.legend(fontsize=20);"
   ]
  },
  {
   "cell_type": "markdown",
   "metadata": {},
   "source": [
    "# SVM"
   ]
  },
  {
   "cell_type": "code",
   "execution_count": 309,
   "metadata": {},
   "outputs": [],
   "source": [
    "# # Perform a gridsearch for Random Forest\n",
    "# # Obtain optimal values of model hyperparameters\n",
    "\n",
    "# SVM_classifier = SVC()\n",
    "\n",
    "# params = [{'C': np.logspace(-3, 2, 6), \n",
    "#            'gamma': np.logspace(-3, 2, 6)}]\n",
    "\n",
    "# g_s_SVM = GridSearchCV(SVM_classifier,param_grid=params, n_jobs=-1) # create gridsearch with input params\n",
    "# grid_result = g_s_SVM.fit(X_train, y_train) # fit gridsearch with training data\n",
    "# best_params = grid_result.best_params_ # output best params for given data\n",
    "# best_params"
   ]
  },
  {
   "cell_type": "code",
   "execution_count": 310,
   "metadata": {},
   "outputs": [
    {
     "data": {
      "text/plain": [
       "SVC(C=100.0, gamma=0.01, random_state=0)"
      ]
     },
     "execution_count": 310,
     "metadata": {},
     "output_type": "execute_result"
    }
   ],
   "source": [
    "SVM_classifier = SVC(C=100.0, gamma=0.01,random_state=0)\n",
    "SVM_classifier.fit(X_train, y_train)"
   ]
  },
  {
   "cell_type": "code",
   "execution_count": 311,
   "metadata": {},
   "outputs": [
    {
     "data": {
      "text/plain": [
       "array(['GOOD', 'GOOD', 'GOOD', 'GOOD', 'BAD', 'GOOD', 'BAD', 'BAD', 'BAD',\n",
       "       'GOOD', 'GOOD', 'BAD', 'GOOD', 'GOOD', 'BAD', 'BAD', 'BAD', 'BAD',\n",
       "       'BAD', 'GOOD', 'BAD', 'BAD', 'BAD', 'GOOD', 'GOOD', 'BAD', 'BAD',\n",
       "       'BAD', 'BAD', 'BAD', 'GOOD', 'GOOD', 'BAD', 'BAD', 'GOOD', 'GOOD',\n",
       "       'GOOD', 'GOOD', 'GOOD', 'BAD', 'GOOD', 'BAD', 'GOOD', 'GOOD',\n",
       "       'GOOD', 'GOOD', 'BAD', 'BAD', 'GOOD', 'BAD', 'BAD', 'BAD', 'BAD',\n",
       "       'BAD', 'BAD', 'BAD', 'BAD', 'GOOD', 'GOOD', 'GOOD', 'BAD', 'GOOD',\n",
       "       'GOOD', 'GOOD', 'GOOD', 'GOOD', 'BAD', 'GOOD', 'BAD', 'GOOD',\n",
       "       'BAD', 'GOOD', 'BAD', 'BAD', 'GOOD', 'GOOD', 'GOOD', 'BAD', 'BAD',\n",
       "       'GOOD', 'BAD', 'BAD', 'BAD', 'BAD', 'GOOD', 'GOOD', 'BAD', 'BAD',\n",
       "       'BAD', 'GOOD', 'GOOD', 'BAD', 'BAD', 'BAD', 'GOOD', 'BAD', 'BAD',\n",
       "       'BAD', 'BAD', 'BAD', 'BAD', 'GOOD', 'GOOD', 'BAD', 'GOOD', 'GOOD',\n",
       "       'GOOD', 'BAD', 'GOOD', 'GOOD', 'GOOD', 'GOOD', 'GOOD', 'BAD',\n",
       "       'BAD', 'BAD', 'BAD', 'BAD', 'BAD', 'BAD', 'BAD', 'GOOD', 'BAD',\n",
       "       'GOOD', 'GOOD', 'GOOD', 'BAD', 'BAD', 'GOOD', 'BAD', 'GOOD', 'BAD',\n",
       "       'GOOD', 'BAD', 'GOOD', 'BAD', 'GOOD', 'GOOD', 'GOOD', 'BAD',\n",
       "       'GOOD', 'GOOD', 'GOOD', 'GOOD', 'BAD', 'BAD', 'GOOD', 'BAD', 'BAD',\n",
       "       'GOOD', 'BAD', 'GOOD', 'GOOD', 'BAD', 'BAD', 'BAD', 'BAD', 'BAD',\n",
       "       'GOOD', 'GOOD', 'BAD', 'GOOD', 'BAD', 'GOOD', 'BAD', 'BAD', 'GOOD',\n",
       "       'GOOD', 'BAD', 'BAD', 'GOOD', 'BAD', 'BAD', 'BAD', 'BAD', 'GOOD',\n",
       "       'BAD', 'GOOD', 'BAD', 'BAD', 'BAD', 'GOOD', 'BAD', 'GOOD', 'GOOD',\n",
       "       'BAD', 'GOOD', 'BAD', 'BAD', 'GOOD', 'GOOD', 'GOOD', 'BAD', 'GOOD',\n",
       "       'BAD', 'GOOD', 'BAD', 'GOOD', 'BAD', 'BAD', 'BAD', 'BAD', 'GOOD',\n",
       "       'GOOD', 'BAD', 'GOOD', 'GOOD', 'BAD', 'GOOD', 'GOOD', 'GOOD',\n",
       "       'GOOD', 'BAD', 'GOOD', 'GOOD', 'BAD', 'GOOD', 'BAD', 'GOOD', 'BAD',\n",
       "       'GOOD', 'BAD', 'GOOD', 'GOOD', 'BAD', 'BAD', 'BAD', 'GOOD', 'GOOD',\n",
       "       'BAD', 'GOOD', 'GOOD', 'BAD', 'BAD', 'BAD', 'GOOD', 'GOOD', 'BAD',\n",
       "       'GOOD', 'BAD', 'BAD', 'GOOD', 'BAD', 'GOOD', 'GOOD', 'GOOD',\n",
       "       'GOOD', 'GOOD', 'GOOD', 'GOOD', 'GOOD', 'BAD', 'BAD', 'BAD',\n",
       "       'GOOD', 'GOOD', 'BAD', 'BAD', 'GOOD', 'BAD', 'GOOD', 'BAD', 'GOOD',\n",
       "       'BAD', 'BAD', 'GOOD', 'GOOD', 'BAD', 'GOOD', 'BAD', 'BAD', 'BAD',\n",
       "       'GOOD', 'BAD', 'GOOD', 'BAD', 'GOOD', 'GOOD', 'BAD', 'BAD', 'GOOD',\n",
       "       'BAD', 'BAD', 'GOOD', 'BAD', 'GOOD', 'BAD', 'GOOD', 'BAD', 'GOOD',\n",
       "       'GOOD', 'BAD', 'BAD', 'GOOD', 'GOOD', 'BAD', 'BAD', 'GOOD', 'GOOD',\n",
       "       'GOOD', 'BAD', 'GOOD', 'BAD', 'GOOD', 'GOOD', 'GOOD', 'GOOD',\n",
       "       'BAD', 'GOOD', 'GOOD', 'GOOD', 'BAD', 'GOOD', 'BAD', 'BAD', 'GOOD',\n",
       "       'BAD', 'BAD', 'BAD', 'BAD', 'BAD', 'GOOD', 'GOOD', 'BAD', 'BAD',\n",
       "       'GOOD', 'BAD', 'BAD', 'GOOD', 'BAD', 'BAD', 'BAD', 'GOOD', 'GOOD',\n",
       "       'BAD', 'BAD', 'BAD', 'BAD', 'BAD', 'GOOD', 'BAD', 'BAD', 'BAD',\n",
       "       'GOOD', 'BAD', 'BAD', 'GOOD', 'GOOD', 'BAD', 'GOOD', 'BAD', 'GOOD',\n",
       "       'GOOD', 'BAD', 'GOOD', 'BAD', 'GOOD', 'BAD', 'BAD', 'GOOD', 'BAD',\n",
       "       'BAD', 'GOOD', 'GOOD', 'BAD', 'GOOD', 'BAD', 'BAD', 'GOOD', 'BAD',\n",
       "       'GOOD', 'BAD', 'GOOD', 'GOOD', 'GOOD', 'BAD', 'GOOD', 'BAD', 'BAD',\n",
       "       'BAD', 'GOOD', 'GOOD', 'BAD', 'GOOD', 'BAD', 'BAD', 'BAD', 'GOOD',\n",
       "       'BAD', 'BAD', 'GOOD', 'BAD', 'GOOD', 'BAD', 'BAD', 'BAD', 'BAD',\n",
       "       'GOOD', 'GOOD', 'GOOD', 'GOOD', 'GOOD', 'BAD', 'BAD', 'BAD', 'BAD',\n",
       "       'GOOD', 'GOOD', 'GOOD', 'BAD', 'BAD', 'GOOD', 'GOOD', 'BAD', 'BAD',\n",
       "       'GOOD', 'GOOD', 'BAD', 'GOOD', 'GOOD', 'GOOD', 'BAD', 'BAD', 'BAD',\n",
       "       'BAD', 'BAD', 'BAD', 'GOOD', 'GOOD', 'GOOD', 'GOOD', 'GOOD',\n",
       "       'GOOD', 'GOOD', 'GOOD', 'GOOD', 'GOOD', 'BAD', 'BAD', 'GOOD',\n",
       "       'GOOD', 'GOOD', 'GOOD', 'GOOD', 'GOOD', 'BAD', 'GOOD', 'GOOD',\n",
       "       'GOOD', 'BAD', 'BAD', 'GOOD', 'GOOD', 'BAD', 'GOOD', 'GOOD', 'BAD',\n",
       "       'GOOD', 'BAD', 'BAD', 'BAD', 'BAD', 'BAD', 'GOOD', 'BAD', 'BAD',\n",
       "       'BAD', 'GOOD', 'GOOD', 'GOOD', 'BAD', 'BAD', 'BAD', 'BAD', 'BAD',\n",
       "       'GOOD', 'BAD', 'GOOD', 'GOOD', 'GOOD'], dtype=object)"
      ]
     },
     "execution_count": 311,
     "metadata": {},
     "output_type": "execute_result"
    }
   ],
   "source": [
    "SVM_predictions = SVM_classifier.predict(X_test)\n",
    "SVM_predictions"
   ]
  },
  {
   "cell_type": "markdown",
   "metadata": {},
   "source": [
    "## Results"
   ]
  },
  {
   "cell_type": "markdown",
   "metadata": {},
   "source": [
    "### Confusion Matrix"
   ]
  },
  {
   "cell_type": "code",
   "execution_count": 312,
   "metadata": {
    "scrolled": true
   },
   "outputs": [
    {
     "name": "stdout",
     "output_type": "stream",
     "text": [
      "[[195  53]\n",
      " [ 50 182]]\n"
     ]
    }
   ],
   "source": [
    "print(confusion_matrix(y_test, SVM_predictions))"
   ]
  },
  {
   "cell_type": "markdown",
   "metadata": {},
   "source": [
    "### Classification Report"
   ]
  },
  {
   "cell_type": "code",
   "execution_count": 313,
   "metadata": {},
   "outputs": [
    {
     "name": "stdout",
     "output_type": "stream",
     "text": [
      "              precision    recall  f1-score   support\n",
      "\n",
      "         BAD       0.80      0.79      0.79       248\n",
      "        GOOD       0.77      0.78      0.78       232\n",
      "\n",
      "    accuracy                           0.79       480\n",
      "   macro avg       0.79      0.79      0.79       480\n",
      "weighted avg       0.79      0.79      0.79       480\n",
      "\n"
     ]
    }
   ],
   "source": [
    "print(classification_report(y_test, SVM_predictions))"
   ]
  },
  {
   "cell_type": "markdown",
   "metadata": {},
   "source": [
    "### Accuracy Score"
   ]
  },
  {
   "cell_type": "code",
   "execution_count": 314,
   "metadata": {},
   "outputs": [
    {
     "name": "stdout",
     "output_type": "stream",
     "text": [
      "0.7854166666666667\n"
     ]
    }
   ],
   "source": [
    "print(accuracy_score(y_test, SVM_predictions))"
   ]
  },
  {
   "cell_type": "code",
   "execution_count": 315,
   "metadata": {
    "scrolled": true
   },
   "outputs": [
    {
     "data": {
      "text/html": [
       "<div>\n",
       "<style scoped>\n",
       "    .dataframe tbody tr th:only-of-type {\n",
       "        vertical-align: middle;\n",
       "    }\n",
       "\n",
       "    .dataframe tbody tr th {\n",
       "        vertical-align: top;\n",
       "    }\n",
       "\n",
       "    .dataframe thead th {\n",
       "        text-align: right;\n",
       "    }\n",
       "</style>\n",
       "<table border=\"1\" class=\"dataframe\">\n",
       "  <thead>\n",
       "    <tr style=\"text-align: right;\">\n",
       "      <th></th>\n",
       "      <th>Model</th>\n",
       "      <th>Accuracy</th>\n",
       "    </tr>\n",
       "  </thead>\n",
       "  <tbody>\n",
       "    <tr>\n",
       "      <th>0</th>\n",
       "      <td>Logistic Regression</td>\n",
       "      <td>0.750000</td>\n",
       "    </tr>\n",
       "    <tr>\n",
       "      <th>1</th>\n",
       "      <td>Random Forest</td>\n",
       "      <td>0.793750</td>\n",
       "    </tr>\n",
       "    <tr>\n",
       "      <th>2</th>\n",
       "      <td>KNN</td>\n",
       "      <td>0.741667</td>\n",
       "    </tr>\n",
       "    <tr>\n",
       "      <th>3</th>\n",
       "      <td>SVM</td>\n",
       "      <td>0.785417</td>\n",
       "    </tr>\n",
       "  </tbody>\n",
       "</table>\n",
       "</div>"
      ],
      "text/plain": [
       "                 Model  Accuracy\n",
       "0  Logistic Regression  0.750000\n",
       "1        Random Forest  0.793750\n",
       "2                  KNN  0.741667\n",
       "3                  SVM  0.785417"
      ]
     },
     "execution_count": 315,
     "metadata": {},
     "output_type": "execute_result"
    }
   ],
   "source": [
    "accuracy_results = accuracy_results.append({'Model':'SVM', 'Accuracy':accuracy_score(y_test, SVM_predictions)},ignore_index=True)\n",
    "accuracy_results"
   ]
  },
  {
   "cell_type": "markdown",
   "metadata": {},
   "source": [
    "### Plot Comparison between Actuals and Predicted"
   ]
  },
  {
   "cell_type": "code",
   "execution_count": 316,
   "metadata": {},
   "outputs": [],
   "source": [
    "predictions_count = dict(Counter(SVM_predictions))\n",
    "predictions_count_df = pd.DataFrame.from_dict(predictions_count, orient ='index', columns =['Predictions'])\n",
    "\n",
    "y_test_count = dict(Counter(y_test))\n",
    "y_test_count_df = pd.DataFrame.from_dict(y_test_count, orient ='index', columns =['Actuals'])\n",
    "\n",
    "KNN_df = pd.concat([predictions_count_df, y_test_count_df], axis=1).fillna(0)"
   ]
  },
  {
   "cell_type": "code",
   "execution_count": 317,
   "metadata": {},
   "outputs": [
    {
     "data": {
      "image/png": "[encoded data removed]",
      "text/plain": [
       "<Figure size 1440x720 with 1 Axes>"
      ]
     },
     "metadata": {
      "needs_background": "light"
     },
     "output_type": "display_data"
    }
   ],
   "source": [
    "random_forest_df.plot.bar(rot=0, figsize=(20,10))\n",
    "\n",
    "plt.title('Comparison between Actual Reviews and Predicted Reviews (SVM)',fontsize=30)\n",
    "\n",
    "plt.xlabel('Rating',fontsize=25)\n",
    "plt.xticks(fontsize=20)\n",
    "plt.ylabel('Count',fontsize=25)\n",
    "plt.yticks(fontsize=20)\n",
    "plt.legend(fontsize=20);"
   ]
  },
  {
   "cell_type": "markdown",
   "metadata": {},
   "source": [
    "# Sentiment Analyzer using NLTK Module Vader\n",
    "\n",
    "* works well with social media type text\n",
    "* doesn't require any training data and is constructed using human-curated sentiment lexicon"
   ]
  },
  {
   "cell_type": "code",
   "execution_count": 318,
   "metadata": {},
   "outputs": [],
   "source": [
    "from vaderSentiment.vaderSentiment import SentimentIntensityAnalyzer\n",
    "analyser = SentimentIntensityAnalyzer()"
   ]
  },
  {
   "cell_type": "code",
   "execution_count": 319,
   "metadata": {},
   "outputs": [],
   "source": [
    "def sentiment_analyzer_scores(sentence):\n",
    "    # polarity_scores: ranging from -1 (most neg) to 1 (most pos)\n",
    "    score = analyser.polarity_scores(sentence)\n",
    "    return score # {neg: Negative, neu: Neutral, pos: Positive, compound: Aggregated Score}"
   ]
  },
  {
   "cell_type": "code",
   "execution_count": 320,
   "metadata": {},
   "outputs": [],
   "source": [
    "def compound_score(text):\n",
    "    comp=sentiment_analyzer_scores(text)\n",
    "    return comp['compound'] # returns the compound score from the dictionary"
   ]
  },
  {
   "cell_type": "code",
   "execution_count": 321,
   "metadata": {},
   "outputs": [],
   "source": [
    "# applying on the reviews column to get the score\n",
    "final_df['sentiment_score'] = final_df['review_description'].apply(lambda x:compound_score(x))"
   ]
  },
  {
   "cell_type": "code",
   "execution_count": 322,
   "metadata": {},
   "outputs": [
    {
     "data": {
      "text/html": [
       "<div>\n",
       "<style scoped>\n",
       "    .dataframe tbody tr th:only-of-type {\n",
       "        vertical-align: middle;\n",
       "    }\n",
       "\n",
       "    .dataframe tbody tr th {\n",
       "        vertical-align: top;\n",
       "    }\n",
       "\n",
       "    .dataframe thead th {\n",
       "        text-align: right;\n",
       "    }\n",
       "</style>\n",
       "<table border=\"1\" class=\"dataframe\">\n",
       "  <thead>\n",
       "    <tr style=\"text-align: right;\">\n",
       "      <th></th>\n",
       "      <th>asin_id</th>\n",
       "      <th>name</th>\n",
       "      <th>price</th>\n",
       "      <th>avg_rating</th>\n",
       "      <th>no_of_ratings</th>\n",
       "      <th>review_id</th>\n",
       "      <th>review_title</th>\n",
       "      <th>review_description</th>\n",
       "      <th>user_rating</th>\n",
       "      <th>cleaned_title</th>\n",
       "      <th>cleaned_reviews</th>\n",
       "      <th>new_rating</th>\n",
       "      <th>sentiment_score</th>\n",
       "    </tr>\n",
       "  </thead>\n",
       "  <tbody>\n",
       "    <tr>\n",
       "      <th>0</th>\n",
       "      <td>B076HK9H7Z</td>\n",
       "      <td>Sorry! Game</td>\n",
       "      <td>0.0</td>\n",
       "      <td>4.7</td>\n",
       "      <td>7555</td>\n",
       "      <td>R1OSPWS88F2CUZ</td>\n",
       "      <td>DO NOT BUY!!!</td>\n",
       "      <td>I would give this zero stars if I could! If ...</td>\n",
       "      <td>1.0</td>\n",
       "      <td>buy</td>\n",
       "      <td>would give zero star could youre original sorr...</td>\n",
       "      <td>BAD</td>\n",
       "      <td>0.8548</td>\n",
       "    </tr>\n",
       "    <tr>\n",
       "      <th>1</th>\n",
       "      <td>B076HK9H7Z</td>\n",
       "      <td>Sorry! Game</td>\n",
       "      <td>0.0</td>\n",
       "      <td>4.7</td>\n",
       "      <td>7555</td>\n",
       "      <td>R1DCFJ8VYSN17B</td>\n",
       "      <td>Is this the millennial version?</td>\n",
       "      <td>This is not the original sorry game. It only...</td>\n",
       "      <td>1.0</td>\n",
       "      <td>millennial version</td>\n",
       "      <td>original sorry game pawn per team instead trad...</td>\n",
       "      <td>BAD</td>\n",
       "      <td>-0.4873</td>\n",
       "    </tr>\n",
       "    <tr>\n",
       "      <th>2</th>\n",
       "      <td>B076HK9H7Z</td>\n",
       "      <td>Sorry! Game</td>\n",
       "      <td>0.0</td>\n",
       "      <td>4.7</td>\n",
       "      <td>7555</td>\n",
       "      <td>R1V07N4GXA7RSL</td>\n",
       "      <td>Wimp and Crybaby Edition</td>\n",
       "      <td>We bought this to replace our old Sorry game...</td>\n",
       "      <td>1.0</td>\n",
       "      <td>wimp crybaby edition</td>\n",
       "      <td>buy replace old sorry game fall apart wish rea...</td>\n",
       "      <td>BAD</td>\n",
       "      <td>0.2885</td>\n",
       "    </tr>\n",
       "    <tr>\n",
       "      <th>3</th>\n",
       "      <td>B076HK9H7Z</td>\n",
       "      <td>Sorry! Game</td>\n",
       "      <td>0.0</td>\n",
       "      <td>4.7</td>\n",
       "      <td>7555</td>\n",
       "      <td>R2Z262NZDEU2EY</td>\n",
       "      <td>NOT the original/regular Sorry!</td>\n",
       "      <td>Be warned that this is not the sorry you gre...</td>\n",
       "      <td>2.0</td>\n",
       "      <td>originalregular sorry</td>\n",
       "      <td>warn sorry grow three token per player rule di...</td>\n",
       "      <td>BAD</td>\n",
       "      <td>0.8726</td>\n",
       "    </tr>\n",
       "    <tr>\n",
       "      <th>4</th>\n",
       "      <td>B076HK9H7Z</td>\n",
       "      <td>Sorry! Game</td>\n",
       "      <td>0.0</td>\n",
       "      <td>4.7</td>\n",
       "      <td>7555</td>\n",
       "      <td>RG3XIFV1PUX9Y</td>\n",
       "      <td>Not the classic by a long shot, but okay.</td>\n",
       "      <td>Definitely not the classic game, with only 3...</td>\n",
       "      <td>4.0</td>\n",
       "      <td>classic long shot okay</td>\n",
       "      <td>definitely classic game pawn card instead dice...</td>\n",
       "      <td>GOOD</td>\n",
       "      <td>0.9565</td>\n",
       "    </tr>\n",
       "  </tbody>\n",
       "</table>\n",
       "</div>"
      ],
      "text/plain": [
       "      asin_id         name  price  avg_rating  no_of_ratings       review_id  \\\n",
       "0  B076HK9H7Z  Sorry! Game    0.0         4.7           7555  R1OSPWS88F2CUZ   \n",
       "1  B076HK9H7Z  Sorry! Game    0.0         4.7           7555  R1DCFJ8VYSN17B   \n",
       "2  B076HK9H7Z  Sorry! Game    0.0         4.7           7555  R1V07N4GXA7RSL   \n",
       "3  B076HK9H7Z  Sorry! Game    0.0         4.7           7555  R2Z262NZDEU2EY   \n",
       "4  B076HK9H7Z  Sorry! Game    0.0         4.7           7555   RG3XIFV1PUX9Y   \n",
       "\n",
       "                                review_title  \\\n",
       "0                              DO NOT BUY!!!   \n",
       "1            Is this the millennial version?   \n",
       "2                   Wimp and Crybaby Edition   \n",
       "3            NOT the original/regular Sorry!   \n",
       "4  Not the classic by a long shot, but okay.   \n",
       "\n",
       "                                  review_description  user_rating  \\\n",
       "0    I would give this zero stars if I could! If ...          1.0   \n",
       "1    This is not the original sorry game. It only...          1.0   \n",
       "2    We bought this to replace our old Sorry game...          1.0   \n",
       "3    Be warned that this is not the sorry you gre...          2.0   \n",
       "4    Definitely not the classic game, with only 3...          4.0   \n",
       "\n",
       "            cleaned_title                                    cleaned_reviews  \\\n",
       "0                     buy  would give zero star could youre original sorr...   \n",
       "1      millennial version  original sorry game pawn per team instead trad...   \n",
       "2    wimp crybaby edition  buy replace old sorry game fall apart wish rea...   \n",
       "3   originalregular sorry  warn sorry grow three token per player rule di...   \n",
       "4  classic long shot okay  definitely classic game pawn card instead dice...   \n",
       "\n",
       "  new_rating  sentiment_score  \n",
       "0        BAD           0.8548  \n",
       "1        BAD          -0.4873  \n",
       "2        BAD           0.2885  \n",
       "3        BAD           0.8726  \n",
       "4       GOOD           0.9565  "
      ]
     },
     "execution_count": 322,
     "metadata": {},
     "output_type": "execute_result"
    }
   ],
   "source": [
    "final_df.head()"
   ]
  },
  {
   "cell_type": "code",
   "execution_count": 323,
   "metadata": {},
   "outputs": [],
   "source": [
    "def sentiment_category(score):\n",
    "    if score >= 0.2:\n",
    "        return 'GOOD'\n",
    "    else:\n",
    "        return 'BAD'"
   ]
  },
  {
   "cell_type": "code",
   "execution_count": 324,
   "metadata": {},
   "outputs": [],
   "source": [
    "final_df['sentiment_score_rating'] = final_df['sentiment_score'].apply(lambda x: sentiment_category(x))"
   ]
  },
  {
   "cell_type": "code",
   "execution_count": 325,
   "metadata": {},
   "outputs": [
    {
     "data": {
      "text/html": [
       "<div>\n",
       "<style scoped>\n",
       "    .dataframe tbody tr th:only-of-type {\n",
       "        vertical-align: middle;\n",
       "    }\n",
       "\n",
       "    .dataframe tbody tr th {\n",
       "        vertical-align: top;\n",
       "    }\n",
       "\n",
       "    .dataframe thead th {\n",
       "        text-align: right;\n",
       "    }\n",
       "</style>\n",
       "<table border=\"1\" class=\"dataframe\">\n",
       "  <thead>\n",
       "    <tr style=\"text-align: right;\">\n",
       "      <th></th>\n",
       "      <th>asin_id</th>\n",
       "      <th>name</th>\n",
       "      <th>price</th>\n",
       "      <th>avg_rating</th>\n",
       "      <th>no_of_ratings</th>\n",
       "      <th>review_id</th>\n",
       "      <th>review_title</th>\n",
       "      <th>review_description</th>\n",
       "      <th>user_rating</th>\n",
       "      <th>cleaned_title</th>\n",
       "      <th>cleaned_reviews</th>\n",
       "      <th>new_rating</th>\n",
       "      <th>sentiment_score</th>\n",
       "      <th>sentiment_score_rating</th>\n",
       "    </tr>\n",
       "  </thead>\n",
       "  <tbody>\n",
       "    <tr>\n",
       "      <th>0</th>\n",
       "      <td>B076HK9H7Z</td>\n",
       "      <td>Sorry! Game</td>\n",
       "      <td>0.0</td>\n",
       "      <td>4.7</td>\n",
       "      <td>7555</td>\n",
       "      <td>R1OSPWS88F2CUZ</td>\n",
       "      <td>DO NOT BUY!!!</td>\n",
       "      <td>I would give this zero stars if I could! If ...</td>\n",
       "      <td>1.0</td>\n",
       "      <td>buy</td>\n",
       "      <td>would give zero star could youre original sorr...</td>\n",
       "      <td>BAD</td>\n",
       "      <td>0.8548</td>\n",
       "      <td>GOOD</td>\n",
       "    </tr>\n",
       "    <tr>\n",
       "      <th>1</th>\n",
       "      <td>B076HK9H7Z</td>\n",
       "      <td>Sorry! Game</td>\n",
       "      <td>0.0</td>\n",
       "      <td>4.7</td>\n",
       "      <td>7555</td>\n",
       "      <td>R1DCFJ8VYSN17B</td>\n",
       "      <td>Is this the millennial version?</td>\n",
       "      <td>This is not the original sorry game. It only...</td>\n",
       "      <td>1.0</td>\n",
       "      <td>millennial version</td>\n",
       "      <td>original sorry game pawn per team instead trad...</td>\n",
       "      <td>BAD</td>\n",
       "      <td>-0.4873</td>\n",
       "      <td>BAD</td>\n",
       "    </tr>\n",
       "    <tr>\n",
       "      <th>2</th>\n",
       "      <td>B076HK9H7Z</td>\n",
       "      <td>Sorry! Game</td>\n",
       "      <td>0.0</td>\n",
       "      <td>4.7</td>\n",
       "      <td>7555</td>\n",
       "      <td>R1V07N4GXA7RSL</td>\n",
       "      <td>Wimp and Crybaby Edition</td>\n",
       "      <td>We bought this to replace our old Sorry game...</td>\n",
       "      <td>1.0</td>\n",
       "      <td>wimp crybaby edition</td>\n",
       "      <td>buy replace old sorry game fall apart wish rea...</td>\n",
       "      <td>BAD</td>\n",
       "      <td>0.2885</td>\n",
       "      <td>GOOD</td>\n",
       "    </tr>\n",
       "    <tr>\n",
       "      <th>3</th>\n",
       "      <td>B076HK9H7Z</td>\n",
       "      <td>Sorry! Game</td>\n",
       "      <td>0.0</td>\n",
       "      <td>4.7</td>\n",
       "      <td>7555</td>\n",
       "      <td>R2Z262NZDEU2EY</td>\n",
       "      <td>NOT the original/regular Sorry!</td>\n",
       "      <td>Be warned that this is not the sorry you gre...</td>\n",
       "      <td>2.0</td>\n",
       "      <td>originalregular sorry</td>\n",
       "      <td>warn sorry grow three token per player rule di...</td>\n",
       "      <td>BAD</td>\n",
       "      <td>0.8726</td>\n",
       "      <td>GOOD</td>\n",
       "    </tr>\n",
       "    <tr>\n",
       "      <th>4</th>\n",
       "      <td>B076HK9H7Z</td>\n",
       "      <td>Sorry! Game</td>\n",
       "      <td>0.0</td>\n",
       "      <td>4.7</td>\n",
       "      <td>7555</td>\n",
       "      <td>RG3XIFV1PUX9Y</td>\n",
       "      <td>Not the classic by a long shot, but okay.</td>\n",
       "      <td>Definitely not the classic game, with only 3...</td>\n",
       "      <td>4.0</td>\n",
       "      <td>classic long shot okay</td>\n",
       "      <td>definitely classic game pawn card instead dice...</td>\n",
       "      <td>GOOD</td>\n",
       "      <td>0.9565</td>\n",
       "      <td>GOOD</td>\n",
       "    </tr>\n",
       "  </tbody>\n",
       "</table>\n",
       "</div>"
      ],
      "text/plain": [
       "      asin_id         name  price  avg_rating  no_of_ratings       review_id  \\\n",
       "0  B076HK9H7Z  Sorry! Game    0.0         4.7           7555  R1OSPWS88F2CUZ   \n",
       "1  B076HK9H7Z  Sorry! Game    0.0         4.7           7555  R1DCFJ8VYSN17B   \n",
       "2  B076HK9H7Z  Sorry! Game    0.0         4.7           7555  R1V07N4GXA7RSL   \n",
       "3  B076HK9H7Z  Sorry! Game    0.0         4.7           7555  R2Z262NZDEU2EY   \n",
       "4  B076HK9H7Z  Sorry! Game    0.0         4.7           7555   RG3XIFV1PUX9Y   \n",
       "\n",
       "                                review_title  \\\n",
       "0                              DO NOT BUY!!!   \n",
       "1            Is this the millennial version?   \n",
       "2                   Wimp and Crybaby Edition   \n",
       "3            NOT the original/regular Sorry!   \n",
       "4  Not the classic by a long shot, but okay.   \n",
       "\n",
       "                                  review_description  user_rating  \\\n",
       "0    I would give this zero stars if I could! If ...          1.0   \n",
       "1    This is not the original sorry game. It only...          1.0   \n",
       "2    We bought this to replace our old Sorry game...          1.0   \n",
       "3    Be warned that this is not the sorry you gre...          2.0   \n",
       "4    Definitely not the classic game, with only 3...          4.0   \n",
       "\n",
       "            cleaned_title                                    cleaned_reviews  \\\n",
       "0                     buy  would give zero star could youre original sorr...   \n",
       "1      millennial version  original sorry game pawn per team instead trad...   \n",
       "2    wimp crybaby edition  buy replace old sorry game fall apart wish rea...   \n",
       "3   originalregular sorry  warn sorry grow three token per player rule di...   \n",
       "4  classic long shot okay  definitely classic game pawn card instead dice...   \n",
       "\n",
       "  new_rating  sentiment_score sentiment_score_rating  \n",
       "0        BAD           0.8548                   GOOD  \n",
       "1        BAD          -0.4873                    BAD  \n",
       "2        BAD           0.2885                   GOOD  \n",
       "3        BAD           0.8726                   GOOD  \n",
       "4       GOOD           0.9565                   GOOD  "
      ]
     },
     "execution_count": 325,
     "metadata": {},
     "output_type": "execute_result"
    }
   ],
   "source": [
    "final_df.head()"
   ]
  },
  {
   "cell_type": "markdown",
   "metadata": {},
   "source": [
    "## Results"
   ]
  },
  {
   "cell_type": "markdown",
   "metadata": {},
   "source": [
    "### Confusion Matrix"
   ]
  },
  {
   "cell_type": "code",
   "execution_count": 326,
   "metadata": {},
   "outputs": [
    {
     "data": {
      "text/plain": [
       "array([[ 546,  742],\n",
       "       [ 232, 3967]])"
      ]
     },
     "execution_count": 326,
     "metadata": {},
     "output_type": "execute_result"
    }
   ],
   "source": [
    "cnf_matrix = confusion_matrix(final_df['new_rating'],final_df['sentiment_score_rating'])\n",
    "cnf_matrix"
   ]
  },
  {
   "cell_type": "markdown",
   "metadata": {},
   "source": [
    "### Classification Report"
   ]
  },
  {
   "cell_type": "code",
   "execution_count": 327,
   "metadata": {},
   "outputs": [
    {
     "name": "stdout",
     "output_type": "stream",
     "text": [
      "              precision    recall  f1-score   support\n",
      "\n",
      "         BAD       0.70      0.42      0.53      1288\n",
      "        GOOD       0.84      0.94      0.89      4199\n",
      "\n",
      "    accuracy                           0.82      5487\n",
      "   macro avg       0.77      0.68      0.71      5487\n",
      "weighted avg       0.81      0.82      0.81      5487\n",
      "\n"
     ]
    }
   ],
   "source": [
    "print(classification_report(final_df['new_rating'],final_df['sentiment_score_rating']))"
   ]
  },
  {
   "cell_type": "markdown",
   "metadata": {},
   "source": [
    "### Accuracy Score"
   ]
  },
  {
   "cell_type": "code",
   "execution_count": 328,
   "metadata": {},
   "outputs": [
    {
     "data": {
      "text/plain": [
       "0.822489520685256"
      ]
     },
     "execution_count": 328,
     "metadata": {},
     "output_type": "execute_result"
    }
   ],
   "source": [
    "from sklearn.metrics import accuracy_score\n",
    "vader_accuracy_score = accuracy_score(final_df['new_rating'],final_df['sentiment_score_rating'])\n",
    "vader_accuracy_score"
   ]
  },
  {
   "cell_type": "code",
   "execution_count": 329,
   "metadata": {},
   "outputs": [
    {
     "data": {
      "text/html": [
       "<div>\n",
       "<style scoped>\n",
       "    .dataframe tbody tr th:only-of-type {\n",
       "        vertical-align: middle;\n",
       "    }\n",
       "\n",
       "    .dataframe tbody tr th {\n",
       "        vertical-align: top;\n",
       "    }\n",
       "\n",
       "    .dataframe thead th {\n",
       "        text-align: right;\n",
       "    }\n",
       "</style>\n",
       "<table border=\"1\" class=\"dataframe\">\n",
       "  <thead>\n",
       "    <tr style=\"text-align: right;\">\n",
       "      <th></th>\n",
       "      <th>Model</th>\n",
       "      <th>Accuracy</th>\n",
       "    </tr>\n",
       "  </thead>\n",
       "  <tbody>\n",
       "    <tr>\n",
       "      <th>0</th>\n",
       "      <td>Logistic Regression</td>\n",
       "      <td>0.750000</td>\n",
       "    </tr>\n",
       "    <tr>\n",
       "      <th>1</th>\n",
       "      <td>Random Forest</td>\n",
       "      <td>0.793750</td>\n",
       "    </tr>\n",
       "    <tr>\n",
       "      <th>2</th>\n",
       "      <td>KNN</td>\n",
       "      <td>0.741667</td>\n",
       "    </tr>\n",
       "    <tr>\n",
       "      <th>3</th>\n",
       "      <td>SVM</td>\n",
       "      <td>0.785417</td>\n",
       "    </tr>\n",
       "    <tr>\n",
       "      <th>4</th>\n",
       "      <td>Vader</td>\n",
       "      <td>0.822490</td>\n",
       "    </tr>\n",
       "  </tbody>\n",
       "</table>\n",
       "</div>"
      ],
      "text/plain": [
       "                 Model  Accuracy\n",
       "0  Logistic Regression  0.750000\n",
       "1        Random Forest  0.793750\n",
       "2                  KNN  0.741667\n",
       "3                  SVM  0.785417\n",
       "4                Vader  0.822490"
      ]
     },
     "execution_count": 329,
     "metadata": {},
     "output_type": "execute_result"
    }
   ],
   "source": [
    "accuracy_results = accuracy_results.append({'Model':'Vader', 'Accuracy':vader_accuracy_score},ignore_index=True)\n",
    "accuracy_results"
   ]
  },
  {
   "cell_type": "markdown",
   "metadata": {},
   "source": [
    "### Plot Comparison between Actuals and Predicted"
   ]
  },
  {
   "cell_type": "code",
   "execution_count": 330,
   "metadata": {
    "scrolled": false
   },
   "outputs": [
    {
     "data": {
      "image/png": "[encoded data removed]",
      "text/plain": [
       "<Figure size 1440x720 with 1 Axes>"
      ]
     },
     "metadata": {
      "needs_background": "light"
     },
     "output_type": "display_data"
    }
   ],
   "source": [
    "review_rating_counts = final_df['new_rating'].value_counts()\n",
    "sentiment_score_rating_counts = final_df['sentiment_score_rating'].value_counts()\n",
    "\n",
    "review_df = pd.concat([review_rating_counts, sentiment_score_rating_counts], axis=1)\n",
    "\n",
    "review_df.plot.bar(rot=0, figsize=(20,10))\n",
    "\n",
    "plt.title('Comparison between Actual Reviews and Predicted Reviews',fontsize=30)\n",
    "\n",
    "plt.xlabel('Rating',fontsize=25)\n",
    "plt.xticks(fontsize=20)\n",
    "plt.ylabel('Count',fontsize=25)\n",
    "plt.yticks(fontsize=20)\n",
    "plt.legend(fontsize=20);"
   ]
  },
  {
   "cell_type": "markdown",
   "metadata": {},
   "source": [
    "# Predictive Accuracy Results"
   ]
  },
  {
   "cell_type": "code",
   "execution_count": 331,
   "metadata": {},
   "outputs": [
    {
     "data": {
      "text/html": [
       "<div>\n",
       "<style scoped>\n",
       "    .dataframe tbody tr th:only-of-type {\n",
       "        vertical-align: middle;\n",
       "    }\n",
       "\n",
       "    .dataframe tbody tr th {\n",
       "        vertical-align: top;\n",
       "    }\n",
       "\n",
       "    .dataframe thead th {\n",
       "        text-align: right;\n",
       "    }\n",
       "</style>\n",
       "<table border=\"1\" class=\"dataframe\">\n",
       "  <thead>\n",
       "    <tr style=\"text-align: right;\">\n",
       "      <th></th>\n",
       "      <th>Model</th>\n",
       "      <th>Accuracy</th>\n",
       "    </tr>\n",
       "  </thead>\n",
       "  <tbody>\n",
       "    <tr>\n",
       "      <th>0</th>\n",
       "      <td>Logistic Regression</td>\n",
       "      <td>0.750000</td>\n",
       "    </tr>\n",
       "    <tr>\n",
       "      <th>1</th>\n",
       "      <td>Random Forest</td>\n",
       "      <td>0.793750</td>\n",
       "    </tr>\n",
       "    <tr>\n",
       "      <th>2</th>\n",
       "      <td>KNN</td>\n",
       "      <td>0.741667</td>\n",
       "    </tr>\n",
       "    <tr>\n",
       "      <th>3</th>\n",
       "      <td>SVM</td>\n",
       "      <td>0.785417</td>\n",
       "    </tr>\n",
       "    <tr>\n",
       "      <th>4</th>\n",
       "      <td>Vader</td>\n",
       "      <td>0.822490</td>\n",
       "    </tr>\n",
       "  </tbody>\n",
       "</table>\n",
       "</div>"
      ],
      "text/plain": [
       "                 Model  Accuracy\n",
       "0  Logistic Regression  0.750000\n",
       "1        Random Forest  0.793750\n",
       "2                  KNN  0.741667\n",
       "3                  SVM  0.785417\n",
       "4                Vader  0.822490"
      ]
     },
     "execution_count": 331,
     "metadata": {},
     "output_type": "execute_result"
    }
   ],
   "source": [
    "accuracy_results"
   ]
  },
  {
   "cell_type": "code",
   "execution_count": 332,
   "metadata": {},
   "outputs": [
    {
     "data": {
      "image/png": "[encoded data removed]",
      "text/plain": [
       "<Figure size 1440x720 with 1 Axes>"
      ]
     },
     "metadata": {
      "needs_background": "light"
     },
     "output_type": "display_data"
    }
   ],
   "source": [
    "accuracy_results.plot.bar('Model','Accuracy', rot=15, figsize=(20,10))\n",
    "\n",
    "plt.title('Predictive Accuracy Results',fontsize=30)\n",
    "plt.xlabel('Model',fontsize=25)\n",
    "plt.xticks(fontsize=20)\n",
    "plt.ylabel('Accuracy (%)',fontsize=25)\n",
    "plt.yticks(fontsize=20)\n",
    "plt.ylim(0, 1.0)\n",
    "\n",
    "plt.legend().remove();"
   ]
  }
 ],
 "metadata": {
  "kernelspec": {
   "display_name": "Python [conda env:learn-env] *",
   "language": "python",
   "name": "conda-env-learn-env-py"
  },
  "language_info": {
   "codemirror_mode": {
    "name": "ipython",
    "version": 3
   },
   "file_extension": ".py",
   "mimetype": "text/x-python",
   "name": "python",
   "nbconvert_exporter": "python",
   "pygments_lexer": "ipython3",
   "version": "3.6.9"
  },
  "toc": {
   "base_numbering": 1,
   "nav_menu": {},
   "number_sections": true,
   "sideBar": true,
   "skip_h1_title": false,
   "title_cell": "Table of Contents",
   "title_sidebar": "Contents",
   "toc_cell": false,
   "toc_position": {},
   "toc_section_display": true,
   "toc_window_display": true
  }
 },
 "nbformat": 4,
 "nbformat_minor": 2
}
