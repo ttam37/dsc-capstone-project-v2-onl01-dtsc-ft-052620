{
 "cells": [
  {
   "cell_type": "code",
   "execution_count": 1,
   "metadata": {},
   "outputs": [],
   "source": [
    "import requests\n",
    "from bs4 import BeautifulSoup\n",
    "import pandas as pd\n",
    "import warnings\n",
    "warnings.filterwarnings('ignore')"
   ]
  },
  {
   "cell_type": "markdown",
   "metadata": {},
   "source": [
    "# Get Item Information from Search Results\n",
    "\n",
    "For each search result page, scrape the general information such as board board name, the number of reviews, the average rating, and the price."
   ]
  },
  {
   "cell_type": "code",
   "execution_count": 309,
   "metadata": {},
   "outputs": [],
   "source": [
    "def get_search_results_items(no_pages):\n",
    "    headers = {\"User-Agent\":\"Mozilla/5.0 (Windows NT 10.0; Win64; x64; rv:66.0) Gecko/20100101 Firefox/66.0\", \"Accept-Encoding\":\"gzip, deflate\", \"Accept\":\"text/html,application/xhtml+xml,application/xml;q=0.9,*/*;q=0.8\", \"DNT\":\"1\",\"Connection\":\"close\", \"Upgrade-Insecure-Requests\":\"1\"}\n",
    "    \n",
    "    alls = []\n",
    "    # scrape i number of pages\n",
    "    for i in range(1, no_pages+1):\n",
    "        r = requests.get('https://www.amazon.com/s?k=board+games&page='+str(i), headers=headers)\n",
    "        content = r.content\n",
    "        soup = BeautifulSoup(content)\n",
    "\n",
    "        # for each board game...scrape the asin(amazon product #), name, price, rating, # of ratings\n",
    "        for d in soup.findAll('div', attrs={'class':'sg-col-4-of-24 sg-col-4-of-12 sg-col-4-of-36 s-result-item s-asin sg-col-4-of-28 sg-col-4-of-16 sg-col sg-col-4-of-20 sg-col-4-of-32'}):\n",
    "            name = d.find('span', attrs={'class':'a-size-base-plus a-color-base a-text-normal'})\n",
    "            price = d.find('span', attrs={'class':'a-offscreen'})\n",
    "            rating = d.find('span', attrs={'class':'a-icon-alt'})\n",
    "            no_of_ratings = d.find('span', attrs={'class':'a-size-base'})\n",
    "            asin = d['data-asin']\n",
    "\n",
    "            # append information into a list\n",
    "            all1=[]\n",
    "            \n",
    "            if asin is not None:\n",
    "                all1.append(asin)\n",
    "            else:\n",
    "                all1.append('-')\n",
    "            \n",
    "            if name is not None:\n",
    "                all1.append(name.text)\n",
    "            else:\n",
    "                all1.append(\"unknown-product\")\n",
    "\n",
    "            if price is not None:\n",
    "                all1.append(price.text)\n",
    "            else:\n",
    "                all1.append('$0')\n",
    "\n",
    "            if rating is not None:\n",
    "                all1.append(rating.text)\n",
    "            else:\n",
    "                all1.append('-')\n",
    "                \n",
    "            if no_of_ratings is not None:\n",
    "                all1.append(no_of_ratings.text)\n",
    "            else:\n",
    "                all1.append('-') \n",
    "                \n",
    "\n",
    "            # for each item, append all1 list into alls list\n",
    "            alls.append(all1)  \n",
    "\n",
    "    return alls"
   ]
  },
  {
   "cell_type": "code",
   "execution_count": 310,
   "metadata": {},
   "outputs": [],
   "source": [
    "# convert list of lists into dataframe\n",
    "items_df = pd.DataFrame(get_search_results_items(10),columns=['asin_id',\n",
    "                                       'name',\n",
    "                                       'price',\n",
    "                                       'avg_rating',\n",
    "                                       'no_of_ratings'])"
   ]
  },
  {
   "cell_type": "code",
   "execution_count": 311,
   "metadata": {},
   "outputs": [],
   "source": [
    "items_df.to_csv('csv_files/items_df.csv')"
   ]
  },
  {
   "cell_type": "markdown",
   "metadata": {},
   "source": [
    "## Items - Preprocessing"
   ]
  },
  {
   "cell_type": "code",
   "execution_count": 313,
   "metadata": {},
   "outputs": [
    {
     "data": {
      "text/html": [
       "<div>\n",
       "<style scoped>\n",
       "    .dataframe tbody tr th:only-of-type {\n",
       "        vertical-align: middle;\n",
       "    }\n",
       "\n",
       "    .dataframe tbody tr th {\n",
       "        vertical-align: top;\n",
       "    }\n",
       "\n",
       "    .dataframe thead th {\n",
       "        text-align: right;\n",
       "    }\n",
       "</style>\n",
       "<table border=\"1\" class=\"dataframe\">\n",
       "  <thead>\n",
       "    <tr style=\"text-align: right;\">\n",
       "      <th></th>\n",
       "      <th>asin_id</th>\n",
       "      <th>name</th>\n",
       "      <th>price</th>\n",
       "      <th>avg_rating</th>\n",
       "      <th>no_of_ratings</th>\n",
       "    </tr>\n",
       "  </thead>\n",
       "  <tbody>\n",
       "    <tr>\n",
       "      <th>0</th>\n",
       "      <td>B076HK9H7Z</td>\n",
       "      <td>Sorry! Game</td>\n",
       "      <td>$0</td>\n",
       "      <td>4.7 out of 5 stars</td>\n",
       "      <td>7,555</td>\n",
       "    </tr>\n",
       "    <tr>\n",
       "      <th>1</th>\n",
       "      <td>B08GD242TJ</td>\n",
       "      <td>Hasbro Gaming Guess Who? Game Original Guessin...</td>\n",
       "      <td>$9.97</td>\n",
       "      <td>4.9 out of 5 stars</td>\n",
       "      <td>30</td>\n",
       "    </tr>\n",
       "    <tr>\n",
       "      <th>2</th>\n",
       "      <td>B00C0ULS3G</td>\n",
       "      <td>Battleship Classic Board Game Strategy Game Ag...</td>\n",
       "      <td>$0</td>\n",
       "      <td>4.7 out of 5 stars</td>\n",
       "      <td>4,151</td>\n",
       "    </tr>\n",
       "    <tr>\n",
       "      <th>3</th>\n",
       "      <td>B08636S37Z</td>\n",
       "      <td>Funko Disney The Haunted Mansion – Call of The...</td>\n",
       "      <td>$24.97</td>\n",
       "      <td>4.7 out of 5 stars</td>\n",
       "      <td>84</td>\n",
       "    </tr>\n",
       "    <tr>\n",
       "      <th>4</th>\n",
       "      <td>B07B7KS87Q</td>\n",
       "      <td>Game Of Life</td>\n",
       "      <td>$19.99</td>\n",
       "      <td>4.7 out of 5 stars</td>\n",
       "      <td>4,284</td>\n",
       "    </tr>\n",
       "    <tr>\n",
       "      <th>...</th>\n",
       "      <td>...</td>\n",
       "      <td>...</td>\n",
       "      <td>...</td>\n",
       "      <td>...</td>\n",
       "      <td>...</td>\n",
       "    </tr>\n",
       "    <tr>\n",
       "      <th>301</th>\n",
       "      <td>B08GG9J8HR</td>\n",
       "      <td>Coatl - Strategy Board Game for 1-4 Players</td>\n",
       "      <td>$39.99</td>\n",
       "      <td>4.8 out of 5 stars</td>\n",
       "      <td>7</td>\n",
       "    </tr>\n",
       "    <tr>\n",
       "      <th>302</th>\n",
       "      <td>B07M5BMVS3</td>\n",
       "      <td>CLUE: Scooby Doo! Board Game | Official Scooby...</td>\n",
       "      <td>$39.95</td>\n",
       "      <td>4.7 out of 5 stars</td>\n",
       "      <td>341</td>\n",
       "    </tr>\n",
       "    <tr>\n",
       "      <th>303</th>\n",
       "      <td>B07HM7WZT9</td>\n",
       "      <td>Rio Grande Games Power Grid Recharged</td>\n",
       "      <td>$35.70</td>\n",
       "      <td>4.8 out of 5 stars</td>\n",
       "      <td>132</td>\n",
       "    </tr>\n",
       "    <tr>\n",
       "      <th>304</th>\n",
       "      <td>B083Q2FKTN</td>\n",
       "      <td>Escape Room The Game Expansion Pack – The Brea...</td>\n",
       "      <td>$11.99</td>\n",
       "      <td>5.0 out of 5 stars</td>\n",
       "      <td>1</td>\n",
       "    </tr>\n",
       "    <tr>\n",
       "      <th>305</th>\n",
       "      <td>B085WL16TV</td>\n",
       "      <td>Funkoverse: Disney The Nightmare Before Christ...</td>\n",
       "      <td>$39.99</td>\n",
       "      <td>4.9 out of 5 stars</td>\n",
       "      <td>32</td>\n",
       "    </tr>\n",
       "  </tbody>\n",
       "</table>\n",
       "<p>306 rows × 5 columns</p>\n",
       "</div>"
      ],
      "text/plain": [
       "        asin_id                                               name   price  \\\n",
       "0    B076HK9H7Z                                        Sorry! Game      $0   \n",
       "1    B08GD242TJ  Hasbro Gaming Guess Who? Game Original Guessin...   $9.97   \n",
       "2    B00C0ULS3G  Battleship Classic Board Game Strategy Game Ag...      $0   \n",
       "3    B08636S37Z  Funko Disney The Haunted Mansion – Call of The...  $24.97   \n",
       "4    B07B7KS87Q                                       Game Of Life  $19.99   \n",
       "..          ...                                                ...     ...   \n",
       "301  B08GG9J8HR        Coatl - Strategy Board Game for 1-4 Players  $39.99   \n",
       "302  B07M5BMVS3  CLUE: Scooby Doo! Board Game | Official Scooby...  $39.95   \n",
       "303  B07HM7WZT9              Rio Grande Games Power Grid Recharged  $35.70   \n",
       "304  B083Q2FKTN  Escape Room The Game Expansion Pack – The Brea...  $11.99   \n",
       "305  B085WL16TV  Funkoverse: Disney The Nightmare Before Christ...  $39.99   \n",
       "\n",
       "             avg_rating no_of_ratings  \n",
       "0    4.7 out of 5 stars         7,555  \n",
       "1    4.9 out of 5 stars            30  \n",
       "2    4.7 out of 5 stars         4,151  \n",
       "3    4.7 out of 5 stars            84  \n",
       "4    4.7 out of 5 stars         4,284  \n",
       "..                  ...           ...  \n",
       "301  4.8 out of 5 stars             7  \n",
       "302  4.7 out of 5 stars           341  \n",
       "303  4.8 out of 5 stars           132  \n",
       "304  5.0 out of 5 stars             1  \n",
       "305  4.9 out of 5 stars            32  \n",
       "\n",
       "[306 rows x 5 columns]"
      ]
     },
     "execution_count": 313,
     "metadata": {},
     "output_type": "execute_result"
    }
   ],
   "source": [
    "items_df"
   ]
  },
  {
   "cell_type": "markdown",
   "metadata": {},
   "source": [
    "### Remove duplicates"
   ]
  },
  {
   "cell_type": "code",
   "execution_count": 314,
   "metadata": {},
   "outputs": [],
   "source": [
    "items_df = items_df.drop_duplicates(subset=['asin_id'])"
   ]
  },
  {
   "cell_type": "markdown",
   "metadata": {},
   "source": [
    "### Convert price to float values"
   ]
  },
  {
   "cell_type": "code",
   "execution_count": 315,
   "metadata": {},
   "outputs": [
    {
     "name": "stderr",
     "output_type": "stream",
     "text": [
      "/Users/thomasttam/opt/anaconda3/envs/learn-env/lib/python3.6/site-packages/ipykernel_launcher.py:4: SettingWithCopyWarning: \n",
      "A value is trying to be set on a copy of a slice from a DataFrame.\n",
      "Try using .loc[row_indexer,col_indexer] = value instead\n",
      "\n",
      "See the caveats in the documentation: https://pandas.pydata.org/pandas-docs/stable/user_guide/indexing.html#returning-a-view-versus-a-copy\n",
      "  after removing the cwd from sys.path.\n",
      "/Users/thomasttam/opt/anaconda3/envs/learn-env/lib/python3.6/site-packages/ipykernel_launcher.py:7: SettingWithCopyWarning: \n",
      "A value is trying to be set on a copy of a slice from a DataFrame.\n",
      "Try using .loc[row_indexer,col_indexer] = value instead\n",
      "\n",
      "See the caveats in the documentation: https://pandas.pydata.org/pandas-docs/stable/user_guide/indexing.html#returning-a-view-versus-a-copy\n",
      "  import sys\n"
     ]
    },
    {
     "data": {
      "text/plain": [
       "0       0.00\n",
       "1       9.97\n",
       "2       0.00\n",
       "3      24.97\n",
       "4      19.99\n",
       "       ...  \n",
       "300    14.95\n",
       "301    39.99\n",
       "302    39.95\n",
       "303    35.70\n",
       "304    11.99\n",
       "Name: price, Length: 252, dtype: float64"
      ]
     },
     "execution_count": 315,
     "metadata": {},
     "output_type": "execute_result"
    }
   ],
   "source": [
    "# convert price column as float values\n",
    "\n",
    "# strip '?' symbol from price\n",
    "items_df['price'] = items_df['price'].apply(lambda x:x.strip('$'))\n",
    "\n",
    "# convert price column to float\n",
    "items_df['price'] = items_df['price'].astype('float')\n",
    "\n",
    "# check if column was converted to float values\n",
    "items_df['price']"
   ]
  },
  {
   "cell_type": "markdown",
   "metadata": {},
   "source": [
    "### Clean rating column by removing unnecessary characters"
   ]
  },
  {
   "cell_type": "code",
   "execution_count": 316,
   "metadata": {},
   "outputs": [
    {
     "data": {
      "text/plain": [
       "4.8 out of 5 stars    68\n",
       "4.7 out of 5 stars    51\n",
       "4.6 out of 5 stars    32\n",
       "-                     21\n",
       "4.5 out of 5 stars    19\n",
       "4.4 out of 5 stars    18\n",
       "5.0 out of 5 stars    14\n",
       "4.9 out of 5 stars    12\n",
       "4.3 out of 5 stars     8\n",
       "4.2 out of 5 stars     3\n",
       "4.1 out of 5 stars     3\n",
       "4.0 out of 5 stars     1\n",
       "3.8 out of 5 stars     1\n",
       "3.9 out of 5 stars     1\n",
       "Name: avg_rating, dtype: int64"
      ]
     },
     "execution_count": 316,
     "metadata": {},
     "output_type": "execute_result"
    }
   ],
   "source": [
    "items_df['avg_rating'].value_counts()"
   ]
  },
  {
   "cell_type": "code",
   "execution_count": 317,
   "metadata": {},
   "outputs": [],
   "source": [
    "# remove items with '-' rating\n",
    "items_df = items_df[items_df['avg_rating'] != '-'].reset_index(drop=True)"
   ]
  },
  {
   "cell_type": "code",
   "execution_count": 318,
   "metadata": {},
   "outputs": [],
   "source": [
    "# get the number rating from the rating column by taking the left characters of string\n",
    "items_df['avg_rating'] = items_df['avg_rating'].apply(lambda x: x[0:3])\n",
    "# convert column to float vlaues\n",
    "items_df['avg_rating'] = items_df['avg_rating'].astype('float')"
   ]
  },
  {
   "cell_type": "markdown",
   "metadata": {},
   "source": [
    "### Convert no_of_rating into int values"
   ]
  },
  {
   "cell_type": "code",
   "execution_count": 319,
   "metadata": {},
   "outputs": [],
   "source": [
    "# replace commas with empty space\n",
    "items_df['no_of_ratings'] = items_df['no_of_ratings'].apply(lambda x: x.replace(',',''))\n",
    "\n",
    "# # strip characters with empty spaces such as ' by '\n",
    "items_df['no_of_ratings'] = items_df['no_of_ratings'].apply(lambda x: x.strip())\n",
    "\n",
    "# # once stripped, remove items with '-' rating and 'by' rating\n",
    "items_df = items_df[(items_df['no_of_ratings'] != '-') & (items_df['no_of_ratings'] != 'by')].reset_index(drop=True)\n",
    "\n",
    "# # cast column as float values\n",
    "items_df['no_of_ratings'] = items_df['no_of_ratings'].astype('int')"
   ]
  },
  {
   "cell_type": "code",
   "execution_count": 320,
   "metadata": {},
   "outputs": [
    {
     "name": "stdout",
     "output_type": "stream",
     "text": [
      "<class 'pandas.core.frame.DataFrame'>\n",
      "RangeIndex: 228 entries, 0 to 227\n",
      "Data columns (total 5 columns):\n",
      " #   Column         Non-Null Count  Dtype  \n",
      "---  ------         --------------  -----  \n",
      " 0   asin_id        228 non-null    object \n",
      " 1   name           228 non-null    object \n",
      " 2   price          228 non-null    float64\n",
      " 3   avg_rating     228 non-null    float64\n",
      " 4   no_of_ratings  228 non-null    int64  \n",
      "dtypes: float64(2), int64(1), object(2)\n",
      "memory usage: 9.0+ KB\n"
     ]
    }
   ],
   "source": [
    "items_df.info()"
   ]
  },
  {
   "cell_type": "code",
   "execution_count": 321,
   "metadata": {},
   "outputs": [
    {
     "data": {
      "text/html": [
       "<div>\n",
       "<style scoped>\n",
       "    .dataframe tbody tr th:only-of-type {\n",
       "        vertical-align: middle;\n",
       "    }\n",
       "\n",
       "    .dataframe tbody tr th {\n",
       "        vertical-align: top;\n",
       "    }\n",
       "\n",
       "    .dataframe thead th {\n",
       "        text-align: right;\n",
       "    }\n",
       "</style>\n",
       "<table border=\"1\" class=\"dataframe\">\n",
       "  <thead>\n",
       "    <tr style=\"text-align: right;\">\n",
       "      <th></th>\n",
       "      <th>asin_id</th>\n",
       "      <th>name</th>\n",
       "      <th>price</th>\n",
       "      <th>avg_rating</th>\n",
       "      <th>no_of_ratings</th>\n",
       "    </tr>\n",
       "  </thead>\n",
       "  <tbody>\n",
       "    <tr>\n",
       "      <th>0</th>\n",
       "      <td>B076HK9H7Z</td>\n",
       "      <td>Sorry! Game</td>\n",
       "      <td>0.00</td>\n",
       "      <td>4.7</td>\n",
       "      <td>7555</td>\n",
       "    </tr>\n",
       "    <tr>\n",
       "      <th>1</th>\n",
       "      <td>B08GD242TJ</td>\n",
       "      <td>Hasbro Gaming Guess Who? Game Original Guessin...</td>\n",
       "      <td>9.97</td>\n",
       "      <td>4.9</td>\n",
       "      <td>30</td>\n",
       "    </tr>\n",
       "    <tr>\n",
       "      <th>2</th>\n",
       "      <td>B00C0ULS3G</td>\n",
       "      <td>Battleship Classic Board Game Strategy Game Ag...</td>\n",
       "      <td>0.00</td>\n",
       "      <td>4.7</td>\n",
       "      <td>4151</td>\n",
       "    </tr>\n",
       "    <tr>\n",
       "      <th>3</th>\n",
       "      <td>B08636S37Z</td>\n",
       "      <td>Funko Disney The Haunted Mansion – Call of The...</td>\n",
       "      <td>24.97</td>\n",
       "      <td>4.7</td>\n",
       "      <td>84</td>\n",
       "    </tr>\n",
       "    <tr>\n",
       "      <th>4</th>\n",
       "      <td>B07B7KS87Q</td>\n",
       "      <td>Game Of Life</td>\n",
       "      <td>19.99</td>\n",
       "      <td>4.7</td>\n",
       "      <td>4284</td>\n",
       "    </tr>\n",
       "    <tr>\n",
       "      <th>...</th>\n",
       "      <td>...</td>\n",
       "      <td>...</td>\n",
       "      <td>...</td>\n",
       "      <td>...</td>\n",
       "      <td>...</td>\n",
       "    </tr>\n",
       "    <tr>\n",
       "      <th>223</th>\n",
       "      <td>B01C5U4PTY</td>\n",
       "      <td>Rubik's Race Game, Head To Head Fast Paced Squ...</td>\n",
       "      <td>14.95</td>\n",
       "      <td>4.5</td>\n",
       "      <td>3981</td>\n",
       "    </tr>\n",
       "    <tr>\n",
       "      <th>224</th>\n",
       "      <td>B08GG9J8HR</td>\n",
       "      <td>Coatl - Strategy Board Game for 1-4 Players</td>\n",
       "      <td>39.99</td>\n",
       "      <td>4.8</td>\n",
       "      <td>7</td>\n",
       "    </tr>\n",
       "    <tr>\n",
       "      <th>225</th>\n",
       "      <td>B07M5BMVS3</td>\n",
       "      <td>CLUE: Scooby Doo! Board Game | Official Scooby...</td>\n",
       "      <td>39.95</td>\n",
       "      <td>4.7</td>\n",
       "      <td>341</td>\n",
       "    </tr>\n",
       "    <tr>\n",
       "      <th>226</th>\n",
       "      <td>B07HM7WZT9</td>\n",
       "      <td>Rio Grande Games Power Grid Recharged</td>\n",
       "      <td>35.70</td>\n",
       "      <td>4.8</td>\n",
       "      <td>132</td>\n",
       "    </tr>\n",
       "    <tr>\n",
       "      <th>227</th>\n",
       "      <td>B083Q2FKTN</td>\n",
       "      <td>Escape Room The Game Expansion Pack – The Brea...</td>\n",
       "      <td>11.99</td>\n",
       "      <td>5.0</td>\n",
       "      <td>1</td>\n",
       "    </tr>\n",
       "  </tbody>\n",
       "</table>\n",
       "<p>228 rows × 5 columns</p>\n",
       "</div>"
      ],
      "text/plain": [
       "        asin_id                                               name  price  \\\n",
       "0    B076HK9H7Z                                        Sorry! Game   0.00   \n",
       "1    B08GD242TJ  Hasbro Gaming Guess Who? Game Original Guessin...   9.97   \n",
       "2    B00C0ULS3G  Battleship Classic Board Game Strategy Game Ag...   0.00   \n",
       "3    B08636S37Z  Funko Disney The Haunted Mansion – Call of The...  24.97   \n",
       "4    B07B7KS87Q                                       Game Of Life  19.99   \n",
       "..          ...                                                ...    ...   \n",
       "223  B01C5U4PTY  Rubik's Race Game, Head To Head Fast Paced Squ...  14.95   \n",
       "224  B08GG9J8HR        Coatl - Strategy Board Game for 1-4 Players  39.99   \n",
       "225  B07M5BMVS3  CLUE: Scooby Doo! Board Game | Official Scooby...  39.95   \n",
       "226  B07HM7WZT9              Rio Grande Games Power Grid Recharged  35.70   \n",
       "227  B083Q2FKTN  Escape Room The Game Expansion Pack – The Brea...  11.99   \n",
       "\n",
       "     avg_rating  no_of_ratings  \n",
       "0           4.7           7555  \n",
       "1           4.9             30  \n",
       "2           4.7           4151  \n",
       "3           4.7             84  \n",
       "4           4.7           4284  \n",
       "..          ...            ...  \n",
       "223         4.5           3981  \n",
       "224         4.8              7  \n",
       "225         4.7            341  \n",
       "226         4.8            132  \n",
       "227         5.0              1  \n",
       "\n",
       "[228 rows x 5 columns]"
      ]
     },
     "execution_count": 321,
     "metadata": {},
     "output_type": "execute_result"
    }
   ],
   "source": [
    "items_df"
   ]
  },
  {
   "cell_type": "markdown",
   "metadata": {},
   "source": [
    "### save processed items_df as csv"
   ]
  },
  {
   "cell_type": "code",
   "execution_count": 322,
   "metadata": {},
   "outputs": [],
   "source": [
    "# save as csv file\n",
    "items_df.to_csv('csv_files_test/cleaned_items_df.csv')"
   ]
  },
  {
   "cell_type": "markdown",
   "metadata": {},
   "source": [
    "# Get Reviews for each Item\n",
    "\n",
    "For each asin id, scrape reviews from the first 2 review pages."
   ]
  },
  {
   "cell_type": "code",
   "execution_count": 323,
   "metadata": {},
   "outputs": [],
   "source": [
    "def get_reviews(asin_no, no_review_pages):\n",
    "    headers = {\"User-Agent\":\"Mozilla/5.0 (Windows NT 10.0; Win64; x64; rv:66.0) Gecko/20100101 Firefox/66.0\", \"Accept-Encoding\":\"gzip, deflate\", \"Accept\":\"text/html,application/xhtml+xml,application/xml;q=0.9,*/*;q=0.8\", \"DNT\":\"1\",\"Connection\":\"close\", \"Upgrade-Insecure-Requests\":\"1\"}\n",
    "    \n",
    "    alls = []\n",
    "    # for each asin, scrape i number of pages\n",
    "    for i in range(1, no_review_pages+1):\n",
    "        r = requests.get('https://www.amazon.com/product-reviews/'+asin_no+'/ref=cm_cr_dp_d_show_all_btm?ie=UTF8&reviewerType=all_reviews&pageNumber='+str(i), headers=headers)\n",
    "        content = r.content\n",
    "        soup = BeautifulSoup(content)\n",
    "\n",
    "        # scrape the following for each page\n",
    "        for d in soup.findAll('div', attrs={'class':'a-section review aok-relative'}):\n",
    "            product_id = d['id']\n",
    "            review_title = d.find('a', attrs={'class':'a-size-base a-link-normal review-title a-color-base review-title-content a-text-bold'})\n",
    "            review_description = d.find('span', attrs={'class':'a-size-base review-text review-text-content'})\n",
    "            rating = d.find('span', attrs={'class':'a-icon-alt'})\n",
    "#             user_name = d.find('span', attrs={'class': 'a-profile-name'}).text\n",
    "\n",
    "            all1=[]\n",
    "            \n",
    "            all1.append(asin_no)\n",
    "            \n",
    "            if product_id is not None:\n",
    "                all1.append(product_id)\n",
    "            else:\n",
    "                all1.append(\"unknown-product\")\n",
    "\n",
    "            if review_title is not None:\n",
    "                all1.append(review_title.text)\n",
    "            else:\n",
    "                all1.append('$0')\n",
    "\n",
    "            if review_description is not None:\n",
    "                #print(rating.text)\n",
    "                all1.append(review_description.text)\n",
    "            else:\n",
    "                all1.append('-1')\n",
    "\n",
    "            if rating is not None:\n",
    "                #print(price.text)\n",
    "                all1.append(rating.text)\n",
    "            else:\n",
    "                all1.append('0')\n",
    "\n",
    "\n",
    "            alls.append(all1)  \n",
    "\n",
    "    return alls"
   ]
  },
  {
   "cell_type": "markdown",
   "metadata": {},
   "source": [
    "## Scrape on several occasions using different VPN to prevent slamming the server (October 13, 2020)"
   ]
  },
  {
   "cell_type": "code",
   "execution_count": 325,
   "metadata": {},
   "outputs": [],
   "source": [
    "# scraper 1\n",
    "# append reviews from all items to review list\n",
    "\n",
    "reviews = []\n",
    "\n",
    "for id_no in items_df['asin_id'][0:100]:\n",
    "    for row in get_reviews(id_no,3):\n",
    "        reviews.append(row)"
   ]
  },
  {
   "cell_type": "code",
   "execution_count": 327,
   "metadata": {},
   "outputs": [],
   "source": [
    "# scraper 2\n",
    "# append reviews from all items to review list\n",
    "\n",
    "reviews1 = []\n",
    "\n",
    "for id_no in items_df['asin_id'][101:150]:\n",
    "    for row in get_reviews(id_no,3):\n",
    "        reviews1.append(row)"
   ]
  },
  {
   "cell_type": "code",
   "execution_count": 329,
   "metadata": {},
   "outputs": [],
   "source": [
    "# scraper 3\n",
    "# append reviews from all items to review list\n",
    "\n",
    "reviews2 = []\n",
    "\n",
    "for id_no in items_df['asin_id'][151:200]:\n",
    "    for row in get_reviews(id_no,3):\n",
    "        reviews2.append(row)"
   ]
  },
  {
   "cell_type": "code",
   "execution_count": 331,
   "metadata": {},
   "outputs": [],
   "source": [
    "# scraper 4\n",
    "# append reviews from all items to review list\n",
    "\n",
    "reviews3 = []\n",
    "\n",
    "for id_no in items_df['asin_id'][201:250]:\n",
    "    for row in get_reviews(id_no,3):\n",
    "        reviews3.append(row)"
   ]
  },
  {
   "cell_type": "code",
   "execution_count": 333,
   "metadata": {},
   "outputs": [],
   "source": [
    "# scraper 5\n",
    "# append reviews from all items to review list\n",
    "\n",
    "reviews4 = []\n",
    "\n",
    "for id_no in items_df['asin_id'][251:304]:\n",
    "    for row in get_reviews(id_no,3):\n",
    "        reviews4.append(row)"
   ]
  },
  {
   "cell_type": "markdown",
   "metadata": {},
   "source": [
    "### Combine all reviews into Dataframe"
   ]
  },
  {
   "cell_type": "code",
   "execution_count": 335,
   "metadata": {},
   "outputs": [],
   "source": [
    "reviews_df = pd.DataFrame(reviews + reviews1 + reviews2 + reviews3 + reviews4,columns=['asin_id',\n",
    "                                                                                       'review_id',\n",
    "                                                                                       'review_title',\n",
    "                                                                                       'review_description',\n",
    "                                                                                       'user_rating'])"
   ]
  },
  {
   "cell_type": "code",
   "execution_count": 336,
   "metadata": {},
   "outputs": [],
   "source": [
    "reviews_df.to_csv('csv_files/reviews_df.csv')"
   ]
  },
  {
   "cell_type": "markdown",
   "metadata": {},
   "source": [
    "## Preprocessing - Reviews"
   ]
  },
  {
   "cell_type": "code",
   "execution_count": 338,
   "metadata": {},
   "outputs": [
    {
     "data": {
      "text/html": [
       "<div>\n",
       "<style scoped>\n",
       "    .dataframe tbody tr th:only-of-type {\n",
       "        vertical-align: middle;\n",
       "    }\n",
       "\n",
       "    .dataframe tbody tr th {\n",
       "        vertical-align: top;\n",
       "    }\n",
       "\n",
       "    .dataframe thead th {\n",
       "        text-align: right;\n",
       "    }\n",
       "</style>\n",
       "<table border=\"1\" class=\"dataframe\">\n",
       "  <thead>\n",
       "    <tr style=\"text-align: right;\">\n",
       "      <th></th>\n",
       "      <th>asin_id</th>\n",
       "      <th>review_id</th>\n",
       "      <th>review_title</th>\n",
       "      <th>review_description</th>\n",
       "      <th>user_rating</th>\n",
       "    </tr>\n",
       "  </thead>\n",
       "  <tbody>\n",
       "    <tr>\n",
       "      <th>0</th>\n",
       "      <td>B076HK9H7Z</td>\n",
       "      <td>R1OSPWS88F2CUZ</td>\n",
       "      <td>DO NOT BUY!!!</td>\n",
       "      <td>I would give this zero stars if I could! If ...</td>\n",
       "      <td>1.0</td>\n",
       "    </tr>\n",
       "    <tr>\n",
       "      <th>1</th>\n",
       "      <td>B076HK9H7Z</td>\n",
       "      <td>R1DCFJ8VYSN17B</td>\n",
       "      <td>Is this the millennial version?</td>\n",
       "      <td>This is not the original sorry game. It only...</td>\n",
       "      <td>1.0</td>\n",
       "    </tr>\n",
       "    <tr>\n",
       "      <th>2</th>\n",
       "      <td>B076HK9H7Z</td>\n",
       "      <td>R1V07N4GXA7RSL</td>\n",
       "      <td>Wimp and Crybaby Edition</td>\n",
       "      <td>We bought this to replace our old Sorry game...</td>\n",
       "      <td>1.0</td>\n",
       "    </tr>\n",
       "    <tr>\n",
       "      <th>3</th>\n",
       "      <td>B076HK9H7Z</td>\n",
       "      <td>R2Z262NZDEU2EY</td>\n",
       "      <td>NOT the original/regular Sorry!</td>\n",
       "      <td>Be warned that this is not the sorry you gre...</td>\n",
       "      <td>2.0</td>\n",
       "    </tr>\n",
       "    <tr>\n",
       "      <th>4</th>\n",
       "      <td>B076HK9H7Z</td>\n",
       "      <td>RG3XIFV1PUX9Y</td>\n",
       "      <td>Not the classic by a long shot, but okay.</td>\n",
       "      <td>Definitely not the classic game, with only 3...</td>\n",
       "      <td>4.0</td>\n",
       "    </tr>\n",
       "  </tbody>\n",
       "</table>\n",
       "</div>"
      ],
      "text/plain": [
       "      asin_id       review_id                               review_title  \\\n",
       "0  B076HK9H7Z  R1OSPWS88F2CUZ                              DO NOT BUY!!!   \n",
       "1  B076HK9H7Z  R1DCFJ8VYSN17B            Is this the millennial version?   \n",
       "2  B076HK9H7Z  R1V07N4GXA7RSL                   Wimp and Crybaby Edition   \n",
       "3  B076HK9H7Z  R2Z262NZDEU2EY            NOT the original/regular Sorry!   \n",
       "4  B076HK9H7Z   RG3XIFV1PUX9Y  Not the classic by a long shot, but okay.   \n",
       "\n",
       "                                  review_description  user_rating  \n",
       "0    I would give this zero stars if I could! If ...          1.0  \n",
       "1    This is not the original sorry game. It only...          1.0  \n",
       "2    We bought this to replace our old Sorry game...          1.0  \n",
       "3    Be warned that this is not the sorry you gre...          2.0  \n",
       "4    Definitely not the classic game, with only 3...          4.0  "
      ]
     },
     "execution_count": 338,
     "metadata": {},
     "output_type": "execute_result"
    }
   ],
   "source": [
    "reviews_df.head()"
   ]
  },
  {
   "cell_type": "code",
   "execution_count": 339,
   "metadata": {},
   "outputs": [
    {
     "data": {
      "text/plain": [
       "(6693, 5)"
      ]
     },
     "execution_count": 339,
     "metadata": {},
     "output_type": "execute_result"
    }
   ],
   "source": [
    "reviews_df.shape"
   ]
  },
  {
   "cell_type": "markdown",
   "metadata": {},
   "source": [
    "### scraping didn't lead to great results - price was in review_title so will remove them (186 rows)"
   ]
  },
  {
   "cell_type": "code",
   "execution_count": 340,
   "metadata": {},
   "outputs": [
    {
     "data": {
      "text/html": [
       "<div>\n",
       "<style scoped>\n",
       "    .dataframe tbody tr th:only-of-type {\n",
       "        vertical-align: middle;\n",
       "    }\n",
       "\n",
       "    .dataframe tbody tr th {\n",
       "        vertical-align: top;\n",
       "    }\n",
       "\n",
       "    .dataframe thead th {\n",
       "        text-align: right;\n",
       "    }\n",
       "</style>\n",
       "<table border=\"1\" class=\"dataframe\">\n",
       "  <thead>\n",
       "    <tr style=\"text-align: right;\">\n",
       "      <th></th>\n",
       "      <th>asin_id</th>\n",
       "      <th>review_id</th>\n",
       "      <th>review_title</th>\n",
       "      <th>review_description</th>\n",
       "      <th>user_rating</th>\n",
       "    </tr>\n",
       "  </thead>\n",
       "  <tbody>\n",
       "    <tr>\n",
       "      <th>0</th>\n",
       "      <td>B076HK9H7Z</td>\n",
       "      <td>R1OSPWS88F2CUZ</td>\n",
       "      <td>DO NOT BUY!!!</td>\n",
       "      <td>I would give this zero stars if I could! If ...</td>\n",
       "      <td>1.0</td>\n",
       "    </tr>\n",
       "    <tr>\n",
       "      <th>1</th>\n",
       "      <td>B076HK9H7Z</td>\n",
       "      <td>R1DCFJ8VYSN17B</td>\n",
       "      <td>Is this the millennial version?</td>\n",
       "      <td>This is not the original sorry game. It only...</td>\n",
       "      <td>1.0</td>\n",
       "    </tr>\n",
       "    <tr>\n",
       "      <th>2</th>\n",
       "      <td>B076HK9H7Z</td>\n",
       "      <td>R1V07N4GXA7RSL</td>\n",
       "      <td>Wimp and Crybaby Edition</td>\n",
       "      <td>We bought this to replace our old Sorry game...</td>\n",
       "      <td>1.0</td>\n",
       "    </tr>\n",
       "    <tr>\n",
       "      <th>3</th>\n",
       "      <td>B076HK9H7Z</td>\n",
       "      <td>R2Z262NZDEU2EY</td>\n",
       "      <td>NOT the original/regular Sorry!</td>\n",
       "      <td>Be warned that this is not the sorry you gre...</td>\n",
       "      <td>2.0</td>\n",
       "    </tr>\n",
       "    <tr>\n",
       "      <th>4</th>\n",
       "      <td>B076HK9H7Z</td>\n",
       "      <td>RG3XIFV1PUX9Y</td>\n",
       "      <td>Not the classic by a long shot, but okay.</td>\n",
       "      <td>Definitely not the classic game, with only 3...</td>\n",
       "      <td>4.0</td>\n",
       "    </tr>\n",
       "  </tbody>\n",
       "</table>\n",
       "</div>"
      ],
      "text/plain": [
       "      asin_id       review_id                               review_title  \\\n",
       "0  B076HK9H7Z  R1OSPWS88F2CUZ                              DO NOT BUY!!!   \n",
       "1  B076HK9H7Z  R1DCFJ8VYSN17B            Is this the millennial version?   \n",
       "2  B076HK9H7Z  R1V07N4GXA7RSL                   Wimp and Crybaby Edition   \n",
       "3  B076HK9H7Z  R2Z262NZDEU2EY            NOT the original/regular Sorry!   \n",
       "4  B076HK9H7Z   RG3XIFV1PUX9Y  Not the classic by a long shot, but okay.   \n",
       "\n",
       "                                  review_description  user_rating  \n",
       "0    I would give this zero stars if I could! If ...          1.0  \n",
       "1    This is not the original sorry game. It only...          1.0  \n",
       "2    We bought this to replace our old Sorry game...          1.0  \n",
       "3    Be warned that this is not the sorry you gre...          2.0  \n",
       "4    Definitely not the classic game, with only 3...          4.0  "
      ]
     },
     "execution_count": 340,
     "metadata": {},
     "output_type": "execute_result"
    }
   ],
   "source": [
    "reviews_df = reviews_df[reviews_df['review_title'] != '$0']\n",
    "reviews_df.head()"
   ]
  },
  {
   "cell_type": "markdown",
   "metadata": {},
   "source": [
    "### Parse user rating and convert to float values"
   ]
  },
  {
   "cell_type": "code",
   "execution_count": 341,
   "metadata": {},
   "outputs": [
    {
     "data": {
      "text/plain": [
       "5.0    4301\n",
       "4.0     887\n",
       "1.0     657\n",
       "3.0     517\n",
       "2.0     331\n",
       "Name: user_rating, dtype: int64"
      ]
     },
     "execution_count": 341,
     "metadata": {},
     "output_type": "execute_result"
    }
   ],
   "source": [
    "reviews_df['user_rating'].value_counts()"
   ]
  },
  {
   "cell_type": "code",
   "execution_count": 342,
   "metadata": {},
   "outputs": [],
   "source": [
    "# # get the number rating from the review_rating column by taking the left characters of string\n",
    "# reviews_df['user_rating'] = reviews_df['user_rating'].apply(lambda x: x[0:3])\n",
    "# # convert column to float vlaues\n",
    "# reviews_df['user_rating'] = reviews_df['user_rating'].astype('float')\n",
    "# reviews_df"
   ]
  },
  {
   "cell_type": "markdown",
   "metadata": {},
   "source": [
    "### Clean the '/n' from review_title and review_description"
   ]
  },
  {
   "cell_type": "code",
   "execution_count": 343,
   "metadata": {},
   "outputs": [],
   "source": [
    "# strip '/n' characters from title and description\n",
    "reviews_df['review_title'] = reviews_df['review_title'].apply(lambda x:x.strip('\\n'))\n",
    "\n",
    "# was getting an error when stripping review_description due to N/A (row 56)\n",
    "reviews_df['review_description'][reviews_df['review_description'].isna()]\n",
    "reviews_df['review_description'] = reviews_df['review_description'].fillna('-1')\n",
    "reviews_df['review_description'] = reviews_df['review_description'].apply(lambda x:x.strip('\\n'))"
   ]
  },
  {
   "cell_type": "code",
   "execution_count": 344,
   "metadata": {},
   "outputs": [
    {
     "data": {
      "text/html": [
       "<div>\n",
       "<style scoped>\n",
       "    .dataframe tbody tr th:only-of-type {\n",
       "        vertical-align: middle;\n",
       "    }\n",
       "\n",
       "    .dataframe tbody tr th {\n",
       "        vertical-align: top;\n",
       "    }\n",
       "\n",
       "    .dataframe thead th {\n",
       "        text-align: right;\n",
       "    }\n",
       "</style>\n",
       "<table border=\"1\" class=\"dataframe\">\n",
       "  <thead>\n",
       "    <tr style=\"text-align: right;\">\n",
       "      <th></th>\n",
       "      <th>asin_id</th>\n",
       "      <th>review_id</th>\n",
       "      <th>review_title</th>\n",
       "      <th>review_description</th>\n",
       "      <th>user_rating</th>\n",
       "    </tr>\n",
       "  </thead>\n",
       "  <tbody>\n",
       "    <tr>\n",
       "      <th>0</th>\n",
       "      <td>B076HK9H7Z</td>\n",
       "      <td>R1OSPWS88F2CUZ</td>\n",
       "      <td>DO NOT BUY!!!</td>\n",
       "      <td>I would give this zero stars if I could! If ...</td>\n",
       "      <td>1.0</td>\n",
       "    </tr>\n",
       "    <tr>\n",
       "      <th>1</th>\n",
       "      <td>B076HK9H7Z</td>\n",
       "      <td>R1DCFJ8VYSN17B</td>\n",
       "      <td>Is this the millennial version?</td>\n",
       "      <td>This is not the original sorry game. It only...</td>\n",
       "      <td>1.0</td>\n",
       "    </tr>\n",
       "    <tr>\n",
       "      <th>2</th>\n",
       "      <td>B076HK9H7Z</td>\n",
       "      <td>R1V07N4GXA7RSL</td>\n",
       "      <td>Wimp and Crybaby Edition</td>\n",
       "      <td>We bought this to replace our old Sorry game...</td>\n",
       "      <td>1.0</td>\n",
       "    </tr>\n",
       "    <tr>\n",
       "      <th>3</th>\n",
       "      <td>B076HK9H7Z</td>\n",
       "      <td>R2Z262NZDEU2EY</td>\n",
       "      <td>NOT the original/regular Sorry!</td>\n",
       "      <td>Be warned that this is not the sorry you gre...</td>\n",
       "      <td>2.0</td>\n",
       "    </tr>\n",
       "    <tr>\n",
       "      <th>4</th>\n",
       "      <td>B076HK9H7Z</td>\n",
       "      <td>RG3XIFV1PUX9Y</td>\n",
       "      <td>Not the classic by a long shot, but okay.</td>\n",
       "      <td>Definitely not the classic game, with only 3...</td>\n",
       "      <td>4.0</td>\n",
       "    </tr>\n",
       "  </tbody>\n",
       "</table>\n",
       "</div>"
      ],
      "text/plain": [
       "      asin_id       review_id                               review_title  \\\n",
       "0  B076HK9H7Z  R1OSPWS88F2CUZ                              DO NOT BUY!!!   \n",
       "1  B076HK9H7Z  R1DCFJ8VYSN17B            Is this the millennial version?   \n",
       "2  B076HK9H7Z  R1V07N4GXA7RSL                   Wimp and Crybaby Edition   \n",
       "3  B076HK9H7Z  R2Z262NZDEU2EY            NOT the original/regular Sorry!   \n",
       "4  B076HK9H7Z   RG3XIFV1PUX9Y  Not the classic by a long shot, but okay.   \n",
       "\n",
       "                                  review_description  user_rating  \n",
       "0    I would give this zero stars if I could! If ...          1.0  \n",
       "1    This is not the original sorry game. It only...          1.0  \n",
       "2    We bought this to replace our old Sorry game...          1.0  \n",
       "3    Be warned that this is not the sorry you gre...          2.0  \n",
       "4    Definitely not the classic game, with only 3...          4.0  "
      ]
     },
     "execution_count": 344,
     "metadata": {},
     "output_type": "execute_result"
    }
   ],
   "source": [
    "reviews_df.head()"
   ]
  },
  {
   "cell_type": "code",
   "execution_count": 345,
   "metadata": {},
   "outputs": [
    {
     "data": {
      "text/plain": [
       "(6693, 5)"
      ]
     },
     "execution_count": 345,
     "metadata": {},
     "output_type": "execute_result"
    }
   ],
   "source": [
    "reviews_df.shape"
   ]
  },
  {
   "cell_type": "markdown",
   "metadata": {},
   "source": [
    "### Remove duplicate reviews"
   ]
  },
  {
   "cell_type": "code",
   "execution_count": 346,
   "metadata": {},
   "outputs": [],
   "source": [
    "reviews_df = reviews_df.drop_duplicates(subset=['review_id'])"
   ]
  },
  {
   "cell_type": "code",
   "execution_count": 347,
   "metadata": {},
   "outputs": [
    {
     "data": {
      "text/plain": [
       "(5539, 5)"
      ]
     },
     "execution_count": 347,
     "metadata": {},
     "output_type": "execute_result"
    }
   ],
   "source": [
    "reviews_df.shape"
   ]
  },
  {
   "cell_type": "markdown",
   "metadata": {},
   "source": [
    "### save processed reviews_df as csv"
   ]
  },
  {
   "cell_type": "code",
   "execution_count": 348,
   "metadata": {},
   "outputs": [],
   "source": [
    "reviews_df.to_csv('csv_files/cleaned_reviews_df.csv')"
   ]
  }
 ],
 "metadata": {
  "kernelspec": {
   "display_name": "Python 3",
   "language": "python",
   "name": "python3"
  },
  "language_info": {
   "codemirror_mode": {
    "name": "ipython",
    "version": 3
   },
   "file_extension": ".py",
   "mimetype": "text/x-python",
   "name": "python",
   "nbconvert_exporter": "python",
   "pygments_lexer": "ipython3",
   "version": "3.6.9"
  },
  "toc": {
   "base_numbering": 1,
   "nav_menu": {},
   "number_sections": true,
   "sideBar": true,
   "skip_h1_title": false,
   "title_cell": "Table of Contents",
   "title_sidebar": "Contents",
   "toc_cell": false,
   "toc_position": {},
   "toc_section_display": true,
   "toc_window_display": true
  }
 },
 "nbformat": 4,
 "nbformat_minor": 2
}
