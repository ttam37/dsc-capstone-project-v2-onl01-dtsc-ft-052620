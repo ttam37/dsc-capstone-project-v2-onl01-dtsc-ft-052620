{
 "cells": [
  {
   "cell_type": "markdown",
   "metadata": {},
   "source": [
    "# Multiclass Classification Model using all classes in my model (number of ratings 1- 5) and added balanced class weights in algorithms"
   ]
  },
  {
   "cell_type": "code",
   "execution_count": 251,
   "metadata": {},
   "outputs": [],
   "source": [
    "import pandas as pd\n",
    "import numpy as np\n",
    "import matplotlib.pyplot as plt\n",
    "import seaborn as sns\n",
    "from collections import Counter\n",
    "import warnings\n",
    "warnings.filterwarnings('ignore')\n",
    "\n",
    "from sklearn.feature_extraction.text import TfidfVectorizer\n",
    "from sklearn.model_selection import train_test_split\n",
    "from sklearn.metrics import plot_confusion_matrix\n",
    "from sklearn.metrics import confusion_matrix\n",
    "from sklearn.metrics import classification_report\n",
    "from sklearn.ensemble import RandomForestClassifier\n",
    "from sklearn.neighbors import KNeighborsClassifier\n",
    "from sklearn.linear_model import LogisticRegression\n",
    "from sklearn.model_selection import GridSearchCV\n",
    "from sklearn.metrics import accuracy_score\n",
    "from sklearn.svm import SVC\n",
    "\n",
    "\n",
    "import string\n",
    "import re\n",
    "import nltk\n",
    "from nltk.corpus import stopwords\n",
    "from nltk import PorterStemmer\n",
    "from nltk import FreqDist\n",
    "from nltk.tokenize import word_tokenize"
   ]
  },
  {
   "cell_type": "markdown",
   "metadata": {},
   "source": [
    "# Import Data"
   ]
  },
  {
   "cell_type": "code",
   "execution_count": 252,
   "metadata": {},
   "outputs": [
    {
     "data": {
      "text/html": [
       "<div>\n",
       "<style scoped>\n",
       "    .dataframe tbody tr th:only-of-type {\n",
       "        vertical-align: middle;\n",
       "    }\n",
       "\n",
       "    .dataframe tbody tr th {\n",
       "        vertical-align: top;\n",
       "    }\n",
       "\n",
       "    .dataframe thead th {\n",
       "        text-align: right;\n",
       "    }\n",
       "</style>\n",
       "<table border=\"1\" class=\"dataframe\">\n",
       "  <thead>\n",
       "    <tr style=\"text-align: right;\">\n",
       "      <th></th>\n",
       "      <th>asin_id</th>\n",
       "      <th>name</th>\n",
       "      <th>price</th>\n",
       "      <th>avg_rating</th>\n",
       "      <th>no_of_ratings</th>\n",
       "      <th>review_id</th>\n",
       "      <th>review_title</th>\n",
       "      <th>review_description</th>\n",
       "      <th>user_rating</th>\n",
       "      <th>cleaned_title</th>\n",
       "      <th>cleaned_reviews</th>\n",
       "    </tr>\n",
       "  </thead>\n",
       "  <tbody>\n",
       "    <tr>\n",
       "      <th>0</th>\n",
       "      <td>B076HK9H7Z</td>\n",
       "      <td>Sorry! Game</td>\n",
       "      <td>0.0</td>\n",
       "      <td>4.7</td>\n",
       "      <td>7555</td>\n",
       "      <td>R1OSPWS88F2CUZ</td>\n",
       "      <td>DO NOT BUY!!!</td>\n",
       "      <td>I would give this zero stars if I could! If ...</td>\n",
       "      <td>1.0</td>\n",
       "      <td>buy</td>\n",
       "      <td>would give zero star could youre original sorr...</td>\n",
       "    </tr>\n",
       "    <tr>\n",
       "      <th>1</th>\n",
       "      <td>B076HK9H7Z</td>\n",
       "      <td>Sorry! Game</td>\n",
       "      <td>0.0</td>\n",
       "      <td>4.7</td>\n",
       "      <td>7555</td>\n",
       "      <td>R1DCFJ8VYSN17B</td>\n",
       "      <td>Is this the millennial version?</td>\n",
       "      <td>This is not the original sorry game. It only...</td>\n",
       "      <td>1.0</td>\n",
       "      <td>millennial version</td>\n",
       "      <td>original sorry game pawn per team instead trad...</td>\n",
       "    </tr>\n",
       "    <tr>\n",
       "      <th>2</th>\n",
       "      <td>B076HK9H7Z</td>\n",
       "      <td>Sorry! Game</td>\n",
       "      <td>0.0</td>\n",
       "      <td>4.7</td>\n",
       "      <td>7555</td>\n",
       "      <td>R1V07N4GXA7RSL</td>\n",
       "      <td>Wimp and Crybaby Edition</td>\n",
       "      <td>We bought this to replace our old Sorry game...</td>\n",
       "      <td>1.0</td>\n",
       "      <td>wimp crybaby edition</td>\n",
       "      <td>buy replace old sorry game fall apart wish rea...</td>\n",
       "    </tr>\n",
       "    <tr>\n",
       "      <th>3</th>\n",
       "      <td>B076HK9H7Z</td>\n",
       "      <td>Sorry! Game</td>\n",
       "      <td>0.0</td>\n",
       "      <td>4.7</td>\n",
       "      <td>7555</td>\n",
       "      <td>R2Z262NZDEU2EY</td>\n",
       "      <td>NOT the original/regular Sorry!</td>\n",
       "      <td>Be warned that this is not the sorry you gre...</td>\n",
       "      <td>2.0</td>\n",
       "      <td>originalregular sorry</td>\n",
       "      <td>warn sorry grow three token per player rule di...</td>\n",
       "    </tr>\n",
       "    <tr>\n",
       "      <th>4</th>\n",
       "      <td>B076HK9H7Z</td>\n",
       "      <td>Sorry! Game</td>\n",
       "      <td>0.0</td>\n",
       "      <td>4.7</td>\n",
       "      <td>7555</td>\n",
       "      <td>RG3XIFV1PUX9Y</td>\n",
       "      <td>Not the classic by a long shot, but okay.</td>\n",
       "      <td>Definitely not the classic game, with only 3...</td>\n",
       "      <td>4.0</td>\n",
       "      <td>classic long shot okay</td>\n",
       "      <td>definitely classic game pawn card instead dice...</td>\n",
       "    </tr>\n",
       "  </tbody>\n",
       "</table>\n",
       "</div>"
      ],
      "text/plain": [
       "      asin_id         name  price  avg_rating  no_of_ratings       review_id  \\\n",
       "0  B076HK9H7Z  Sorry! Game    0.0         4.7           7555  R1OSPWS88F2CUZ   \n",
       "1  B076HK9H7Z  Sorry! Game    0.0         4.7           7555  R1DCFJ8VYSN17B   \n",
       "2  B076HK9H7Z  Sorry! Game    0.0         4.7           7555  R1V07N4GXA7RSL   \n",
       "3  B076HK9H7Z  Sorry! Game    0.0         4.7           7555  R2Z262NZDEU2EY   \n",
       "4  B076HK9H7Z  Sorry! Game    0.0         4.7           7555   RG3XIFV1PUX9Y   \n",
       "\n",
       "                                review_title  \\\n",
       "0                              DO NOT BUY!!!   \n",
       "1            Is this the millennial version?   \n",
       "2                   Wimp and Crybaby Edition   \n",
       "3            NOT the original/regular Sorry!   \n",
       "4  Not the classic by a long shot, but okay.   \n",
       "\n",
       "                                  review_description  user_rating  \\\n",
       "0    I would give this zero stars if I could! If ...          1.0   \n",
       "1    This is not the original sorry game. It only...          1.0   \n",
       "2    We bought this to replace our old Sorry game...          1.0   \n",
       "3    Be warned that this is not the sorry you gre...          2.0   \n",
       "4    Definitely not the classic game, with only 3...          4.0   \n",
       "\n",
       "            cleaned_title                                    cleaned_reviews  \n",
       "0                     buy  would give zero star could youre original sorr...  \n",
       "1      millennial version  original sorry game pawn per team instead trad...  \n",
       "2    wimp crybaby edition  buy replace old sorry game fall apart wish rea...  \n",
       "3   originalregular sorry  warn sorry grow three token per player rule di...  \n",
       "4  classic long shot okay  definitely classic game pawn card instead dice...  "
      ]
     },
     "execution_count": 252,
     "metadata": {},
     "output_type": "execute_result"
    }
   ],
   "source": [
    "final_df = pd.read_csv('csv_files/cleaned_items_reviews_df.csv',index_col=0)\n",
    "final_df.head()"
   ]
  },
  {
   "cell_type": "code",
   "execution_count": 253,
   "metadata": {},
   "outputs": [],
   "source": [
    "# drop rows where cleaned_reviews are na\n",
    "final_df.isna()\n",
    "final_df = final_df.dropna(subset=['cleaned_reviews'])"
   ]
  },
  {
   "cell_type": "markdown",
   "metadata": {},
   "source": [
    "# Class Imbalance"
   ]
  },
  {
   "cell_type": "code",
   "execution_count": 254,
   "metadata": {},
   "outputs": [
    {
     "data": {
      "text/plain": [
       "5.0    3495\n",
       "4.0     704\n",
       "1.0     566\n",
       "3.0     444\n",
       "2.0     278\n",
       "Name: user_rating, dtype: int64"
      ]
     },
     "execution_count": 254,
     "metadata": {},
     "output_type": "execute_result"
    }
   ],
   "source": [
    "final_df['user_rating'].value_counts()"
   ]
  },
  {
   "cell_type": "code",
   "execution_count": 255,
   "metadata": {},
   "outputs": [
    {
     "data": {
      "image/png": "[encoded data removed]",
      "text/plain": [
       "<Figure size 432x288 with 1 Axes>"
      ]
     },
     "metadata": {
      "needs_background": "light"
     },
     "output_type": "display_data"
    }
   ],
   "source": [
    "# plt.figure(figsize=(20,10))\n",
    "final_df['user_rating'].value_counts().plot.bar(rot=0)\n",
    "\n",
    "plt.title('Count of User Rating',fontsize=20)\n",
    "plt.xlabel('Rating',fontsize=15)\n",
    "plt.xticks(fontsize=10)\n",
    "plt.ylabel('Count',fontsize=15)\n",
    "plt.yticks(fontsize=10);"
   ]
  },
  {
   "cell_type": "markdown",
   "metadata": {},
   "source": [
    "It appears we have a class imbalance problem where the number of 5.0 reviews are much greater than the other reviews. Oversampling the minority classes will lead to overfitting due to a creation of large number of synthetic rows. To address this, I used balanced class weights in the hyperparameters."
   ]
  },
  {
   "cell_type": "markdown",
   "metadata": {},
   "source": [
    "# TF-IDF Vectorization\n",
    "\n",
    "Stands for Term Frequency, Inverse Document Frequency and weighs each word in a document by how unique it is. The idea behind TF-IDF is that the words that occur less in all the documents and more in individual documents are weighted more."
   ]
  },
  {
   "cell_type": "code",
   "execution_count": 256,
   "metadata": {},
   "outputs": [],
   "source": [
    "# declare variables for reviews and rating\n",
    "reviews = final_df['cleaned_reviews'].values\n",
    "rating = final_df['user_rating'].values"
   ]
  },
  {
   "cell_type": "code",
   "execution_count": 257,
   "metadata": {},
   "outputs": [],
   "source": [
    "# convert text into TF-IDF feature vectors\n",
    "\n",
    "vectorizer = TfidfVectorizer(max_features=2500, # num of most frequent occuring words to create bag of words vector\n",
    "                             min_df=7, # minimum words that occur in at least 7 documents\n",
    "                             max_df=0.8, # words that occur in a maximum of 80% of documents\n",
    "                             stop_words=stopwords.words('english'))\n",
    "\n",
    "processed_features = vectorizer.fit_transform(reviews).toarray()"
   ]
  },
  {
   "cell_type": "code",
   "execution_count": 258,
   "metadata": {},
   "outputs": [
    {
     "name": "stdout",
     "output_type": "stream",
     "text": [
      "TfidfVectorizer(max_df=0.8, max_features=2500, min_df=7,\n",
      "                stop_words=['i', 'me', 'my', 'myself', 'we', 'our', 'ours',\n",
      "                            'ourselves', 'you', \"you're\", \"you've\", \"you'll\",\n",
      "                            \"you'd\", 'your', 'yours', 'yourself', 'yourselves',\n",
      "                            'he', 'him', 'his', 'himself', 'she', \"she's\",\n",
      "                            'her', 'hers', 'herself', 'it', \"it's\", 'its',\n",
      "                            'itself', ...])\n",
      "[[0.         0.11456351 0.         ... 0.18820405 0.         0.        ]\n",
      " [0.         0.         0.         ... 0.         0.         0.        ]\n",
      " [0.         0.         0.         ... 0.         0.         0.        ]\n",
      " ...\n",
      " [0.         0.         0.         ... 0.         0.         0.        ]\n",
      " [0.         0.         0.         ... 0.         0.         0.        ]\n",
      " [0.         0.         0.         ... 0.         0.         0.        ]]\n"
     ]
    }
   ],
   "source": [
    "print(vectorizer)\n",
    "print(processed_features)"
   ]
  },
  {
   "cell_type": "markdown",
   "metadata": {},
   "source": [
    "# Train Test Split"
   ]
  },
  {
   "cell_type": "code",
   "execution_count": 259,
   "metadata": {},
   "outputs": [],
   "source": [
    "X_train, X_test, y_train, y_test = train_test_split(processed_features,\n",
    "                                                    rating, \n",
    "                                                    test_size=0.2, # 80% training/20% test\n",
    "                                                    random_state=0)"
   ]
  },
  {
   "cell_type": "markdown",
   "metadata": {},
   "source": [
    "# Logistic Regression"
   ]
  },
  {
   "cell_type": "code",
   "execution_count": 260,
   "metadata": {},
   "outputs": [
    {
     "data": {
      "text/plain": [
       "LogisticRegression(C=1000000000000.0, class_weight='balanced',\n",
       "                   fit_intercept=False, random_state=0, solver='liblinear')"
      ]
     },
     "execution_count": 260,
     "metadata": {},
     "output_type": "execute_result"
    }
   ],
   "source": [
    "logreg_classifier = LogisticRegression(fit_intercept=False, C=1e12, solver='liblinear', class_weight='balanced',random_state=0)\n",
    "logreg_classifier.fit(X_train, y_train)"
   ]
  },
  {
   "cell_type": "code",
   "execution_count": 261,
   "metadata": {},
   "outputs": [
    {
     "data": {
      "text/plain": [
       "array([5., 5., 1., ..., 5., 5., 4.])"
      ]
     },
     "execution_count": 261,
     "metadata": {},
     "output_type": "execute_result"
    }
   ],
   "source": [
    "logreg_predictions = logreg_classifier.predict(X_test)\n",
    "logreg_predictions"
   ]
  },
  {
   "cell_type": "markdown",
   "metadata": {},
   "source": [
    "## Result"
   ]
  },
  {
   "cell_type": "markdown",
   "metadata": {},
   "source": [
    "### Confusion Matrix"
   ]
  },
  {
   "cell_type": "code",
   "execution_count": 262,
   "metadata": {},
   "outputs": [
    {
     "name": "stdout",
     "output_type": "stream",
     "text": [
      "[[ 44  13  12  15  21]\n",
      " [ 18   9   7   8  14]\n",
      " [ 11   6  20  18  36]\n",
      " [  9   4  10  37  58]\n",
      " [ 17  27  34 103 547]]\n"
     ]
    }
   ],
   "source": [
    "print(confusion_matrix(y_test, logreg_predictions))"
   ]
  },
  {
   "cell_type": "markdown",
   "metadata": {},
   "source": [
    "### Classification Report"
   ]
  },
  {
   "cell_type": "code",
   "execution_count": 263,
   "metadata": {},
   "outputs": [
    {
     "name": "stdout",
     "output_type": "stream",
     "text": [
      "              precision    recall  f1-score   support\n",
      "\n",
      "         1.0       0.44      0.42      0.43       105\n",
      "         2.0       0.15      0.16      0.16        56\n",
      "         3.0       0.24      0.22      0.23        91\n",
      "         4.0       0.20      0.31      0.25       118\n",
      "         5.0       0.81      0.75      0.78       728\n",
      "\n",
      "    accuracy                           0.60      1098\n",
      "   macro avg       0.37      0.37      0.37      1098\n",
      "weighted avg       0.63      0.60      0.61      1098\n",
      "\n"
     ]
    }
   ],
   "source": [
    "print(classification_report(y_test, logreg_predictions))"
   ]
  },
  {
   "cell_type": "markdown",
   "metadata": {},
   "source": [
    "### Accuracy Score"
   ]
  },
  {
   "cell_type": "code",
   "execution_count": 264,
   "metadata": {},
   "outputs": [
    {
     "name": "stdout",
     "output_type": "stream",
     "text": [
      "0.5983606557377049\n"
     ]
    }
   ],
   "source": [
    "print(accuracy_score(y_test, logreg_predictions))"
   ]
  },
  {
   "cell_type": "code",
   "execution_count": 265,
   "metadata": {},
   "outputs": [
    {
     "data": {
      "text/html": [
       "<div>\n",
       "<style scoped>\n",
       "    .dataframe tbody tr th:only-of-type {\n",
       "        vertical-align: middle;\n",
       "    }\n",
       "\n",
       "    .dataframe tbody tr th {\n",
       "        vertical-align: top;\n",
       "    }\n",
       "\n",
       "    .dataframe thead th {\n",
       "        text-align: right;\n",
       "    }\n",
       "</style>\n",
       "<table border=\"1\" class=\"dataframe\">\n",
       "  <thead>\n",
       "    <tr style=\"text-align: right;\">\n",
       "      <th></th>\n",
       "      <th>Model</th>\n",
       "      <th>Accuracy</th>\n",
       "    </tr>\n",
       "  </thead>\n",
       "  <tbody>\n",
       "    <tr>\n",
       "      <th>0</th>\n",
       "      <td>Logistic Regression</td>\n",
       "      <td>0.598361</td>\n",
       "    </tr>\n",
       "  </tbody>\n",
       "</table>\n",
       "</div>"
      ],
      "text/plain": [
       "                 Model  Accuracy\n",
       "0  Logistic Regression  0.598361"
      ]
     },
     "execution_count": 265,
     "metadata": {},
     "output_type": "execute_result"
    }
   ],
   "source": [
    "accuracy_results = pd.DataFrame({'Model':['Logistic Regression'], 'Accuracy':[accuracy_score(y_test, logreg_predictions)]})\n",
    "accuracy_results"
   ]
  },
  {
   "cell_type": "markdown",
   "metadata": {},
   "source": [
    "# Random Forest"
   ]
  },
  {
   "cell_type": "markdown",
   "metadata": {},
   "source": [
    "## GridSearchCV"
   ]
  },
  {
   "cell_type": "code",
   "execution_count": 266,
   "metadata": {},
   "outputs": [],
   "source": [
    "# # Perform a gridsearch for Random Forest\n",
    "# # Obtain optimal values of model hyperparameters\n",
    "\n",
    "# RF_classifier = RandomForestClassifier(random_state=0)\n",
    "\n",
    "# params = {'criterion': ['gini','entropy'], # Measure the quality of a split\n",
    "#              'max_depth': [10, 20, 30], # Maximum number of levels in tree\n",
    "#              'max_features': ['auto', 'sqrt'], # Number of features to consider at every split\n",
    "#              'min_samples_leaf': [1, 2, 4], # Minimum number of samples required at each leaf node\n",
    "#              'min_samples_split': [2, 5, 10], # Minimum number of samples required to split a node\n",
    "#              'n_estimators': [200, 500, 1000]} # The number of trees in the forest\n",
    "\n",
    "# g_s_RF = GridSearchCV(RF_classifier,param_grid=params, n_jobs=-1) # create gridsearch with input params\n",
    "# grid_result = g_s_RF.fit(X_train, y_train) # fit gridsearch with training data\n",
    "# best_params = grid_result.best_params_ # output best params for given data\n",
    "# best_params"
   ]
  },
  {
   "cell_type": "code",
   "execution_count": 267,
   "metadata": {},
   "outputs": [
    {
     "data": {
      "text/plain": [
       "RandomForestClassifier(class_weight='balanced', max_depth=10,\n",
       "                       min_samples_leaf=4, n_estimators=1000, random_state=0)"
      ]
     },
     "execution_count": 267,
     "metadata": {},
     "output_type": "execute_result"
    }
   ],
   "source": [
    "RF_classifier = RandomForestClassifier(criterion='gini',\n",
    "                                       max_depth=10,\n",
    "                                       max_features='auto',\n",
    "                                       min_samples_leaf=4,\n",
    "                                       min_samples_split=2,\n",
    "                                       n_estimators=1000, \n",
    "                                       random_state=0,\n",
    "                                       class_weight='balanced')\n",
    "RF_classifier.fit(X_train, y_train)"
   ]
  },
  {
   "cell_type": "code",
   "execution_count": 268,
   "metadata": {},
   "outputs": [
    {
     "data": {
      "text/plain": [
       "array([5., 4., 1., ..., 5., 4., 1.])"
      ]
     },
     "execution_count": 268,
     "metadata": {},
     "output_type": "execute_result"
    }
   ],
   "source": [
    "RF_predictions = RF_classifier.predict(X_test)\n",
    "RF_predictions"
   ]
  },
  {
   "cell_type": "markdown",
   "metadata": {},
   "source": [
    "## Results"
   ]
  },
  {
   "cell_type": "markdown",
   "metadata": {},
   "source": [
    "### Confusion Matrix"
   ]
  },
  {
   "cell_type": "code",
   "execution_count": 269,
   "metadata": {},
   "outputs": [
    {
     "name": "stdout",
     "output_type": "stream",
     "text": [
      "[[ 73  11   5   4  12]\n",
      " [ 24   2   8  10  12]\n",
      " [ 24   8   8  20  31]\n",
      " [ 14   3   9  39  53]\n",
      " [ 93   6  17  63 549]]\n"
     ]
    }
   ],
   "source": [
    "print(confusion_matrix(y_test, RF_predictions))"
   ]
  },
  {
   "cell_type": "markdown",
   "metadata": {},
   "source": [
    "### Classification Report"
   ]
  },
  {
   "cell_type": "code",
   "execution_count": 270,
   "metadata": {},
   "outputs": [
    {
     "name": "stdout",
     "output_type": "stream",
     "text": [
      "              precision    recall  f1-score   support\n",
      "\n",
      "         1.0       0.32      0.70      0.44       105\n",
      "         2.0       0.07      0.04      0.05        56\n",
      "         3.0       0.17      0.09      0.12        91\n",
      "         4.0       0.29      0.33      0.31       118\n",
      "         5.0       0.84      0.75      0.79       728\n",
      "\n",
      "    accuracy                           0.61      1098\n",
      "   macro avg       0.34      0.38      0.34      1098\n",
      "weighted avg       0.63      0.61      0.61      1098\n",
      "\n"
     ]
    }
   ],
   "source": [
    "print(classification_report(y_test, RF_predictions))"
   ]
  },
  {
   "cell_type": "markdown",
   "metadata": {},
   "source": [
    "### Accuracy Score"
   ]
  },
  {
   "cell_type": "code",
   "execution_count": 271,
   "metadata": {},
   "outputs": [
    {
     "name": "stdout",
     "output_type": "stream",
     "text": [
      "0.6111111111111112\n"
     ]
    }
   ],
   "source": [
    "print(accuracy_score(y_test, RF_predictions))"
   ]
  },
  {
   "cell_type": "code",
   "execution_count": 272,
   "metadata": {},
   "outputs": [
    {
     "data": {
      "text/html": [
       "<div>\n",
       "<style scoped>\n",
       "    .dataframe tbody tr th:only-of-type {\n",
       "        vertical-align: middle;\n",
       "    }\n",
       "\n",
       "    .dataframe tbody tr th {\n",
       "        vertical-align: top;\n",
       "    }\n",
       "\n",
       "    .dataframe thead th {\n",
       "        text-align: right;\n",
       "    }\n",
       "</style>\n",
       "<table border=\"1\" class=\"dataframe\">\n",
       "  <thead>\n",
       "    <tr style=\"text-align: right;\">\n",
       "      <th></th>\n",
       "      <th>Model</th>\n",
       "      <th>Accuracy</th>\n",
       "    </tr>\n",
       "  </thead>\n",
       "  <tbody>\n",
       "    <tr>\n",
       "      <th>0</th>\n",
       "      <td>Logistic Regression</td>\n",
       "      <td>0.598361</td>\n",
       "    </tr>\n",
       "    <tr>\n",
       "      <th>1</th>\n",
       "      <td>RF</td>\n",
       "      <td>0.611111</td>\n",
       "    </tr>\n",
       "  </tbody>\n",
       "</table>\n",
       "</div>"
      ],
      "text/plain": [
       "                 Model  Accuracy\n",
       "0  Logistic Regression  0.598361\n",
       "1                   RF  0.611111"
      ]
     },
     "execution_count": 272,
     "metadata": {},
     "output_type": "execute_result"
    }
   ],
   "source": [
    "accuracy_results = accuracy_results.append({'Model':'RF', 'Accuracy':accuracy_score(y_test, RF_predictions)},ignore_index=True)\n",
    "accuracy_results"
   ]
  },
  {
   "cell_type": "markdown",
   "metadata": {},
   "source": [
    "### Plot Comparison between Actuals and Predicted"
   ]
  },
  {
   "cell_type": "code",
   "execution_count": 273,
   "metadata": {},
   "outputs": [],
   "source": [
    "predictions_count = dict(Counter(RF_predictions))\n",
    "predictions_count_df = pd.DataFrame.from_dict(predictions_count, orient ='index', columns =['Predictions'])\n",
    "\n",
    "y_test_count = dict(Counter(y_test))\n",
    "y_test_count_df = pd.DataFrame.from_dict(y_test_count, orient ='index', columns =['Actuals'])\n",
    "\n",
    "random_forest_df = pd.concat([predictions_count_df, y_test_count_df], axis=1).fillna(0)"
   ]
  },
  {
   "cell_type": "code",
   "execution_count": 274,
   "metadata": {},
   "outputs": [
    {
     "data": {
      "image/png": "[encoded data removed]",
      "text/plain": [
       "<Figure size 1440x720 with 1 Axes>"
      ]
     },
     "metadata": {
      "needs_background": "light"
     },
     "output_type": "display_data"
    }
   ],
   "source": [
    "random_forest_df.plot.bar(rot=0, figsize=(20,10))\n",
    "\n",
    "plt.title('Comparison between Actual Reviews and Predicted Reviews (Random Forest)',fontsize=30)\n",
    "\n",
    "plt.xlabel('Rating',fontsize=25)\n",
    "plt.xticks(fontsize=20)\n",
    "plt.ylabel('Count',fontsize=25)\n",
    "plt.yticks(fontsize=20)\n",
    "plt.legend(fontsize=20);"
   ]
  },
  {
   "cell_type": "markdown",
   "metadata": {},
   "source": [
    "# K-Nearest Neighbors (KNN)"
   ]
  },
  {
   "cell_type": "code",
   "execution_count": 275,
   "metadata": {},
   "outputs": [],
   "source": [
    "# # Perform a gridsearch for Random Forest\n",
    "# # Obtain optimal values of model hyperparameters\n",
    "\n",
    "# KNN_classifier = KNeighborsClassifier()\n",
    "\n",
    "# params = {'n_neighbors': [5,15,25], # Number of neighbors\n",
    "#              'weights': ['uniform','distance']} # Weight function used in prediction\n",
    "\n",
    "# g_s_KNN = GridSearchCV(KNN_classifier,param_grid=params, n_jobs=-1) # create gridsearch with input params\n",
    "# grid_result = g_s_KNN.fit(X_train, y_train) # fit gridsearch with training data\n",
    "# best_params = grid_result.best_params_ # output best params for given data\n",
    "# best_params"
   ]
  },
  {
   "cell_type": "code",
   "execution_count": 276,
   "metadata": {},
   "outputs": [
    {
     "data": {
      "text/plain": [
       "KNeighborsClassifier(n_neighbors=15, weights='distance')"
      ]
     },
     "execution_count": 276,
     "metadata": {},
     "output_type": "execute_result"
    }
   ],
   "source": [
    "KNN_classifier = KNeighborsClassifier(n_neighbors=15,weights='distance')\n",
    "KNN_classifier.fit(X_train, y_train)"
   ]
  },
  {
   "cell_type": "code",
   "execution_count": 277,
   "metadata": {},
   "outputs": [
    {
     "data": {
      "text/plain": [
       "array([5., 5., 5., ..., 5., 5., 5.])"
      ]
     },
     "execution_count": 277,
     "metadata": {},
     "output_type": "execute_result"
    }
   ],
   "source": [
    "KNN_predictions = KNN_classifier.predict(X_test)\n",
    "KNN_predictions"
   ]
  },
  {
   "cell_type": "markdown",
   "metadata": {},
   "source": [
    "## Results"
   ]
  },
  {
   "cell_type": "markdown",
   "metadata": {},
   "source": [
    "### Confusion Matrix"
   ]
  },
  {
   "cell_type": "code",
   "execution_count": 278,
   "metadata": {
    "scrolled": true
   },
   "outputs": [
    {
     "name": "stdout",
     "output_type": "stream",
     "text": [
      "[[  0   0   0   0 105]\n",
      " [  0   0   0   0  56]\n",
      " [  0   0   0   0  91]\n",
      " [  0   0   0   0 118]\n",
      " [  0   0   0   1 727]]\n"
     ]
    }
   ],
   "source": [
    "print(confusion_matrix(y_test, KNN_predictions))"
   ]
  },
  {
   "cell_type": "markdown",
   "metadata": {},
   "source": [
    "### Classification Report"
   ]
  },
  {
   "cell_type": "code",
   "execution_count": 279,
   "metadata": {},
   "outputs": [
    {
     "name": "stdout",
     "output_type": "stream",
     "text": [
      "              precision    recall  f1-score   support\n",
      "\n",
      "         1.0       0.00      0.00      0.00       105\n",
      "         2.0       0.00      0.00      0.00        56\n",
      "         3.0       0.00      0.00      0.00        91\n",
      "         4.0       0.00      0.00      0.00       118\n",
      "         5.0       0.66      1.00      0.80       728\n",
      "\n",
      "    accuracy                           0.66      1098\n",
      "   macro avg       0.13      0.20      0.16      1098\n",
      "weighted avg       0.44      0.66      0.53      1098\n",
      "\n"
     ]
    }
   ],
   "source": [
    "print(classification_report(y_test, KNN_predictions))"
   ]
  },
  {
   "cell_type": "markdown",
   "metadata": {},
   "source": [
    "### Accuracy Score"
   ]
  },
  {
   "cell_type": "code",
   "execution_count": 280,
   "metadata": {},
   "outputs": [
    {
     "name": "stdout",
     "output_type": "stream",
     "text": [
      "0.6621129326047359\n"
     ]
    }
   ],
   "source": [
    "print(accuracy_score(y_test, KNN_predictions))"
   ]
  },
  {
   "cell_type": "code",
   "execution_count": 281,
   "metadata": {
    "scrolled": true
   },
   "outputs": [
    {
     "data": {
      "text/html": [
       "<div>\n",
       "<style scoped>\n",
       "    .dataframe tbody tr th:only-of-type {\n",
       "        vertical-align: middle;\n",
       "    }\n",
       "\n",
       "    .dataframe tbody tr th {\n",
       "        vertical-align: top;\n",
       "    }\n",
       "\n",
       "    .dataframe thead th {\n",
       "        text-align: right;\n",
       "    }\n",
       "</style>\n",
       "<table border=\"1\" class=\"dataframe\">\n",
       "  <thead>\n",
       "    <tr style=\"text-align: right;\">\n",
       "      <th></th>\n",
       "      <th>Model</th>\n",
       "      <th>Accuracy</th>\n",
       "    </tr>\n",
       "  </thead>\n",
       "  <tbody>\n",
       "    <tr>\n",
       "      <th>0</th>\n",
       "      <td>Logistic Regression</td>\n",
       "      <td>0.598361</td>\n",
       "    </tr>\n",
       "    <tr>\n",
       "      <th>1</th>\n",
       "      <td>RF</td>\n",
       "      <td>0.611111</td>\n",
       "    </tr>\n",
       "    <tr>\n",
       "      <th>2</th>\n",
       "      <td>KNN</td>\n",
       "      <td>0.662113</td>\n",
       "    </tr>\n",
       "  </tbody>\n",
       "</table>\n",
       "</div>"
      ],
      "text/plain": [
       "                 Model  Accuracy\n",
       "0  Logistic Regression  0.598361\n",
       "1                   RF  0.611111\n",
       "2                  KNN  0.662113"
      ]
     },
     "execution_count": 281,
     "metadata": {},
     "output_type": "execute_result"
    }
   ],
   "source": [
    "accuracy_results = accuracy_results.append({'Model':'KNN', 'Accuracy':accuracy_score(y_test, KNN_predictions)},ignore_index=True)\n",
    "accuracy_results"
   ]
  },
  {
   "cell_type": "markdown",
   "metadata": {},
   "source": [
    "### Plot Comparison between Actuals and Predicted"
   ]
  },
  {
   "cell_type": "code",
   "execution_count": 282,
   "metadata": {},
   "outputs": [],
   "source": [
    "predictions_count = dict(Counter(KNN_predictions))\n",
    "predictions_count_df = pd.DataFrame.from_dict(predictions_count, orient ='index', columns =['Predictions'])\n",
    "\n",
    "y_test_count = dict(Counter(y_test))\n",
    "y_test_count_df = pd.DataFrame.from_dict(y_test_count, orient ='index', columns =['Actuals'])\n",
    "\n",
    "KNN_df = pd.concat([predictions_count_df, y_test_count_df], axis=1).fillna(0)"
   ]
  },
  {
   "cell_type": "code",
   "execution_count": 283,
   "metadata": {},
   "outputs": [
    {
     "data": {
      "image/png": "[encoded data removed]",
      "text/plain": [
       "<Figure size 1440x720 with 1 Axes>"
      ]
     },
     "metadata": {
      "needs_background": "light"
     },
     "output_type": "display_data"
    }
   ],
   "source": [
    "random_forest_df.plot.bar(rot=0, figsize=(20,10))\n",
    "\n",
    "plt.title('Comparison between Actual Reviews and Predicted Reviews (KNN)',fontsize=30)\n",
    "\n",
    "plt.xlabel('Rating',fontsize=25)\n",
    "plt.xticks(fontsize=20)\n",
    "plt.ylabel('Count',fontsize=25)\n",
    "plt.yticks(fontsize=20)\n",
    "plt.legend(fontsize=20);"
   ]
  },
  {
   "cell_type": "markdown",
   "metadata": {},
   "source": [
    "# SVM"
   ]
  },
  {
   "cell_type": "code",
   "execution_count": 284,
   "metadata": {},
   "outputs": [
    {
     "data": {
      "text/plain": [
       "SVC(class_weight='balanced', kernel='linear', random_state=0)"
      ]
     },
     "execution_count": 284,
     "metadata": {},
     "output_type": "execute_result"
    }
   ],
   "source": [
    "SVC_classifier = SVC(kernel='linear', class_weight='balanced',random_state=0)\n",
    "SVC_classifier.fit(X_train, y_train)"
   ]
  },
  {
   "cell_type": "code",
   "execution_count": 285,
   "metadata": {},
   "outputs": [
    {
     "data": {
      "text/plain": [
       "array([5., 4., 1., ..., 5., 2., 1.])"
      ]
     },
     "execution_count": 285,
     "metadata": {},
     "output_type": "execute_result"
    }
   ],
   "source": [
    "SVC_predictions = SVC_classifier.predict(X_test)\n",
    "SVC_predictions"
   ]
  },
  {
   "cell_type": "markdown",
   "metadata": {},
   "source": [
    "## Results"
   ]
  },
  {
   "cell_type": "markdown",
   "metadata": {},
   "source": [
    "### Confusion Matrix"
   ]
  },
  {
   "cell_type": "code",
   "execution_count": 286,
   "metadata": {
    "scrolled": true
   },
   "outputs": [
    {
     "name": "stdout",
     "output_type": "stream",
     "text": [
      "[[ 61  20   7  10   7]\n",
      " [ 18  10  11   9   8]\n",
      " [ 13  10  28  26  14]\n",
      " [  9   4  17  51  37]\n",
      " [ 31  20  48 123 506]]\n"
     ]
    }
   ],
   "source": [
    "print(confusion_matrix(y_test, SVC_predictions))"
   ]
  },
  {
   "cell_type": "markdown",
   "metadata": {},
   "source": [
    "### Classification Report"
   ]
  },
  {
   "cell_type": "code",
   "execution_count": 287,
   "metadata": {},
   "outputs": [
    {
     "name": "stdout",
     "output_type": "stream",
     "text": [
      "              precision    recall  f1-score   support\n",
      "\n",
      "         1.0       0.46      0.58      0.51       105\n",
      "         2.0       0.16      0.18      0.17        56\n",
      "         3.0       0.25      0.31      0.28        91\n",
      "         4.0       0.23      0.43      0.30       118\n",
      "         5.0       0.88      0.70      0.78       728\n",
      "\n",
      "    accuracy                           0.60      1098\n",
      "   macro avg       0.40      0.44      0.41      1098\n",
      "weighted avg       0.68      0.60      0.63      1098\n",
      "\n"
     ]
    }
   ],
   "source": [
    "print(classification_report(y_test, SVC_predictions))"
   ]
  },
  {
   "cell_type": "markdown",
   "metadata": {},
   "source": [
    "### Accuracy Score"
   ]
  },
  {
   "cell_type": "code",
   "execution_count": 288,
   "metadata": {},
   "outputs": [
    {
     "name": "stdout",
     "output_type": "stream",
     "text": [
      "0.5974499089253188\n"
     ]
    }
   ],
   "source": [
    "print(accuracy_score(y_test, SVC_predictions))"
   ]
  },
  {
   "cell_type": "code",
   "execution_count": 289,
   "metadata": {
    "scrolled": true
   },
   "outputs": [
    {
     "data": {
      "text/html": [
       "<div>\n",
       "<style scoped>\n",
       "    .dataframe tbody tr th:only-of-type {\n",
       "        vertical-align: middle;\n",
       "    }\n",
       "\n",
       "    .dataframe tbody tr th {\n",
       "        vertical-align: top;\n",
       "    }\n",
       "\n",
       "    .dataframe thead th {\n",
       "        text-align: right;\n",
       "    }\n",
       "</style>\n",
       "<table border=\"1\" class=\"dataframe\">\n",
       "  <thead>\n",
       "    <tr style=\"text-align: right;\">\n",
       "      <th></th>\n",
       "      <th>Model</th>\n",
       "      <th>Accuracy</th>\n",
       "    </tr>\n",
       "  </thead>\n",
       "  <tbody>\n",
       "    <tr>\n",
       "      <th>0</th>\n",
       "      <td>Logistic Regression</td>\n",
       "      <td>0.598361</td>\n",
       "    </tr>\n",
       "    <tr>\n",
       "      <th>1</th>\n",
       "      <td>RF</td>\n",
       "      <td>0.611111</td>\n",
       "    </tr>\n",
       "    <tr>\n",
       "      <th>2</th>\n",
       "      <td>KNN</td>\n",
       "      <td>0.662113</td>\n",
       "    </tr>\n",
       "    <tr>\n",
       "      <th>3</th>\n",
       "      <td>SVC</td>\n",
       "      <td>0.597450</td>\n",
       "    </tr>\n",
       "  </tbody>\n",
       "</table>\n",
       "</div>"
      ],
      "text/plain": [
       "                 Model  Accuracy\n",
       "0  Logistic Regression  0.598361\n",
       "1                   RF  0.611111\n",
       "2                  KNN  0.662113\n",
       "3                  SVC  0.597450"
      ]
     },
     "execution_count": 289,
     "metadata": {},
     "output_type": "execute_result"
    }
   ],
   "source": [
    "accuracy_results = accuracy_results.append({'Model':'SVC', 'Accuracy':accuracy_score(y_test, SVC_predictions)},ignore_index=True)\n",
    "accuracy_results"
   ]
  },
  {
   "cell_type": "markdown",
   "metadata": {},
   "source": [
    "### Plot Comparison between Actuals and Predicted"
   ]
  },
  {
   "cell_type": "code",
   "execution_count": 290,
   "metadata": {},
   "outputs": [],
   "source": [
    "predictions_count = dict(Counter(SVC_predictions))\n",
    "predictions_count_df = pd.DataFrame.from_dict(predictions_count, orient ='index', columns =['Predictions'])\n",
    "\n",
    "y_test_count = dict(Counter(y_test))\n",
    "y_test_count_df = pd.DataFrame.from_dict(y_test_count, orient ='index', columns =['Actuals'])\n",
    "\n",
    "KNN_df = pd.concat([predictions_count_df, y_test_count_df], axis=1).fillna(0)"
   ]
  },
  {
   "cell_type": "code",
   "execution_count": 291,
   "metadata": {},
   "outputs": [
    {
     "data": {
      "image/png": "[encoded data removed]",
      "text/plain": [
       "<Figure size 1440x720 with 1 Axes>"
      ]
     },
     "metadata": {
      "needs_background": "light"
     },
     "output_type": "display_data"
    }
   ],
   "source": [
    "random_forest_df.plot.bar(rot=0, figsize=(20,10))\n",
    "\n",
    "plt.title('Comparison between Actual Reviews and Predicted Reviews (KNN)',fontsize=30)\n",
    "\n",
    "plt.xlabel('Rating',fontsize=25)\n",
    "plt.xticks(fontsize=20)\n",
    "plt.ylabel('Count',fontsize=25)\n",
    "plt.yticks(fontsize=20)\n",
    "plt.legend(fontsize=20);"
   ]
  },
  {
   "cell_type": "markdown",
   "metadata": {},
   "source": [
    "# Sentiment Analyzer using NLTK Module Vader\n",
    "\n",
    "* works well with social media type text\n",
    "* doesn't require any training data and is constructed using human-curated sentiment lexicon"
   ]
  },
  {
   "cell_type": "code",
   "execution_count": 292,
   "metadata": {},
   "outputs": [],
   "source": [
    "from vaderSentiment.vaderSentiment import SentimentIntensityAnalyzer\n",
    "analyser = SentimentIntensityAnalyzer()"
   ]
  },
  {
   "cell_type": "code",
   "execution_count": 293,
   "metadata": {},
   "outputs": [],
   "source": [
    "def sentiment_analyzer_scores(sentence):\n",
    "    # polarity_scores: ranging from -1 (most neg) to 1 (most pos)\n",
    "    score = analyser.polarity_scores(sentence)\n",
    "    return score # {neg: Negative, neu: Neutral, pos: Positive, compound: Aggregated Score}"
   ]
  },
  {
   "cell_type": "code",
   "execution_count": 294,
   "metadata": {},
   "outputs": [],
   "source": [
    "def compound_score(text):\n",
    "    comp=sentiment_analyzer_scores(text)\n",
    "    return comp['compound'] # returns the compound score from the dictionary"
   ]
  },
  {
   "cell_type": "code",
   "execution_count": 295,
   "metadata": {},
   "outputs": [],
   "source": [
    "# applying on the reviews column to get the score\n",
    "final_df['sentiment_score'] = final_df['review_description'].apply(lambda x:compound_score(x))"
   ]
  },
  {
   "cell_type": "code",
   "execution_count": 296,
   "metadata": {},
   "outputs": [
    {
     "data": {
      "text/html": [
       "<div>\n",
       "<style scoped>\n",
       "    .dataframe tbody tr th:only-of-type {\n",
       "        vertical-align: middle;\n",
       "    }\n",
       "\n",
       "    .dataframe tbody tr th {\n",
       "        vertical-align: top;\n",
       "    }\n",
       "\n",
       "    .dataframe thead th {\n",
       "        text-align: right;\n",
       "    }\n",
       "</style>\n",
       "<table border=\"1\" class=\"dataframe\">\n",
       "  <thead>\n",
       "    <tr style=\"text-align: right;\">\n",
       "      <th></th>\n",
       "      <th>asin_id</th>\n",
       "      <th>name</th>\n",
       "      <th>price</th>\n",
       "      <th>avg_rating</th>\n",
       "      <th>no_of_ratings</th>\n",
       "      <th>review_id</th>\n",
       "      <th>review_title</th>\n",
       "      <th>review_description</th>\n",
       "      <th>user_rating</th>\n",
       "      <th>cleaned_title</th>\n",
       "      <th>cleaned_reviews</th>\n",
       "      <th>sentiment_score</th>\n",
       "    </tr>\n",
       "  </thead>\n",
       "  <tbody>\n",
       "    <tr>\n",
       "      <th>0</th>\n",
       "      <td>B076HK9H7Z</td>\n",
       "      <td>Sorry! Game</td>\n",
       "      <td>0.0</td>\n",
       "      <td>4.7</td>\n",
       "      <td>7555</td>\n",
       "      <td>R1OSPWS88F2CUZ</td>\n",
       "      <td>DO NOT BUY!!!</td>\n",
       "      <td>I would give this zero stars if I could! If ...</td>\n",
       "      <td>1.0</td>\n",
       "      <td>buy</td>\n",
       "      <td>would give zero star could youre original sorr...</td>\n",
       "      <td>0.8548</td>\n",
       "    </tr>\n",
       "    <tr>\n",
       "      <th>1</th>\n",
       "      <td>B076HK9H7Z</td>\n",
       "      <td>Sorry! Game</td>\n",
       "      <td>0.0</td>\n",
       "      <td>4.7</td>\n",
       "      <td>7555</td>\n",
       "      <td>R1DCFJ8VYSN17B</td>\n",
       "      <td>Is this the millennial version?</td>\n",
       "      <td>This is not the original sorry game. It only...</td>\n",
       "      <td>1.0</td>\n",
       "      <td>millennial version</td>\n",
       "      <td>original sorry game pawn per team instead trad...</td>\n",
       "      <td>-0.4873</td>\n",
       "    </tr>\n",
       "    <tr>\n",
       "      <th>2</th>\n",
       "      <td>B076HK9H7Z</td>\n",
       "      <td>Sorry! Game</td>\n",
       "      <td>0.0</td>\n",
       "      <td>4.7</td>\n",
       "      <td>7555</td>\n",
       "      <td>R1V07N4GXA7RSL</td>\n",
       "      <td>Wimp and Crybaby Edition</td>\n",
       "      <td>We bought this to replace our old Sorry game...</td>\n",
       "      <td>1.0</td>\n",
       "      <td>wimp crybaby edition</td>\n",
       "      <td>buy replace old sorry game fall apart wish rea...</td>\n",
       "      <td>0.2885</td>\n",
       "    </tr>\n",
       "    <tr>\n",
       "      <th>3</th>\n",
       "      <td>B076HK9H7Z</td>\n",
       "      <td>Sorry! Game</td>\n",
       "      <td>0.0</td>\n",
       "      <td>4.7</td>\n",
       "      <td>7555</td>\n",
       "      <td>R2Z262NZDEU2EY</td>\n",
       "      <td>NOT the original/regular Sorry!</td>\n",
       "      <td>Be warned that this is not the sorry you gre...</td>\n",
       "      <td>2.0</td>\n",
       "      <td>originalregular sorry</td>\n",
       "      <td>warn sorry grow three token per player rule di...</td>\n",
       "      <td>0.8726</td>\n",
       "    </tr>\n",
       "    <tr>\n",
       "      <th>4</th>\n",
       "      <td>B076HK9H7Z</td>\n",
       "      <td>Sorry! Game</td>\n",
       "      <td>0.0</td>\n",
       "      <td>4.7</td>\n",
       "      <td>7555</td>\n",
       "      <td>RG3XIFV1PUX9Y</td>\n",
       "      <td>Not the classic by a long shot, but okay.</td>\n",
       "      <td>Definitely not the classic game, with only 3...</td>\n",
       "      <td>4.0</td>\n",
       "      <td>classic long shot okay</td>\n",
       "      <td>definitely classic game pawn card instead dice...</td>\n",
       "      <td>0.9565</td>\n",
       "    </tr>\n",
       "  </tbody>\n",
       "</table>\n",
       "</div>"
      ],
      "text/plain": [
       "      asin_id         name  price  avg_rating  no_of_ratings       review_id  \\\n",
       "0  B076HK9H7Z  Sorry! Game    0.0         4.7           7555  R1OSPWS88F2CUZ   \n",
       "1  B076HK9H7Z  Sorry! Game    0.0         4.7           7555  R1DCFJ8VYSN17B   \n",
       "2  B076HK9H7Z  Sorry! Game    0.0         4.7           7555  R1V07N4GXA7RSL   \n",
       "3  B076HK9H7Z  Sorry! Game    0.0         4.7           7555  R2Z262NZDEU2EY   \n",
       "4  B076HK9H7Z  Sorry! Game    0.0         4.7           7555   RG3XIFV1PUX9Y   \n",
       "\n",
       "                                review_title  \\\n",
       "0                              DO NOT BUY!!!   \n",
       "1            Is this the millennial version?   \n",
       "2                   Wimp and Crybaby Edition   \n",
       "3            NOT the original/regular Sorry!   \n",
       "4  Not the classic by a long shot, but okay.   \n",
       "\n",
       "                                  review_description  user_rating  \\\n",
       "0    I would give this zero stars if I could! If ...          1.0   \n",
       "1    This is not the original sorry game. It only...          1.0   \n",
       "2    We bought this to replace our old Sorry game...          1.0   \n",
       "3    Be warned that this is not the sorry you gre...          2.0   \n",
       "4    Definitely not the classic game, with only 3...          4.0   \n",
       "\n",
       "            cleaned_title                                    cleaned_reviews  \\\n",
       "0                     buy  would give zero star could youre original sorr...   \n",
       "1      millennial version  original sorry game pawn per team instead trad...   \n",
       "2    wimp crybaby edition  buy replace old sorry game fall apart wish rea...   \n",
       "3   originalregular sorry  warn sorry grow three token per player rule di...   \n",
       "4  classic long shot okay  definitely classic game pawn card instead dice...   \n",
       "\n",
       "   sentiment_score  \n",
       "0           0.8548  \n",
       "1          -0.4873  \n",
       "2           0.2885  \n",
       "3           0.8726  \n",
       "4           0.9565  "
      ]
     },
     "execution_count": 296,
     "metadata": {},
     "output_type": "execute_result"
    }
   ],
   "source": [
    "final_df.head()"
   ]
  },
  {
   "cell_type": "code",
   "execution_count": 297,
   "metadata": {},
   "outputs": [],
   "source": [
    "def sentiment_category(score):\n",
    "    if score >= 0.6:\n",
    "        return 5.0\n",
    "    elif score >= 0.2:\n",
    "        return 4.0\n",
    "    elif score >= -0.2:\n",
    "        return 3.0\n",
    "    elif score >= -0.6:\n",
    "        return 2.0\n",
    "    else:\n",
    "        return 1.0"
   ]
  },
  {
   "cell_type": "code",
   "execution_count": 298,
   "metadata": {},
   "outputs": [],
   "source": [
    "final_df['sentiment_score_rating'] = final_df['sentiment_score'].apply(lambda x: sentiment_category(x))"
   ]
  },
  {
   "cell_type": "code",
   "execution_count": 299,
   "metadata": {},
   "outputs": [
    {
     "data": {
      "text/html": [
       "<div>\n",
       "<style scoped>\n",
       "    .dataframe tbody tr th:only-of-type {\n",
       "        vertical-align: middle;\n",
       "    }\n",
       "\n",
       "    .dataframe tbody tr th {\n",
       "        vertical-align: top;\n",
       "    }\n",
       "\n",
       "    .dataframe thead th {\n",
       "        text-align: right;\n",
       "    }\n",
       "</style>\n",
       "<table border=\"1\" class=\"dataframe\">\n",
       "  <thead>\n",
       "    <tr style=\"text-align: right;\">\n",
       "      <th></th>\n",
       "      <th>asin_id</th>\n",
       "      <th>name</th>\n",
       "      <th>price</th>\n",
       "      <th>avg_rating</th>\n",
       "      <th>no_of_ratings</th>\n",
       "      <th>review_id</th>\n",
       "      <th>review_title</th>\n",
       "      <th>review_description</th>\n",
       "      <th>user_rating</th>\n",
       "      <th>cleaned_title</th>\n",
       "      <th>cleaned_reviews</th>\n",
       "      <th>sentiment_score</th>\n",
       "      <th>sentiment_score_rating</th>\n",
       "    </tr>\n",
       "  </thead>\n",
       "  <tbody>\n",
       "    <tr>\n",
       "      <th>0</th>\n",
       "      <td>B076HK9H7Z</td>\n",
       "      <td>Sorry! Game</td>\n",
       "      <td>0.0</td>\n",
       "      <td>4.7</td>\n",
       "      <td>7555</td>\n",
       "      <td>R1OSPWS88F2CUZ</td>\n",
       "      <td>DO NOT BUY!!!</td>\n",
       "      <td>I would give this zero stars if I could! If ...</td>\n",
       "      <td>1.0</td>\n",
       "      <td>buy</td>\n",
       "      <td>would give zero star could youre original sorr...</td>\n",
       "      <td>0.8548</td>\n",
       "      <td>5.0</td>\n",
       "    </tr>\n",
       "    <tr>\n",
       "      <th>1</th>\n",
       "      <td>B076HK9H7Z</td>\n",
       "      <td>Sorry! Game</td>\n",
       "      <td>0.0</td>\n",
       "      <td>4.7</td>\n",
       "      <td>7555</td>\n",
       "      <td>R1DCFJ8VYSN17B</td>\n",
       "      <td>Is this the millennial version?</td>\n",
       "      <td>This is not the original sorry game. It only...</td>\n",
       "      <td>1.0</td>\n",
       "      <td>millennial version</td>\n",
       "      <td>original sorry game pawn per team instead trad...</td>\n",
       "      <td>-0.4873</td>\n",
       "      <td>2.0</td>\n",
       "    </tr>\n",
       "    <tr>\n",
       "      <th>2</th>\n",
       "      <td>B076HK9H7Z</td>\n",
       "      <td>Sorry! Game</td>\n",
       "      <td>0.0</td>\n",
       "      <td>4.7</td>\n",
       "      <td>7555</td>\n",
       "      <td>R1V07N4GXA7RSL</td>\n",
       "      <td>Wimp and Crybaby Edition</td>\n",
       "      <td>We bought this to replace our old Sorry game...</td>\n",
       "      <td>1.0</td>\n",
       "      <td>wimp crybaby edition</td>\n",
       "      <td>buy replace old sorry game fall apart wish rea...</td>\n",
       "      <td>0.2885</td>\n",
       "      <td>4.0</td>\n",
       "    </tr>\n",
       "    <tr>\n",
       "      <th>3</th>\n",
       "      <td>B076HK9H7Z</td>\n",
       "      <td>Sorry! Game</td>\n",
       "      <td>0.0</td>\n",
       "      <td>4.7</td>\n",
       "      <td>7555</td>\n",
       "      <td>R2Z262NZDEU2EY</td>\n",
       "      <td>NOT the original/regular Sorry!</td>\n",
       "      <td>Be warned that this is not the sorry you gre...</td>\n",
       "      <td>2.0</td>\n",
       "      <td>originalregular sorry</td>\n",
       "      <td>warn sorry grow three token per player rule di...</td>\n",
       "      <td>0.8726</td>\n",
       "      <td>5.0</td>\n",
       "    </tr>\n",
       "    <tr>\n",
       "      <th>4</th>\n",
       "      <td>B076HK9H7Z</td>\n",
       "      <td>Sorry! Game</td>\n",
       "      <td>0.0</td>\n",
       "      <td>4.7</td>\n",
       "      <td>7555</td>\n",
       "      <td>RG3XIFV1PUX9Y</td>\n",
       "      <td>Not the classic by a long shot, but okay.</td>\n",
       "      <td>Definitely not the classic game, with only 3...</td>\n",
       "      <td>4.0</td>\n",
       "      <td>classic long shot okay</td>\n",
       "      <td>definitely classic game pawn card instead dice...</td>\n",
       "      <td>0.9565</td>\n",
       "      <td>5.0</td>\n",
       "    </tr>\n",
       "  </tbody>\n",
       "</table>\n",
       "</div>"
      ],
      "text/plain": [
       "      asin_id         name  price  avg_rating  no_of_ratings       review_id  \\\n",
       "0  B076HK9H7Z  Sorry! Game    0.0         4.7           7555  R1OSPWS88F2CUZ   \n",
       "1  B076HK9H7Z  Sorry! Game    0.0         4.7           7555  R1DCFJ8VYSN17B   \n",
       "2  B076HK9H7Z  Sorry! Game    0.0         4.7           7555  R1V07N4GXA7RSL   \n",
       "3  B076HK9H7Z  Sorry! Game    0.0         4.7           7555  R2Z262NZDEU2EY   \n",
       "4  B076HK9H7Z  Sorry! Game    0.0         4.7           7555   RG3XIFV1PUX9Y   \n",
       "\n",
       "                                review_title  \\\n",
       "0                              DO NOT BUY!!!   \n",
       "1            Is this the millennial version?   \n",
       "2                   Wimp and Crybaby Edition   \n",
       "3            NOT the original/regular Sorry!   \n",
       "4  Not the classic by a long shot, but okay.   \n",
       "\n",
       "                                  review_description  user_rating  \\\n",
       "0    I would give this zero stars if I could! If ...          1.0   \n",
       "1    This is not the original sorry game. It only...          1.0   \n",
       "2    We bought this to replace our old Sorry game...          1.0   \n",
       "3    Be warned that this is not the sorry you gre...          2.0   \n",
       "4    Definitely not the classic game, with only 3...          4.0   \n",
       "\n",
       "            cleaned_title                                    cleaned_reviews  \\\n",
       "0                     buy  would give zero star could youre original sorr...   \n",
       "1      millennial version  original sorry game pawn per team instead trad...   \n",
       "2    wimp crybaby edition  buy replace old sorry game fall apart wish rea...   \n",
       "3   originalregular sorry  warn sorry grow three token per player rule di...   \n",
       "4  classic long shot okay  definitely classic game pawn card instead dice...   \n",
       "\n",
       "   sentiment_score  sentiment_score_rating  \n",
       "0           0.8548                     5.0  \n",
       "1          -0.4873                     2.0  \n",
       "2           0.2885                     4.0  \n",
       "3           0.8726                     5.0  \n",
       "4           0.9565                     5.0  "
      ]
     },
     "execution_count": 299,
     "metadata": {},
     "output_type": "execute_result"
    }
   ],
   "source": [
    "final_df.head()"
   ]
  },
  {
   "cell_type": "markdown",
   "metadata": {},
   "source": [
    "## Results"
   ]
  },
  {
   "cell_type": "markdown",
   "metadata": {},
   "source": [
    "### Confusion Matrix"
   ]
  },
  {
   "cell_type": "code",
   "execution_count": 300,
   "metadata": {},
   "outputs": [
    {
     "data": {
      "text/plain": [
       "array([[ 122,  105,   87,  103,  149],\n",
       "       [  43,   42,   33,   39,  121],\n",
       "       [  33,   39,   42,   72,  258],\n",
       "       [  23,   24,   23,   69,  565],\n",
       "       [  30,   52,   80,  209, 3124]])"
      ]
     },
     "execution_count": 300,
     "metadata": {},
     "output_type": "execute_result"
    }
   ],
   "source": [
    "cnf_matrix = confusion_matrix(final_df['user_rating'],final_df['sentiment_score_rating'])\n",
    "cnf_matrix"
   ]
  },
  {
   "cell_type": "markdown",
   "metadata": {},
   "source": [
    "### Classification Report"
   ]
  },
  {
   "cell_type": "code",
   "execution_count": 301,
   "metadata": {},
   "outputs": [
    {
     "name": "stdout",
     "output_type": "stream",
     "text": [
      "              precision    recall  f1-score   support\n",
      "\n",
      "         1.0       0.49      0.22      0.30       566\n",
      "         2.0       0.16      0.15      0.16       278\n",
      "         3.0       0.16      0.09      0.12       444\n",
      "         4.0       0.14      0.10      0.12       704\n",
      "         5.0       0.74      0.89      0.81      3495\n",
      "\n",
      "    accuracy                           0.62      5487\n",
      "   macro avg       0.34      0.29      0.30      5487\n",
      "weighted avg       0.56      0.62      0.58      5487\n",
      "\n"
     ]
    }
   ],
   "source": [
    "print(classification_report(final_df['user_rating'],final_df['sentiment_score_rating']))"
   ]
  },
  {
   "cell_type": "markdown",
   "metadata": {},
   "source": [
    "### Accuracy Score"
   ]
  },
  {
   "cell_type": "code",
   "execution_count": 302,
   "metadata": {},
   "outputs": [
    {
     "data": {
      "text/plain": [
       "0.6194641880809185"
      ]
     },
     "execution_count": 302,
     "metadata": {},
     "output_type": "execute_result"
    }
   ],
   "source": [
    "from sklearn.metrics import accuracy_score\n",
    "vader_accuracy_score = accuracy_score(final_df['user_rating'],final_df['sentiment_score_rating'])\n",
    "vader_accuracy_score"
   ]
  },
  {
   "cell_type": "code",
   "execution_count": 303,
   "metadata": {},
   "outputs": [
    {
     "data": {
      "text/html": [
       "<div>\n",
       "<style scoped>\n",
       "    .dataframe tbody tr th:only-of-type {\n",
       "        vertical-align: middle;\n",
       "    }\n",
       "\n",
       "    .dataframe tbody tr th {\n",
       "        vertical-align: top;\n",
       "    }\n",
       "\n",
       "    .dataframe thead th {\n",
       "        text-align: right;\n",
       "    }\n",
       "</style>\n",
       "<table border=\"1\" class=\"dataframe\">\n",
       "  <thead>\n",
       "    <tr style=\"text-align: right;\">\n",
       "      <th></th>\n",
       "      <th>Model</th>\n",
       "      <th>Accuracy</th>\n",
       "    </tr>\n",
       "  </thead>\n",
       "  <tbody>\n",
       "    <tr>\n",
       "      <th>0</th>\n",
       "      <td>Logistic Regression</td>\n",
       "      <td>0.598361</td>\n",
       "    </tr>\n",
       "    <tr>\n",
       "      <th>1</th>\n",
       "      <td>RF</td>\n",
       "      <td>0.611111</td>\n",
       "    </tr>\n",
       "    <tr>\n",
       "      <th>2</th>\n",
       "      <td>KNN</td>\n",
       "      <td>0.662113</td>\n",
       "    </tr>\n",
       "    <tr>\n",
       "      <th>3</th>\n",
       "      <td>SVC</td>\n",
       "      <td>0.597450</td>\n",
       "    </tr>\n",
       "    <tr>\n",
       "      <th>4</th>\n",
       "      <td>Vader</td>\n",
       "      <td>0.619464</td>\n",
       "    </tr>\n",
       "  </tbody>\n",
       "</table>\n",
       "</div>"
      ],
      "text/plain": [
       "                 Model  Accuracy\n",
       "0  Logistic Regression  0.598361\n",
       "1                   RF  0.611111\n",
       "2                  KNN  0.662113\n",
       "3                  SVC  0.597450\n",
       "4                Vader  0.619464"
      ]
     },
     "execution_count": 303,
     "metadata": {},
     "output_type": "execute_result"
    }
   ],
   "source": [
    "accuracy_results = accuracy_results.append({'Model':'Vader', 'Accuracy':vader_accuracy_score},ignore_index=True)\n",
    "accuracy_results"
   ]
  },
  {
   "cell_type": "markdown",
   "metadata": {},
   "source": [
    "### Plot Comparison between Actuals and Predicted"
   ]
  },
  {
   "cell_type": "code",
   "execution_count": 304,
   "metadata": {
    "scrolled": false
   },
   "outputs": [
    {
     "data": {
      "image/png": "[encoded data removed]",
      "text/plain": [
       "<Figure size 1440x720 with 1 Axes>"
      ]
     },
     "metadata": {
      "needs_background": "light"
     },
     "output_type": "display_data"
    }
   ],
   "source": [
    "review_rating_counts = final_df['user_rating'].value_counts()\n",
    "sentiment_score_rating_counts = final_df['sentiment_score_rating'].value_counts()\n",
    "\n",
    "review_df = pd.concat([review_rating_counts, sentiment_score_rating_counts], axis=1)\n",
    "\n",
    "review_df.plot.bar(rot=0, figsize=(20,10))\n",
    "\n",
    "plt.title('Comparison between Actual Reviews and Predicted Reviews',fontsize=30)\n",
    "\n",
    "plt.xlabel('Rating',fontsize=25)\n",
    "plt.xticks(fontsize=20)\n",
    "plt.ylabel('Count',fontsize=25)\n",
    "plt.yticks(fontsize=20)\n",
    "plt.legend(fontsize=20);"
   ]
  },
  {
   "cell_type": "markdown",
   "metadata": {},
   "source": [
    "# Predictive Accuracy Results"
   ]
  },
  {
   "cell_type": "code",
   "execution_count": 305,
   "metadata": {},
   "outputs": [
    {
     "data": {
      "text/html": [
       "<div>\n",
       "<style scoped>\n",
       "    .dataframe tbody tr th:only-of-type {\n",
       "        vertical-align: middle;\n",
       "    }\n",
       "\n",
       "    .dataframe tbody tr th {\n",
       "        vertical-align: top;\n",
       "    }\n",
       "\n",
       "    .dataframe thead th {\n",
       "        text-align: right;\n",
       "    }\n",
       "</style>\n",
       "<table border=\"1\" class=\"dataframe\">\n",
       "  <thead>\n",
       "    <tr style=\"text-align: right;\">\n",
       "      <th></th>\n",
       "      <th>Model</th>\n",
       "      <th>Accuracy</th>\n",
       "    </tr>\n",
       "  </thead>\n",
       "  <tbody>\n",
       "    <tr>\n",
       "      <th>0</th>\n",
       "      <td>Logistic Regression</td>\n",
       "      <td>0.598361</td>\n",
       "    </tr>\n",
       "    <tr>\n",
       "      <th>1</th>\n",
       "      <td>RF</td>\n",
       "      <td>0.611111</td>\n",
       "    </tr>\n",
       "    <tr>\n",
       "      <th>2</th>\n",
       "      <td>KNN</td>\n",
       "      <td>0.662113</td>\n",
       "    </tr>\n",
       "    <tr>\n",
       "      <th>3</th>\n",
       "      <td>SVC</td>\n",
       "      <td>0.597450</td>\n",
       "    </tr>\n",
       "    <tr>\n",
       "      <th>4</th>\n",
       "      <td>Vader</td>\n",
       "      <td>0.619464</td>\n",
       "    </tr>\n",
       "  </tbody>\n",
       "</table>\n",
       "</div>"
      ],
      "text/plain": [
       "                 Model  Accuracy\n",
       "0  Logistic Regression  0.598361\n",
       "1                   RF  0.611111\n",
       "2                  KNN  0.662113\n",
       "3                  SVC  0.597450\n",
       "4                Vader  0.619464"
      ]
     },
     "execution_count": 305,
     "metadata": {},
     "output_type": "execute_result"
    }
   ],
   "source": [
    "accuracy_results"
   ]
  },
  {
   "cell_type": "code",
   "execution_count": 306,
   "metadata": {},
   "outputs": [
    {
     "data": {
      "image/png": "[encoded data removed]",
      "text/plain": [
       "<Figure size 1440x720 with 1 Axes>"
      ]
     },
     "metadata": {
      "needs_background": "light"
     },
     "output_type": "display_data"
    }
   ],
   "source": [
    "accuracy_results.plot.bar('Model','Accuracy', rot=15, figsize=(20,10))\n",
    "\n",
    "plt.title('Predictive Accuracy Results',fontsize=30)\n",
    "plt.xlabel('Model',fontsize=25)\n",
    "plt.xticks(fontsize=20)\n",
    "plt.ylabel('Accuracy (%)',fontsize=25)\n",
    "plt.yticks(fontsize=20)\n",
    "plt.ylim(0, 1.0)\n",
    "\n",
    "plt.legend().remove();"
   ]
  }
 ],
 "metadata": {
  "kernelspec": {
   "display_name": "Python [conda env:learn-env] *",
   "language": "python",
   "name": "conda-env-learn-env-py"
  },
  "language_info": {
   "codemirror_mode": {
    "name": "ipython",
    "version": 3
   },
   "file_extension": ".py",
   "mimetype": "text/x-python",
   "name": "python",
   "nbconvert_exporter": "python",
   "pygments_lexer": "ipython3",
   "version": "3.6.9"
  },
  "toc": {
   "base_numbering": 1,
   "nav_menu": {},
   "number_sections": true,
   "sideBar": true,
   "skip_h1_title": false,
   "title_cell": "Table of Contents",
   "title_sidebar": "Contents",
   "toc_cell": false,
   "toc_position": {},
   "toc_section_display": true,
   "toc_window_display": true
  }
 },
 "nbformat": 4,
 "nbformat_minor": 2
}
